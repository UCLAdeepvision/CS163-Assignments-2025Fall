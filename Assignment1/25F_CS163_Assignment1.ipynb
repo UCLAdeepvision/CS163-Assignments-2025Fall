{
  "cells": [
    {
      "cell_type": "markdown",
      "metadata": {
        "id": "fDiXl4ay5UM8"
      },
      "source": [
        "# Assignment 1: Deep Learning Basics\n",
        "\n",
        "Welcome to the first assignment of CS163 Computer Vision course!\n",
        "\n",
        "First of all, please type your information below."
      ]
    },
    {
      "cell_type": "code",
      "execution_count": null,
      "metadata": {
        "id": "rIeH92UsBmbO"
      },
      "outputs": [],
      "source": [
        "#@title Your Info { display-mode: \"form\" }\n",
        "\n",
        "Name = ' '  #@param {type:\"string\"}\n",
        "UID = ' '  #@param {type:\"string\"}"
      ]
    },
    {
      "cell_type": "markdown",
      "metadata": {
        "id": "3y9NzXD89qUJ"
      },
      "source": [
        "## Goals\n",
        "In the first assignment, you will learn:\n",
        "* How to use Google Colab\n",
        "* How to implement a PyTorch data loader to load and preprocess the MiniPlaces dataset.\n",
        "* How to implement a linear/logistic/softmax regression classifier\n",
        "* How to build and train a fully-connected neural network from scratch and using built-in PyTorch modules.\n",
        "\n",
        "\n",
        "Free free to raise issues in the Piazza forum if you find any bugs or have any questions about the assignment.\n",
        "\n",
        "Please do not directly copy code from other sources and use any Code AI to finish the assignment.\n",
        "\n",
        "You could either complete the assignment using a GPU or CPU runtime. As the computation is not heavy for this assignment, there will not be much difference between GPU and CPU. Update: You can apply for Colab Pro for free using your university email!\n",
        "\n",
        "This assignment is due on **Sunday, Oct 19**. Good luck with your work!\n",
        "\n",
        "❗**Once you have finished all the questions, it will still take approximately *60 minutes* to re-run the entire notebook in order to prepare the submission version. Make sure to allocate enough time for this task and start early.**"
      ]
    },
    {
      "cell_type": "markdown",
      "metadata": {
        "id": "U62cf5KB5Xbp"
      },
      "source": [
        "## Getting Started\n",
        "\n",
        "\n",
        "### Overview\n",
        "\n",
        "In this assignment, you will be working with the [MiniPlaces dataset](https://github.com/CSAILVision/miniplaces), a small-scale version of the [Places2 dataset](http://places2.csail.mit.edu/), which is a large-scale dataset of scene images (10+ million images) with a wide variety of real-world environments (400+ unique scene categories). The MiniPlaces dataset is a subset of the [Places2 dataset](http://places2.csail.mit.edu/) led by Prof. Bolei Zhou and contains 100,000 images for training, 10,000 images for validation, and 10,000 images for testing, each of which has been annotated with one of 100 different scene categories. These images are divided into three folders: train, val, and test.\n",
        "\n",
        "The MiniPlaces dataset is a useful resource for developing and testing image classification models, particularly those that are designed to recognize different types of environments and scenes.\n",
        "\n",
        "In this assignment, you will use PyTorch to load the MiniPlaces dataset and compare different image classification methods including linear/logistic/softmax regression classifier and a fully-connected neural network.\n",
        "\n",
        "Throughout the course, we will be using [PyTorch](https://pytorch.org/) for building and training different neural networks. It would be highly beneficial to go through the PyTorch [tutorials](https://pytorch.org/tutorials/) and get familiar with its APIs.\n",
        "\n",
        "---\n"
      ]
    },
    {
      "cell_type": "markdown",
      "metadata": {
        "id": "5SIGjL2GBmOw"
      },
      "source": [
        "## Q0: Data Preparation(0 pts)\n",
        "\n",
        "Colab is a cloud-based service that allows users to write and run code in a Jupyter notebook-style enviroment. Colab provides users with temporary virtual machines to run their code on.\n",
        "\n",
        "For file storage, Colab provides users with access to a variety of storage options, including temporary storage space and Google Drive storage.\n",
        "\n",
        "1. Temporary storage space, also known as \"local runtime storage,\" is a space on the virtual machine (VM) that is allocated to you when you open a Colab notebook. This space is temporary in the sense that it is wiped clean whenever you close the notebook or disconnect from the VM. However, it is much faster than Google Drive storage, since it is located on the same machine as the VM. This makes it ideal for storing and accessing large datasets or intermediate data that is being used frequently in your notebook.\n",
        "\n",
        "2. Google Drive storage is a more permanent storage option that is accessed through your Google account. It is ***much much*** slower than temporary storage space, since it requires data to be transferred over the internet to and from the VM. However, it is useful for storing and sharing notebooks and data that you want to keep long-term, or for collaborating with other users.\n",
        "\n",
        "As we are going to be working with a lot of images, and to make things run smoothly, we will be using Colab's temporary storage space to store our data. This means that every time you open up this notebook, we will need to **re-upload and process the dataset**. Don't worry though - this shouldn't take long, usually just a minute or less. Okay, let's get started!"
      ]
    },
    {
      "cell_type": "code",
      "execution_count": null,
      "metadata": {},
      "outputs": [],
      "source": [
        "# Import all the common packages, you can just rerun this cell if you restart the kernel and found some packages are missing\n",
        "# It is also good for you to get familiar with these packages\n",
        "import cv2 # defines functions for computer vision tasks\n",
        "import matplotlib.pyplot as plt # defines functions for plotting\n",
        "import numpy as np # defines functions for manipulating arrays\n",
        "import os # defines operating system related functions\n",
        "import random # defines functions for generating random numbers\n",
        "import torch # defines functions for tensor computations\n",
        "import torch.nn as nn # defines modules for building neural networks\n",
        "import torch.nn.functional as F # defines functions for building neural networks\n",
        "from PIL import Image  # defines the Python Imaging Library (Pillow) for image processing\n",
        "from torchvision import transforms # defines functions for image transformations\n",
        "from torch.utils.data import DataLoader, Dataset # defines functions for data loading and dataset handling\n",
        "from tqdm import tqdm # defines functions for displaying progress bars"
      ]
    },
    {
      "cell_type": "markdown",
      "metadata": {
        "id": "Cdm6m71mWwKL"
      },
      "source": [
        "To begin, you will need to download the MiniPlaces Dataset (`MiniPlaces.zip`) from UCLA box **with the following link:**\n",
        "https://ucla.box.com/s/ikd1jsad17no71bugzhw3nkrhkdq12x0\n",
        "\n",
        "Downloading this dataset typically takes less than 15 seconds.\n",
        "You will then need to upload the downloaded dataset to the temporary storage space illustrated below:"
      ]
    },
    {
      "cell_type": "markdown",
      "metadata": {},
      "source": [
        "![Screenshot 2025-09-09 at 12.51.04 PM.png](data:image/png;base64,iVBORw0KGgoAAAANSUhEUgAAAqIAAAHCCAYAAAA0Has0AAAMTWlDQ1BJQ0MgUHJvZmlsZQAASImVVwdYU8kWnltSIQQIREBK6E0QkRJASggt9I4gKiEJEEqMCUHFjiyu4NpFBMuKrlIU2wrIYkNddWVR7H2xoKKsi+tiV96EALrsK9+b75s7//3nzD/nnDv3zh0A6F18qTQX1QQgT5Iviw32Z01OTmGRegARYIAKbIADXyCXcqKjwwEsw+3fy+trAFG2lx2UWv/s/69FSyiSCwBAoiFOF8oFeRD/CADeKpDK8gEgSiFvPitfqsTrINaRQQchrlHiTBVuVeJ0Fb44aBMfy4X4EQBkdT5flgmARh/kWQWCTKhDh9ECJ4lQLIHYD2KfvLwZQogXQWwDbeCcdKU+O/0rncy/aaaPaPL5mSNYFctgIQeI5dJc/pz/Mx3/u+TlKobnsIZVPUsWEquMGebtUc6MMCVWh/itJD0yCmJtAFBcLBy0V2JmliIkQWWP2gjkXJgzwIR4kjw3jjfExwr5AWEQG0KcIcmNDB+yKcoQByltYP7QCnE+Lx5iPYhrRPLAuCGb47IZscPzXsuQcTlD/FO+bNAHpf5nRU4CR6WPaWeJeEP6mGNhVnwSxFSIAwrEiZEQa0AcKc+JCxuySS3M4kYO28gUscpYLCCWiSTB/ip9rDxDFhQ7ZF+XJx+OHTueJeZFDuFL+VnxIapcYY8E/EH/YSxYn0jCSRjWEcknhw/HIhQFBKpix8kiSUKcisf1pPn+saqxuJ00N3rIHvcX5QYreTOI4+UFccNjC/Lh4lTp4yXS/Oh4lZ94ZTY/NFrlD74PhAMuCAAsoIA1HcwA2UDc0dvUC+9UPUGAD2QgE4iAwxAzPCJpsEcCr3GgEPwOkQjIR8b5D/aKQAHkP41ilZx4hFNdHUDGUJ9SJQc8hjgPhIFceK8YVJKMeJAIHkFG/A+P+LAKYAy5sCr7/z0/zH5hOJAJH2IUwzOy6MOWxEBiADGEGES0xQ1wH9wLD4dXP1idcTbuMRzHF3vCY0In4QHhKqGLcHO6uEg2yssI0AX1g4byk/51fnArqOmK++PeUB0q40zcADjgLnAeDu4LZ3aFLHfIb2VWWKO0/xbBV09oyI7iREEpYyh+FJvRIzXsNFxHVJS5/jo/Kl/TR/LNHekZPT/3q+wLYRs22hL7FjuIncFOYOewVqwJsLBjWDPWjh1R4pEV92hwxQ3PFjvoTw7UGb1mvjxZZSblTvVOPU4fVX35otn5ypeRO0M6RybOzMpnceCOIWLxJALHcSxnJ2dXAJT7j+rz9ipmcF9BmO1fuCW/AeB9bGBg4KcvXOgxAPa7w0/C4S+cDRtuLWoAnD0sUMgKVByuvBDgl4MO3z59YAzMlfsbcAZuwAv4gUAQCqJAPEgG06D3WXCdy8AsMA8sBiWgDKwC60El2Aq2gxqwBxwATaAVnAA/g/PgIrgKbsPV0w2egz7wGnxAEISE0BAGoo+YIJaIPeKMsBEfJBAJR2KRZCQNyUQkiAKZhyxBypA1SCWyDalF9iOHkRPIOaQTuYncR3qQP5H3KIaqozqoEWqFjkfZKAcNQ+PRqWgmOhMtRIvRFWgFWo3uRhvRE+h59CrahT5H+zGAqWFMzBRzwNgYF4vCUrAMTIYtwEqxcqwaa8Ba4HO+jHVhvdg7nIgzcBbuAFdwCJ6AC/CZ+AJ8OV6J1+CN+Cn8Mn4f78M/E2gEQ4I9wZPAI0wmZBJmEUoI5YSdhEOE0/Bd6ia8JhKJTKI10R2+i8nEbOJc4nLiZuJe4nFiJ/EhsZ9EIumT7EnepCgSn5RPKiFtJO0mHSNdInWT3pLVyCZkZ3IQOYUsIReRy8l15KPkS+Qn5A8UTYolxZMSRRFS5lBWUnZQWigXKN2UD1QtqjXVmxpPzaYuplZQG6inqXeor9TU1MzUPNRi1MRqi9Qq1PapnVW7r/ZOXVvdTp2rnqquUF+hvkv9uPpN9Vc0Gs2K5kdLoeXTVtBqaSdp92hvNRgajho8DaHGQo0qjUaNSxov6BS6JZ1Dn0YvpJfTD9Iv0Hs1KZpWmlxNvuYCzSrNw5rXNfu1GFoTtKK08rSWa9VpndN6qk3SttIO1BZqF2tv1z6p/ZCBMcwZXIaAsYSxg3Ga0a1D1LHW4elk65Tp7NHp0OnT1dZ10U3Una1bpXtEt4uJMa2YPGYucyXzAPMa8/0YozGcMaIxy8Y0jLk05o3eWD0/PZFeqd5evat67/VZ+oH6Ofqr9Zv07xrgBnYGMQazDLYYnDboHasz1musYGzp2ANjbxmihnaGsYZzDbcbthv2GxkbBRtJjTYanTTqNWYa+xlnG68zPmrcY8Iw8TERm6wzOWbyjKXL4rByWRWsU6w+U0PTEFOF6TbTDtMPZtZmCWZFZnvN7ppTzdnmGebrzNvM+yxMLCIs5lnUW9yypFiyLbMsN1iesXxjZW2VZLXUqsnqqbWeNc+60Lre+o4NzcbXZqZNtc0VW6It2zbHdrPtRTvUztUuy67K7oI9au9mL7bfbN85jjDOY5xkXPW46w7qDhyHAod6h/uOTMdwxyLHJscX4y3Gp4xfPf7M+M9Ork65Tjucbk/QnhA6oWhCy4Q/ne2cBc5Vzlcm0iYGTVw4sXniSxd7F5HLFpcbrgzXCNelrm2un9zc3WRuDW497hbuae6b3K+zddjR7OXssx4ED3+PhR6tHu883TzzPQ94/uHl4JXjVef1dJL1JNGkHZMeept58723eXf5sHzSfL736fI19eX7Vvs+8DP3E/rt9HvCseVkc3ZzXvg7+cv8D/m/4Xpy53OPB2ABwQGlAR2B2oEJgZWB94LMgjKD6oP6gl2D5wYfDyGEhIWsDrnOM+IJeLW8vlD30Pmhp8LUw+LCKsMehNuFy8JbItCI0Ii1EXciLSMlkU1RIIoXtTbqbrR19Mzon2KIMdExVTGPYyfEzos9E8eImx5XF/c63j9+ZfztBJsERUJbIj0xNbE28U1SQNKapK7J4yfPn3w+2SBZnNycQkpJTNmZ0j8lcMr6Kd2prqklqdemWk+dPfXcNINpudOOTKdP508/mEZIS0qrS/vIj+JX8/vTeemb0vsEXMEGwXOhn3CdsEfkLVojepLhnbEm42mmd+bazJ4s36zyrF4xV1wpfpkdkr01+01OVM6unIHcpNy9eeS8tLzDEm1JjuTUDOMZs2d0Su2lJdKumZ4z18/sk4XJdsoR+VR5c74O/NFvV9govlHcL/ApqCp4Oytx1sHZWrMls9vn2M1ZNudJYVDhD3PxuYK5bfNM5y2ed38+Z/62BciC9AVtC80XFi/sXhS8qGYxdXHO4l+LnIrWFP21JGlJS7FR8aLih98Ef1NfolEiK7m+1Gvp1m/xb8XfdiybuGzjss+lwtJfypzKyss+Lhcs/+W7Cd9VfDewImNFx0q3lVtWEVdJVl1b7bu6Zo3WmsI1D9dGrG1cx1pXuu6v9dPXnyt3Kd+6gbpBsaGrIryieaPFxlUbP1ZmVV6t8q/au8lw07JNbzYLN1/a4relYavR1rKt778Xf39jW/C2xmqr6vLtxO0F2x/vSNxx5gf2D7U7DXaW7fy0S7Krqya25lSte21tnWHdynq0XlHfszt198U9AXuaGxwatu1l7i3bB/Yp9j3bn7b/2oGwA20H2QcbfrT8cdMhxqHSRqRxTmNfU1ZTV3Nyc+fh0MNtLV4th35y/GlXq2lr1RHdIyuPUo8WHx04Vnis/7j0eO+JzBMP26a33T45+eSVUzGnOk6HnT77c9DPJ89wzhw763229ZznucO/sH9pOu92vrHdtf3Qr66/Hupw62i84H6h+aLHxZbOSZ1HL/leOnE54PLPV3hXzl+NvNp5LeHajeup17tuCG88vZl78+Wtglsfbi+6Q7hTelfzbvk9w3vVv9n+trfLrevI/YD77Q/iHtx+KHj4/JH80cfu4se0x+VPTJ7UPnV+2toT1HPx2ZRn3c+lzz/0lvyu9fumFzYvfvzD74/2vsl93S9lLwf+XP5K/9Wuv1z+auuP7r/3Ou/1hzelb/Xf1rxjvzvzPun9kw+zPpI+Vnyy/dTyOezznYG8gQEpX8Yf/BXAgPJokwHAn7sAoCUDwIDnRuoU1flwsCCqM+0gAv8Jq86Qg8UNgAb4Tx/TC/9urgOwbwcAVlCfngpANA2AeA+ATpw4UofPcoPnTmUhwrPB9wmf0vPSwb8pqjPpV36PboFS1QWMbv8FEnmDIW8/O5cAAACWZVhJZk1NACoAAAAIAAUBEgADAAAAAQABAAABGgAFAAAAAQAAAEoBGwAFAAAAAQAAAFIBKAADAAAAAQACAACHaQAEAAAAAQAAAFoAAAAAAAAAkAAAAAEAAACQAAAAAQADkoYABwAAABIAAACEoAIABAAAAAEAAAKioAMABAAAAAEAAAHCAAAAAEFTQ0lJAAAAU2NyZWVuc2hvdDHcu9sAAAAJcEhZcwAAFiUAABYlAUlSJPAAAALbaVRYdFhNTDpjb20uYWRvYmUueG1wAAAAAAA8eDp4bXBtZXRhIHhtbG5zOng9ImFkb2JlOm5zOm1ldGEvIiB4OnhtcHRrPSJYTVAgQ29yZSA2LjAuMCI+CiAgIDxyZGY6UkRGIHhtbG5zOnJkZj0iaHR0cDovL3d3dy53My5vcmcvMTk5OS8wMi8yMi1yZGYtc3ludGF4LW5zIyI+CiAgICAgIDxyZGY6RGVzY3JpcHRpb24gcmRmOmFib3V0PSIiCiAgICAgICAgICAgIHhtbG5zOmV4aWY9Imh0dHA6Ly9ucy5hZG9iZS5jb20vZXhpZi8xLjAvIgogICAgICAgICAgICB4bWxuczp0aWZmPSJodHRwOi8vbnMuYWRvYmUuY29tL3RpZmYvMS4wLyI+CiAgICAgICAgIDxleGlmOlVzZXJDb21tZW50PlNjcmVlbnNob3Q8L2V4aWY6VXNlckNvbW1lbnQ+CiAgICAgICAgIDxleGlmOlBpeGVsWERpbWVuc2lvbj42NzQ8L2V4aWY6UGl4ZWxYRGltZW5zaW9uPgogICAgICAgICA8ZXhpZjpQaXhlbFlEaW1lbnNpb24+NDUwPC9leGlmOlBpeGVsWURpbWVuc2lvbj4KICAgICAgICAgPHRpZmY6UmVzb2x1dGlvblVuaXQ+MjwvdGlmZjpSZXNvbHV0aW9uVW5pdD4KICAgICAgICAgPHRpZmY6WFJlc29sdXRpb24+MTQ0LzE8L3RpZmY6WFJlc29sdXRpb24+CiAgICAgICAgIDx0aWZmOllSZXNvbHV0aW9uPjE0NC8xPC90aWZmOllSZXNvbHV0aW9uPgogICAgICAgICA8dGlmZjpPcmllbnRhdGlvbj4xPC90aWZmOk9yaWVudGF0aW9uPgogICAgICA8L3JkZjpEZXNjcmlwdGlvbj4KICAgPC9yZGY6UkRGPgo8L3g6eG1wbWV0YT4Kq3HMrAAAQABJREFUeAHsnQecZVWV9Q80Iyo5iYAiophAUAF1VEBwwDAqhjErOQiCiIBIUEaHjIKIYRADIGMYI/OhYhhJYkJUEBwVEUdAUhMEdQRBv7vuq/+r9U7dV13dXXRX11vn56199t5r73PvqrZ7ceNSF1100d+bUZZaaqmiIVvP5YPxnGJLL710W0ctjvfxnNeDxZJr9qLZh150PDbc135oONbn5DiGFjzkR13ntT4Xjn6sX+eHLJFwGAgDYSAMhIEwEAbCQMPA0ogoCStEGDExpPnf/va3Plny2RBj/aQmjYD0PvTCgsXHUtPLjwtL5R3jvrDyVUs98y4ca3dZ6rvqFGMwd0utW/qAU73P6RcbBsJAGAgDYSAMhIFRZWCpa6+99u8uoDTHFym1zxnQYRjiXkeMfhJkk+UdT42sRp2rY57XnLXa4rEfxMCCq3shHMF5D+bCiJOpYL1msp7gYsNAGAgDYSAMhIEwMJsZaK+ruyiSoEJU6cA9p7nn6rz8Oq8YZ1Spl2WuvObYYesr7jVtgdXi1/WKs0+sI+FIL3J1PXHhwIJxS05Wg/WpJ9Ymx/I1llxsGAgDYSAMhIEwEAZGiYFWiCIUdeCIJEhAWHl8mMgShjOm1KmPx7yP5tpYXzWepwdxWQ1sPacfPair/bZJ8wM86ytOjBrFlHdfsa5R17KfXlvP5YPr6plYGAgDYSAMhIEwEAZmKwONEB2/FF+LIhdNLpY8zlx5NpGF+NTca8F4jB6yXXH10HBcL9KLTdZTOO/ZhWVfWR8867EW1uPM677EqcHWOMWHYamJDQNhIAyEgTAQBsLAbGSgEaLDL8VPJsjIyUpIIaY8zlzEMQfreHLCeVy+Rh0TnhpZ5RGT5Op8r9P4T3oqAnY8Ox6jf52jhnzdjzx1+MKxkYsNA2EgDISBMBAGwsAoMrCMCyguQRPDTkaMMIgsxCB4973XsBpEneodTz+s55h7Lfvj61Ar63HqFfc6+Rqe70V6Pz1e1/m+UON4Yl04crFhIAyEgTAQBsJAGJjtDLSvb0JISTi6YGrjzRnHrlHj5NOHuXxtNbYLpzWEq7H12p4nRz8sAhgfHJY4vdxXDF/W59RTJ5+51/mcemHrftQ6RriMMBAGwkAYCANhIAyMAgNLI4YQTxNEUSPMGORqQYXwq3vIJ0YPYrIabtWXB4c0J0ctlv2Q7zjh5ZMfVq84Obde6321jnD0ZR99ffDegzpZja51e5n8DANhIAyEgTAQBsLA6DHQf6G9Dh1R5jR4zAUncVkJM0QatYp7rBZqCDYw5L1ec9Zh3oWjB7XYLqxyivvGvrKWLDGOWXjm4NQLnOY+hsUdo54a3s/zmYeBMBAGwkAYCANhYDYz0D8jijBDFMlHTA2bixhpKeGoU8zn1CrGPajCaNR1YJXTHEucWJsY+0HOY/X65PxMpmKOk09/WfoisoX1uPAa1PS83k/v63mfC+k4r888DISBMBAGwkAYCAOjwEB7RnSYIEI4IcJEiOaDgnJcsBJXnTZh6Y1fk1rHwYOjh3Aa8ofVgMFSW/diDXDk6Y/POuDJEwdHnn6yYMhRS01sGAgDYSAMhIEwEAZGnYH2hfY9EsbvBZUvAYWIQlRBluKILo+BJwamrle+xhKjhrx8YsLQy2PUugXbVU8PYepBX62vra4HDw7L/lInHDkstbFhIAyEgTAQBsJAGAgDzXvnEVCNbJoguiSgyNdiiriscsPydQ/HeU6/DM/hs079yyIuy+VzMHUfYbQRpxY8lrz73BdKDEsP5VXntZr7mmAdoz61T+/YMBAGwkAYCANhIAyMAgMTHlZy0cRcRDDHSkSxed5JE1YbggtfGMU8V/cgTz9hHUPPGgfesZo7TnN8WQaik/3CKs/6YKnDEq+t1/lcuNqva+OHgTAQBsJAGAgDYWA2M2CX5nvCCGGFSMKXZRMhyvvWRZLOVDLogz9VS11t2T/2wfuR455V5ajXnHw9l6/hWPnCK+bxYT2EIed4n6tnRhgIA2EgDISBMBAGRp2BASGKcHQh5QKKuKzHNddWx8FDcu0Tx9JzGM7jYFU71fV9He/lcc095+twGV554vVc9Z6TnxEGwkAYCANhIAyEgTAwkYG+EJWgYkNICS7xRVy+5ghW+WAVZ2hOXDHqick63jGak8eCxZdlMAdTx4fla5zX+zrD4nU9vqxqWJd43Yd4bBgIA2EgDISBMBAGRpWBVoi6aPK5SJHvG0RJWLm4Io4lTy1x+dRprlFbsOSG5enjeM1Ze7I8vYWhf90HnzyW+LD+ypOra7pyXRjWiA0DYSAMhIEwEAbCwGxlwJ6a7x2iBBTijDkHj7giLwFFTHMEVW1VT8zxmte+sIoJ73nibsEopsEatfUcvb2WmKxG7bfBsTgYxbwHvqwG+9DzJvqK0wsLNjYMhIEwEAbCQBgIA6PAQP+F9ggnWQSWzyEDnHzPS0yxkcPHEqe/4sw9xxreX3nwmjO8vl5HPoMn4ulNDl845rUFK4w/AEUNeVlt1CvvOfkanvd5L5ufYSAMhIEwEAbCQBgYDQYmXJpHTOnwa1EFJWCwElNsjkFkea6u8TU093tSPae+9GMNWcd4njiW+1rlM4QnT0y+b95TGK/HB4OlHl84n3sPzT0nbEYYCANhIAyEgTAQBkaBgf6lecSRRBHCSJY4gklWog4MJCkOhpis98CXrbHyNerexNtk84O6en3lyYGVZX364DtGOTZfv16DWtk6R73HFXOf/WFtcsJlhIEwEAbCQBgIA2Fg1BjoPzXvB+7CCDGFaJJVDIzHvYfPqVGMunouDDjWBENOvgbrO66X6f0UftjwGs016F+vzzrkwcpSy5lWX5M51vHD1hcmIwyEgTAQBsJAGAgDo8RAK0RdHNUHLzGFIMM6RjENeuATwyLK3DKnhh6q0VBem+JgepneT3LEuvqRw4KRZU5vrGOFYf06Lxw5zefVTxgfNd5zmYeBMBAGwkAYCANhYLYz0D6s5IIIsdXItAHxBwZCal9xamuMsJ5DvMkq570cxwNG9MPWNcTpSz+33hec6ob1Us5r5GsQo7d8n+MTU009pwfW88JnhIEwEAbCQBgIA2FgFBhoz4gi+CSItOlyc3MOcuD4EUtYku4zR4whtMDKknMs6yuveLv+2JlWxTTAy6qH9/YceaxqWdPn5JVjfe/j/VXnOfp4nDl95TPo5Tn6CUMefGwYCANhIAyEgTAQBkaBgVaIuvDrEmYiQvGpiicEF9aFFjHIle/3Wfr6xFmfGvfpxxpuyXmdxzTX8HXk04M8sdpXnEENto7L95zPwcaGgTAQBsJAGAgDYWCUGGifmq9FEYKrjnPm0AmqMeToId+FnvDKUSfLvK6t13McPYjh08Ot74viYKnFUqM8GGKyvj/kqcWXrUdXrMbEDwNhIAyEgTAQBsLAqDHQ3iOqg/57czmegXCazCpHnjq3UxFowtOHXqpjPlXLuuDx6c++eJwcMWrBsh/4jgcry5x8jVeeXqwVGwbCQBgIA2EgDISBMNCc5BMJrXgaOzMp4eRn/rpIEp4NoUUfhBnxtjdrWDPlwWo978f65K2sjyPmGPXAl6UnWLfgFANHvexko87jU0+tfM8Rl9X6vg+eyzwMhIEwEAbCQBgIA6PAQHtpnkvniLdaICGmRIjP8RFV1Htc866BSJP19YWln2PqHuwHljp8bH0s9FG+xoD19YUH53Nisl6HT571aqv8vDB1TfwwEAbCQBgIA2EgDMwmBvqX5rtEkWKIMg4aH/FFvK4nX1vwWPKqr3vU67tPHX26bI2RX6+hWFecfsohlBXTnBr5XbXD9lPYrjEs3oVNLAyEgTAQBsJAGAgDs4WBZXQgCCdEGhaR5T6XzT3G3ElRjDiWPMKLuKzHiHtMtewPfYbFyHtfxfC9r2LEwVDvOGLC+ujaJ+VrnMfqmi6sr5F5GAgDYSAMhIFRYmDu3Lnl1NM+Ui6//PJy++23L9ZDX2WVVcrGG29c9tx9j7L66qsv1n2ZjYsvde211/5d4tLFkYQR4gjhqYMn5nmPQRB5cuqtPvJZx+e+vud9TXqQ97WYu2UfhNdwX3MNcqzfBqsf1OlMKHUVpHWVox958L7P9VxYcNTFhoEwEAbCQBgYVQYkQvfce69y1513zigKVlhxxXLqhz4cMTrNv5X+e0TpW4siCScXT8LJZ/hctQhX6oTzmPfXXBuXvrvWoY9wrIVVb5/TT5YcMffbZPODHOsrToweis1LhAqjUdeyb96rnssH1+uSn2EgDISBMBAGRpcBnQmdaSJUvw3tk/ZtJo977723HHn0UeXi71487bupnuqtNaZzNEJ0/OxnLYpcNLlY8jhz5dm0g4hPzb0WjMfoIdsVVw8Nx/UivdhkPYXznl1Y9pX1wbMea2E9zrzuS5wabI1TfBiWmtgwEAbCQBgIA6PCgC7Hz9Qxk/dNAvGoo48uF154YSMYj55WMdoTob3eWmM6xWh7aV6/cIkhBBk+FqE0zHqd10h0eU71dQ/hNTzXi4wLNGqIY4lTi4BUnlw9r2vxwdU95Hsv8B4n77XgPMecXGwYCANhIAyEgTAwyMB2z3vuQOAb5359wF9Qp+67oH2ma38WdP1hdUcdc3S54IIL+uk5yyxTDj/00PLMZzyzH1uQCSL0PjsTutVWW5XDDjl0QdpNqBn4spIuQbuYmopwEkY1CDOvqUUoqw+rmeraqmcdbNf65FgXqzj7TEyW9ZWnFus4zT1Or7rOMT6nF+vhx4aBMBAGwkAYCANhYEEYeHYjDiU+GRKOC3tmtEuEag2tNV2jfX0TgkjC0QVTG29EZteocfLpw1y+thrbhdMawtXYem3Pk6MfFgGMDw5LnF7uK4Yv63PqqZPP3Ot8Tr2wdT9qHSNcRhgIA2EgDISBMBAG5ocBnfnUGdDpEqPDROh0nGX142rPiCqAeJogihphxiBXCyqEX91DPjF6EJPVcKu+PDikOTlqseyHfMcJL5/8sHrFybn1Wu+rdYSjL/vo64P3HtTJanSt28vkZxgIA2EgDISBMBAGFo6B6RKji0qE6mj7L7SXgyjTnOExF5zEZetL+rfeemt570knlp122bnd3nPie4tiwiLU3GothFy9LusoTn1XjDq3w3r62mCwrMNaHLPyzKeyPvW+P/VcPVmvzsUPA2EgDISBMBAGwsD8MrCwYnRRilAdW/+MqESRizHmHq/naiAtJdGFOLvtttvK/gceUC6++OJyxx13tNt3vvOdst9b9y+33HJLH6dar+v1Gj8LqrWI+b60QftBzkIDa9BHeT+TKZ991lwDrCx9EdnCerxXMV6DL+t96am4z2uc/IwwEAbCQBgIA2EgDCwsAwsqRhe1CNVxLoPg6jpocogwWW0SZ5wdbORVE+u9EF/4T5xxevnjXXdNaKf3byn3tgMPGsi9aPsXD/h9EddTuAM5d5o9aVYePKPI/jru3K9+re+y/woI24UXRnEw/f1pIz2RSR04avCxXbVjbWLCQBgIA2EgDISBMHC/MYAY1QNLPPHOA0xd93kuDhGqg29faN9jYfxeUPkSUQgphFcPNy7G8B3/8yuv9PDA/Morr+j79O4HmEgESgc26082EKGO6eqpfUcYCovfhSUvq7w28Ir5oCeWftQJSw7r9ZmHgTAQBsJAGAgDYeD+ZAAxOq8HmBaXCNWxL4OAkvobOxE4IEB15lNCSts4tifU1EAxhFY/r0aVkJSsVNj7UKc+jClo0Bba9mtmrN9fm0ZmldOmM7nMLd2f+r4pKF/HX1/SV059yNfH4X2GzemvPhlhIAyEgTAQBsLA/cvAgr7/c7reP3r/Ht3w7ojRYWdGVek5+RKuXWdNlZvuMeFhJYSRCygtShyrPJvnN9xoI6EVGhgSmBs1Oa9n7sB+pVTrJIOs9mEqw4+H/db6Xs/tBsSx6l/vK3XYYfvgdT7v6jmsR+JhIAyEgTAQBsJAGFhQBhCjXWdGF6cI1fGMv/m0cRBesogmhBZWRZ73uXI77bBjuaz5PFd9n+jyK6xQdtlpZ0EGxn99+ez+WqwJwP16Ll/7JMtcdY4jr7jPh+GF0/BjlQ9+sh7UOGbYXD2vvvrqcvPNN2s6X+MhD3lIedSjHtXW3HjjjeU///M/yzXXXFNe9rKXlWc961n94//zn/9cLrvssn5vr+sHMwkDYSAMhIEwEAZGggHEqAtP7h2FgEV5JpQ12098unjTnDODfdCY2APH5Xr5xIQlrifnTz/zjHLl2P2iOhO68447lTXWWIOWraUWqyA9XcTNK6688Kxf9yPfFVeuHsKxPlYYxXlQS3Fiw+YtYOyH91HosMMOK//xH//hkCnNX/e615Wjjjqq3b/tttuuXHXVVf26T33qU+UZz3hG6yu+7bbb9nOvfe1ry9HNDcsZYSAMhIEwEAZmMgP1pfAFvaQ+Xcc40/ZnYY+r635Q9VwcIlTr9s+IItJchAmAKPU891oqj8Air9jqq69eDtj/rX1RSQ6sLH2F1wCj+TCcx8ETw1e9BnFsne+hxnHKC9tVW2PBgSWPpZev6XOvp2Z+7eXNWWcXoar/4he/2Bei89sv+DAQBsJAGAgDYSAMLGoG2qfmXRj5XDsj3zd2UMLKxRVxLHlqicunTnON2oIlNyxPH8drztqT5ektDP3rPvjkscSH9VeeXF3jOfosiF133XUnlD360Y+eEEsgDISBMBAGwkAYCANiYNjZUOV4tZMwi3K0T827WJKAQpzprCVz7RTiqivmPTR3jGqJ0cN9zfFZB9/7UIsFoxoN+V2WmOqG9aNXbduGYz/qeseyBnhyw3zi2L322qust956uEPt+uuv3+ZWWWWVcvDBB5fjjjuu9XX7w7/8y78MrUsiDISBMBAGwkAYGF0GukQoDy9xryhidFE9Ma/fRv+F9ggnWY0uwaY4OOayXGZXDUO4YXFqWIM61vYempOv8cqxju9XHZevfRGGNejpdeTcCgdWfep7RKnHCkO95tRi67x8jX/6p38qm266ac+Z4k+JV937eXtzT+56j3zkFKsCCwNhIAyEgTAQBkaJgWEiVIJTo36ASf6iEqMTLs1LMCGaZF1U8UsDgxWGTRg9rOTfmj/hve8pc+fObcvrGl9Dc87COo51h+0Lcazw9MXyLlD5DOHJE5Pvm/cUxuvxwWCpxxfO53UP5Rd0rLTSSmU6Rah+d7/61a/az7HC2fzu25/+9Kf2/lV94jUjDISBMBAGwkAYWHwMTCZC9SQ9T9NzdlR7ypnRRXGZvn9pHnGEYJKvOXF8CUUeViKnndZc26233tp+a95f36RvzV922eXl5JNOKquttlofW/dXn7q3r8E6vo+KMYT1norPyxeGfdfc12cdxTXk+5lV3zfmvt5U9qfXecF+6in57373u/3id7/73WXVVVft+1Od/OIXvygf//jH21dB1TXbbLNN2WGHHcpWW23V8lTn8X/bvELq/aecUn70ox+V3/3ud4TLcsstVzbffPOy7777zvcZ336TTMJAGAgDYSAMhIH5ZmBeIpSGiNHFcWa0/9Q8OyOLqGLuggyhBQYf235r/s7mW/PjJx7b1n+8687y8dM/MfCtefWovzXPmm3RFH+0+6I7Cqo1Vf61r3x1oIuw7KsfAyDFHKO48Azm1CJc6QmeHtSBr+PkF8R+73vfK+ecc06/9NCxU+z9wDwm2ucPf/jD5fjjjx+K/Pa3v120bb/99uXYY48tD3rQgyZgv/CFL5QDDjhgQlwBnR09//zz2009TjzxxDJnzpxObIJhIAyEgTAQBsLA9DAwVRHKaotLjLaX5icTRwgsYdjYaVnFsMK27w7tEISScsoJoyHLvA0s4I/+Uv3J5I1Y09f3Y/BqMBw3OMeQU4ze4LCOn0nzI488clIR6vt69tlnlz333LM9Y+zxr371q0NFqOM0Vw8J34wwEAbCQBgIA2Hg/mNgfkUoe4IYXZSX6duHlbQDLqjkNzKxLL1Uq1PltiLLhZVEl/vCtD1asBxNxkcjY/tOXUeijY+ffCQ8uZUQVs14+wl47SuX1JVkfYSmx7xYOMQlcWIcP773oMbX6ZrTU/bHP/5xWab5tutkQ+9nXWeddSaDTDmns5Qf+9jHBvBPf/rTywte8ILylKc8pf3q0ze/+c3y6U9/uo+58MILW18v1Wfokr6PZz/72eUVr3hFecxjHtNeov/MZz5T1IchIbrjjjuWFZovbWWEgTAQBsJAGAgD08vAgopQ9gIxuqgu07fKB5GGgJJVzAfCC0vOfc033HDD5j1V4/ct9nGNWlSuS7j1MU19OxqDcCM3zGpNDRe6NbZes19Tnc0lLluvTwwMeXytydzXU9yxzBX3oa8lzWvsvPPO5YgjjpgXbJ553U5wyCGHDOBe+cpXTjg7qvtDt9hii7L33nv3sbq0/upXv7p/ef1//ud/+jlNPvrRj/YF9QYbbNDeW7rffvuVn/3sZ+WNb3xjeclLXlIe/OAHD9TECQNhIAyEgTAQBhaegYUVoezBohSjrRCVMEF4SighlhBf2jHFap8ddrtT8ynPyxrR4Q8rKb/Ciiu235pXD4Sv4vrWvAZrdq1PrgWOYdkfavG7sNTJcgyyzLnPExw9lGfU/fGH5T3eNSe2OOwll1xSbrjhhv7Sm222WdFl+q6hM6QSqfqmvYYeRrv00kvLU5/61NbXS/T9m/Zf/vKXB95nqrO8H/jAB1osvLZOfoSBMBAGwkAYCAPTxsB0iVB2aFGJ0fapeRbFItBq4eACEmyN0VPxJ73nvQPfmteZ0F133qX/xDz91aOuV4x8vZ6wiEMwwmvUfi/a+1nnar/eB+U1fD35vj/eQ3N8rPCMrhi5xWH18JEPicVzzz3XQwPzv/71rwO+zoIiRHXW1IXogQce2IrW17zmNS1GtxLU/A40ixMGwkAYCANhIAwsNAPnX3BB+9olGk3Ht+OHiVGtpdx0jPEX2jdnRZcauxyPcOqyWlRxRpfIkBg98K3jT1F3YaivewnLGUpyvh+qc997E6e3Yz3G3PHM1Y851vHeU3kfw/De0/E+33bbbdvL4B6r50984hPr0AL511133UDd97///aJtquPGG2/sQ3W2VE/N+yubfvjDHxZtGmuttVZ52cteVl70oheVxz3ucf26TMJAGAgDYSAMdDGgLwfefvvt/dR2z3tuf764J9q3mToOPuht5d6/3tt+xnM6RCjHWYtR+VprukZ7ab4VSk1HBJPO/E02hNOmIfEFnnosceHAa66BiFOcM411XS3sVNfVhxj1WF9ftT5YX7GuesfWc/DEWc+tco7zOXVudf/k/H5ZyevnZ/773/9+fuATsHfeeWc/JqH5uc99ruy6667liiuu6MeZ6BaAD37wg+220047tZ8l7XoFFPjYMBAGwkAYGG0GNt5443JBc8ZtJg7t20wdurp5WPMax2OPP65s3Tw4PF1nLHW8iNHzmged3/62g/vPgkwHF+2leT8DWYspLeIiyufkFkTU0Ue2a316g5PvQ/FaqLpPncfqenz2v7b0YC3hmddWOdbCKjYTh77G5EMPJD32sY/10KRzLssDWnPNNcv/+3//r+jeU91Let5557X3kpLHnn766W38lObF9xlhIAyEgTAQBroY2HP3PcqPf/KTcped9OjCLeqYnnXRvs3kITF6+KGH3S+7KDE6neKWnRx4fRNBLGJLvuYaiDXNidVz+Yix2irng37ei3y9vvtgJrP0BiOfs68e07yOe55jUEyi2Qc5X6veT44NrNcvjnn9CihdOn/pS1+6ULuiY5RA1abjvKb50tJFF11UzjrrrPZznzSXYNXrm/SAVEYYCANhIAyEgZoBvarw1A99uJx62kfK5ZdfPnCZvsYuCl+X43UmVCJU+5YxvQyMX5pvxAOCCYtwcp/L3R5jzq7pe+X6wlL7cvsmuNFGG7VPzOveUQ1EG3WyHiPuMerItY3GetUxct5XMXzvqxhxMNQ7jpiwPoSpY8pPFqOv91mUcz085uNb3/rWpEL0lltuKV/60pfap+G7PiF69dVXt2dEd9ttt7L88su3x77++usXba997WvLPvvsU77+9a/3l9TDTRGifToyCQNhIAyEgYoBCb7DDjm0isadjQy0N4O6aJJIcqHkOc09J0I8L3/u3LnlLQe8tVx88cXljjvuaDd9a36//fcvEqiqV433ogcxX4McdZ7rWl/5GoNPL4nprrXUj3qvAat8PcjRu64Xnl7Mwda9FpWvVzL5+MpXvlKOO+44D/Xnf/jDH8ob3vCGcvTRR7cvuhdOMQ0Jyl122aU85znPKe973/vKW97ylnLffff1azX5h3/4h7L11lsPxO66664BP04YCANhIAyEgTAwmgy0Z0S5R1MU1CIJEcWZUGEUA+dzxc745JkT3iGqmruab81/7BMfn/Ct+Re/ZHul+4O+/cAUJpPVnPvVr/U7+L4qSN2w4+fYPd9v1jGhn1KqZT2P+7yjxSIJrbzyyu3DRf5lJX3xSGc+X/jCF7aC86abbirfbT5MoC8r/eIXv+jvl94TqgeTNPSkvL8KSmdW9fL6V73qVe0Zz7vvvrv89Kc/LSeffHK/XpNHPOIRA36cMBAGwkAYCANhYDQZaISozk72Dl4iCfGkiIumYXEwymt0PTndJpof/q15xagl3+xJb/1ekvCkln3ulQxeNqfQ9539dDz3h9a96v2jX41Tz7qvY6iTdZzHF/X8oIMOas9au8j8/Oc/X7QNG8stt1z59Kc+1b9HRqJVDyfpXlDGOeecU7QNG+qx3XbbDUsnHgbCQBgIA2EgDIwQA82l+YkiiuNHNHUJMnKyyg9gBl+vSbvWgh3AgxjTkZOUg+zbzvX72cGztxYe2F+OxfPE6F/n6rwfj3LkqcPn+IkvLvvABz6wnHHGGfN1r6ZE53qPfGR/l3Usxx9/fHnyk5/cj0020auePtUIWYnRjDAQBsJAGAgDYSAMLO3CSJegEUyiRrl5DWEQXprrwaRhg4dkvMaxrD2VdanTHlJHbF52KuuzD9i6p8f9+InLMletz+teC+rr/ksfyy67bN+dM2dOf66JhGc99NolCcODDz64/epVncfXy/Z1Hym/P+KyvEdUPSYb22+/ffvA0iabbDIZLLkwEAbCQBgIA2FghBhY6tprr21PQEoo+X2gCCcJPb641I+ZyFJMQoxaPZC0/4EHTLhPVO/fOvnEk/qf+RTH9GMun35ua5zwDMcpJp+YY5i7pa/2nzrl8WU16Acev85RpzhzLLG6hji95S+Oce+997YPHzV/HopeWK93ka299tpF35J/2MMeNqVd0oNKqv/1r39d9NL8FVZYof2akp6ed5E8pWYBhYEwEAbCQBgIA7OegaWazz02WmlcSOqIJYoQRj4nhwWDCJWvXhKjp595Rufrm7r6sb4svbssMeFYmxjWc+yPY8HJaiinM8HcJ9qL9n7W9fTGgnWccox6XeK1rfvV+fhhIAyEgTAQBsJAGJiNDPTPiEqIuaBCRCEydfCINeXIe82wPMR5npj38V4ed2wt2uqarnxdjy/LOsy9XnP22ed1vXJe73Pv73Wa+1p1Ln4YCANhIAyEgTAQBmY7A+09ojpIiSIXRsw9Xs97dYNnUBVz8UUfxerXICnWhe317Ym7rjWVZ9AfX7buSU7r+3Cc4uqFpS/3zQrr+9ICrQZf1vvSU3Gf1zj5GWEgDISBMBAGwkAYGCUGlkZwdR00wgkRJozmg4Kyd5lcWOKa0xdRhl+vU8fBg5OvTTgN5o5jDgarODlqPQaubTz2w/HKO54exKmjhn6yYMhRS01sGAgDYSAMhIEwEAZGnYH2y0o9EgafkHcBhqiCLOUQXR5z0aU4mLpeuRpLjBry8okJQy+PUesWbFc9PYSpB321vra6Hjw4LPtLnXDksNTGhoEwEAbCQBgIA2EgDDS3fSKgGtk0QXRJQJGvxRRxWeWG5esejvOcfhmew2ed+pdFXJbL52DqPsJoI04teCx593WPaNegh99DCk59fE2wXf2piQ0DYSAMhIEwEAbCwKgx0F6a56ART/IRU57T3EWVMIgr4uDBKu4YcPQnB5568vjUYamrceAn66ca6ugjPKKTfcbWveRTh1Wsa7C/yvm8y++qTywMhIEwEAbCQBgIA7OVgYHTfV3CC6ElyyYyhPWtiyCdqWTQB3+qlrraIurYB+9HjntWlaNec/L1XL6GY+ULr5jHh/UQhpzjfa6eGWEgDISBMBAGwkAYGHUGBoQowtGFlAso4rIe11xbHQcPybVPHEvPYTiPg1XtVNf3dbyXxzX3nK/DZXjliddz1XtOfkYYCANhIAyEgTAQBsLARAb6QlSCig0hJbjEF3H5miNY5YNVnKE5ccWoJybreMdoTh4LFl+WwRxMHR+Wr3Fe7+sMi9f1+LKqYV3idR/isWEgDISBMBAGwkAYGFUGWiHqosnnIkW+bxAlYeXiijiWPLXE5VOnuUZtwZIblqeP4zVn7cny9BaG/nUffPJY4sP6K0+urunKdWFYIzYMhIEwEAbCQBgIA7OVAXtqvneIElCIM+YcPOKKvAQUMc0RVLVVPTHHa177wiomvOeJuwWjmAZr1NZz9PZaYrIatd8Gx+JgFPMe+LIa7EPPm+grTi8s2NgwEAbCQBgIA2EgDIwCA/0X2iOcZBFYPocMcPI9LzHFRg4fS5z+ijP3HGt4f+XBa87w+nod+QyeiKc3OXzhmNcWrDD+ABQ15GW1Ua+85+RreN7nvWx+hoEwEAbCQBgIA2FgNBiYcGkeMaXDr0UVlIDBSkyxOQaR5bm6xtfQ3O9J9Zz60o81ZB3jeeJY7muVzxCePDH5vnlPYbweHwyWenzhfO49NPecsBlhIAyEgTAQBsJAGBgFBvqX5hFHEkUII1niCCZZiTowkKQ4GGKy3gNftsbK16h7E2+TzQ/q6vWVJwdWlvXpg+8Y5dh8/XoNamXrHPUeV8x99oe1yQmXEQbCQBgIA2EgDISBUWOg/9S8H7gLI8QUoklWMTAe9x4+p0Yx6uq5MOBYEww5+Rqs77hepvdT+GHDazTXoH+9PuuQBytLLWdafU3mWMcPW1+YjDAQBsJAGAgDYSAMjBIDrRB1cVQfvMQUggzrGMU06IFPDIsoc8ucGnqoRkN5bYqD6WV6P8kR6+pHDgtGljm9sY4VhvXrvHDkNJ9XP2F81HjPZR4GwkAYCANhIAyEgdnOQPuwkgsixFYj0wbEHxgIqX3Fqa0xwnoO8SarnPdyHA8Y0Q9b1xCnL/3cel9wqhvWSzmvka9BjN7yfY5PTDX1nB5YzwufEQbCQBgIA2EgDISBUWCgPSOK4JMg0qbLzc05yIHjRyxhSbrPHDGG0AIrS86xrK+84u36Y2daFdMAL6se3ttz5LGqZU2fk1eO9b2P91ed5+jjceb0lc+gl+foJwx58LFhIAyEgTAQBsJAGBgFBloh6sKvS5iJCMWnKp4QXFgXWsQgV77fZ+nrE2d9atynH2u4Jed1HtNcw9eRTw/yxGpfcQY12Dou33M+BxsbBsJAGAgDYSAMhIFRYqB9ar4WRQiuOs6ZQyeoxpCjh3wXesIrR50s87q2Xs9x9CCGTw+3vi+Kg6UWS43yYIjJ+v6QpxZfth5dsRoTPwyEgTAQBsJAGAgDo8bAMn0BpcvxzXflNfqxMcHoPvkW2PxAiOFjiXstMTCyyjOU1ybhKkvOe1BDXpYBDt+xHmPueObel5jjvafyPobhvafwt2z9GC/LfIoMrHHer6aIDCwMhIEwEAbCQBhYEhjoPzXfKL+++PMzf10HIWHF5uILwaUa4oppYFun+aG8Ng2t5/1Yn3wLGvsBjphjlMOXrbHUyILTHBz1spONOo9PPbXyPUc8NgyEgTAQBsJAGAgDYaDRgBJKXDpHvLlIE0mIqXqOLzwbWNm6j/AM5dl8feW9FxjqsIprYDVXHT522D4oX2PA+vr1GtS49TrF5ZNXfUYYCANhIAyEgTAQBsLARAba1zcp3CWcEFUILeEQaR7rqidfW2F9kNda9T7U67tPnfeq5zVGfr2GYl1xeimHUFZMc2rkd9UO209hM8JAGAgDYSAMhIEwEAZ6DCwjg3BCpGERWe5z2dxjzJ1UxYhjySPIiMt6jLjHVMv+0GdYjLz3VQzf+ypGHAz1jiMmrI+ufVK+xg2Lea/Mw0AYCANhIAyEgTAwSgyM3yM6dtQSVggwhVxQuWCDJM8r5rVgOKNIvSxzYehBzHuQU4w8fb2WmHBerzg+vbgndRjW46rpWpf1yNGbWtb09es5PWLDQBgIA2EgDISBMDCKDPTfI8rBI6jwEVYeHyayhOGMKXXq4zHvo7k2hKpqPE8P4rIa2HpOP3pQV/ttk+YHeNZXnBg1iinvvmJdo65lP73W5109EgsDYSAMhIEwEAbCwKgw0AjRnhjUAUskIZ7wIWJYHGGlPJtqEJ+aey0Yj9FjsvXVx3HyNaihby86jpXva4HzGPvqvVTHepr78Djzui9xr9Pc161z8cNAGAgDYSAMhIEwMEoMNEJ08FK2CyhEk8cgh5ys8mA8zlw1zME6npxwHpevUceEp0ZWecQkuTrf6zT+k56KgB3PjsfoX+eoIV/3I08dvuPIxYaBMBAGwkAYCANhYBQZWMaFEZegiWEnI0YYRBZiELz73mtYDaJO9Y6nH9ZzzL2W/fF1qJX1OPWKe518Dc/3Ir2fHq/rfF+ocTyx2DAQBsJAGAgDYSAMjDID7ZeVRICEkgtHxVpB1Uvq58BwYSWcahFgymnO8L4ed5zmbGDoRx9ZYeoBDsu+0KcLrxi9qKt96hUHQ11XDozjiamOGs2nMkblS0L50tRU/jQEEwbCQBgIA2Fg9jHQvtBeh4V4miCWTPiRk/U5QrPuIZ8Y1BGTZV2sevLgkOZgqMWytnzHsRb5YfWKk3OrOmq9r9YRjhz76OuDlwVHnayGr9uL5GcYCANhIAyEgTAQBkaXgf4L7UUBoszp8JgLTuKyEmYuvujlMc2Fla034cmztvf3WBdOsa7RhRVOcd/YL1+TGMcsPHNw6gVOcx/D4o7JPAyEgTAQBsJAGAgDo8xA/4wowgyRJR8xNWwu4qQBhaNOMZ9Tqxj3oAqjUdeBVU5zLHFibWLsBzmP1euT8zOZijlOPv1l6YvIFtbjwmtQ0/N6P72v533u+MzDQBgIA2EgDISBMDCKDLRnRF04OQkIJ0SYcpoPCspxwUpcddqEpTe+99e8joMHRw/hNOQPqwGDpbbuxRrgyNMfn3XAkycOjjz9ZMGQo5aa2DAQBsJAGAgDYSAMjDoD7QvteyQMPgQkAYWIQlRBluKILo+BJwamrle+xhKjhrx8YsLQy2PUugXbVU8PYepBX62vra4HDw7L/lInHDkstbFhIAyEgTAQBsJAGAgDpdjrmyT4epQgqiSgdF+krDbiQjGXRWgR8zw9FKtxniPvPchTJwyDdWU5E0tOeO+jueM8R41sXcf66l8P9SAv68P7DJs7frrnc+fOLaee9pFy+eWXl9tvv32h2r/+9a8vO7z+DQvVI8VhIAyEgTAQBsJAGOhioH19E8JMljkiiyLiWBdfXgde1rFg6pgLNXKq9Ti9PMb6HhPOh/p14YiRZ11Et8drLP2JY4nXlt6K+7zGTZcvEbrn3nuVu+68c1pannXWWW2fiNFpoTNNwsCMY+Daa68tD3/4w2fcfmWHwkAYGA0G7NJ8TyghrBBN+LJsokZ537ro8jOJ9OnCTRajrrbsH/vgPcj5mVLqhSNfz+nhWDCKeXxYD2HIOd7nrHN/WJ0JnS4Ryv5JjJ551idxY8NAGJglDFz83YvLHnu9Mf//niW/zxxGGFgSGRgQoghHF1IuoIjLelxzbXUcPMTUPnEsPYfhPA5WtVNd39fxXh7X3HO+Tn3GFCwY6mqf/ovC6nL8/TEiRu8PVtMzDCw+BiRCjzz66HLfvfeW/P978f0esnIYGHUGloEARJSshBR+/e5MxeszjYqBVz/NvQc5YrL0rdeXPwzn8bonPv1qbJ2vccqrRqOurbHgwJLH0svX9Dm4+8PW94R+49yvL9Ay2z3vuRPq9I9V85sub2juG82YnIE//elP5dIfX1p++MNLyrXXXdvcq3tHueOO29v/b6y++upl9dVWL+s8bJ3yrGc8s2yyySZlzpw5nQ3r38OC/j47m8/Q4GXNf0zpz9pll18233uoP5tvyD3N8+Tt7rvvLu8/5ZRWhAIW5xrzug3n3ka46j94f3Tpj8pNN99cbrvt9ubP923ltuZ+9L/d97eywgortNtKK61YHv2oR5cnPOEJZcNmW3XVVVkqNgyEgTDQZ6AVoggvRX2O30c3EwSVrDYXZTXO89R5f+a19T70pxd9hCHmeOJY6h1Dj8nWdfww3LD1WVuWWu+3JM8/OXaJPmK0+7d43fXXldNPP6N8pznb9Lf77usE6Z48bT/56U/KOeecU1ZYccWy1ZZblte/7vVl1VVW6awZpeBBbztogQ/3k2NiKmJ0cgqXXXbZcvSRR5WDDn5b+eMf/9gHTyZGf3bFFeXss89uBeif//znfk09ufXWu8utt85tw5dddln5whe/0M4f9ahHlRc8/wXlOdtsUx784AfXZfHDQBgYUQb6L7Tn+CWuEFjMPac5eRdZmmvTqK3HVIvv/b0X/T2vGmqxXkPPLusxenstMfrWvuo1FAcj33vgy2oo56P2PbekzSVG+Qd/Sdv3+2t///x//1dOfv/7y2577FEuvOjCoSK0a33d0ytBuvMuO5fPf+ELRWecRnXwHzoLc/z6szkdfRZmH5aEWgnD4445tiy33PIDuysx2nVP+LrrPrw9uz+ZCB1oVDlXX311OeUDp5RXv/Y15YMf+mC56667KkTcMBAGRpGB/gvtEUqy2hBjzCEHnHzHItIQatR1xT3H3Psp5j49Zcm1gOaH17MWtdTJ51YA6snhU9NlwSrntyWAJS+rzXt6TvjZMiJGx3+TN9xwQ9nvLfuVr3z1K/MlQMc79Gb/14jZjzQPm+23/1vKH/7whzo9Ev50/QdOxOjU/rhssMEG5djmPtH6DGWXGF1pxZXK8ccdV9Zb75FTaz4E9Ze//KWc/V//VXbeddfytXO/NvD35ZCShMNAGJjFDCzVXCJsVR8iCqtj1lyiChEnXwNfc2LM8Wtb593XGsKzKcfw9YnRW77Ph/kIQ/qzXm276sEox1Af78lced8fr/X5LVs/hlaT2jXO+9Wk+a7kdN1TWPfpWksxXQJd2Mv09ycfw/Z7uuI//5//Ke844p2dbypYZ52HlWf84z+WzTbbtDx0zYeWVZrL7jrbeeNNN5abbrqp/OxnV5RvfPMbA5dG2a911123HHvMMeW1r3sdodbO9ntEp/rnboCU+9kZhftO9ef4kEMPKfqPIR9d7xH+w51/KO9738nlIWs+pDz+cY8vj3jEumXFFVYsy6+wfPnrPX8tv//978sNN95Ybrjh9838hnLNb68pv/zlL73twPyJT3xiecdhh5eVV155IB4nDISB0WBgqeuuu67RSONiU4eNYPM54ksiFFHVhfMcFHqN92RdrHJd9S7u2A/vo7kGOccTbwFjP8izlmM440kvz7GfstSC6+qpWnBu527zWKXmOZYEIaqDWFgxuqQKUZ0J3We/N08QoWuttVbZecedylZbbTXwHyZdv/C777m7nH/+BeXMT55ZbrnllgHIQx/60HJj8w+6jwhRZ2PRzk84/oSyycYbL9pFF+FqV1x5RTn0sMOKzlj66BKjnp/K/Fe/+lV728mF37mo86rBGg95SHnXEUe0DzdNpV8wYSAMzB4G+k/N+yEhqhRDaJFHUIHBx4Jz6znqlPe5MMRYU5Y5udp677ZB86MrRo5+9FactTUn7j08z1w4DYRrjWedFtT8AI8lPhss9+Mt7JnRJYkL3RP6zn89YoII3XKLLctBBx5Y9DDIVMayD1i2PHe77crTn/60cuxxx5dLmyeRGbUIJR67eBjQ5epNjj9+8Sy+CFZddtkH6i+qCStN9gDT7373u/Yyu95woP+QeuADH1h076m2J2/ypPKUpzyl7feYxzymHHrIIWXXm3ctX/rSl9pL8n729Zbm6fv93/rW8s7D31E233zzCfuQQBgIA7OXgVaIIpq6RBICixwWSvBlwXqOWJcVTnXDeqgGTDupftCTcI1nn8jLgsF2rQ/eMcRqS72wNb5r/bp+tvijJkZPO+208r//+78Dv75X/Msrym7NfW/6vc/v0P13Rx95ZHOP6Gn9p4znt0fwwxnYZONNysYbP7ETMNX7UhfkdVKdC87AoM7uH/aOw8tfqkvz7OowMbrSyisVnUmVINWQuPzRj37Ubp/97GfL1ltvXfZ90z5l+eV7D0St2Zz5fOOee5aXvuQl5fB3vmPg/0N6pdS7j/y39gEqvfIpIwyEgdFgoH1YyQUU/4g2smrgH1Qw0FL7ilNbY4T1nOZsynkvx/m9qPSUrWvIeU9wWO8LjpyvTy9ZryFOjBr5Pscnprphc3rOFosYnS3HM+w49Iqmr3393IG0zoQuqAilkf7s7LH77v2zSMRjF54BXV7u3UKie5oHN4nUUR56MO6Qww4tdzTvAe2P5s/iPzzgAX1Xk8keYHrkIx85gMU577zzyu577tGKVWKya665Zjn5pPc1909v5uEiMSqB+tvf/nYgHicMhIHZy0D7ZSUEnwSTtvZyc/Pich+IKSw595kjxmTrQc6xrC+s4lzu9lrwsurhvT1HHqserOlz8sqxvvfx/qrzHH08zpy+8hn06sqBiV1yGNB7Qv0dobonVJfj+T0vzJGoxyEHv72sttpqC9MmtRUDl0/ycvwTZvHl9oqGCa7uB9WZUD1g5GPP5j+IjmselnvQgx7k4UnF6BZbbFEe1zy8tM466wzU3HrrreWo5sl8f1+pAHpS/8h3/1vZ/sUvHsAL96/vflcrSgcSccJAGJiVDLSX5iX8EGP6h5B/UF04KVb7wxgBh6Wf8IppLVl8cFjwLkiJtUXND/bHa5gLQ76uAyPL3NehVlZ5Rt0Pf1je411zYjPVTvWhmJn4lPP9yam+mKSX1fvQg0lTvSeUulHjjeNeHFYPGekl+Rs3Zz6HPWyk+5uneol+cRzD/bXmxz7+saIHiXy85jWvKS9/2cvbkN7coAeY9Oee0XWZXreW6Ml3xvd/8INy4vtO6p9llRg95YMfaP8jC4ys/i14095var66tFr5xOmf6KckjD/a7Nub9tq7H8skDISB2clA+0L7LrGmw63jiFWnosaQcxEnocdAwFEnyxwMtfV6jkNEEsOnh1v6EQNLLdbzYIjJ+v6QpxZfth5dsRoTf8lgQJ/t9LOhekWTno7PmJkMSGBKfOryOwKqa091uX7ULtH/vrkv9JyvfnWAjuc/7/ntGx8I6vVMeuk993gS77pMT0726U97Wjnt308t+pwtQ5fpf/yTn+AO2Fe/6lXtp249qHeN6nOvGWEgDMxuBpbpC6hGLC7V/NepRj/WiCoJLffJt8DmB0IMH6u4/iv4E2ecXq688srmO9t3tKlGdjZFoCZaX29itpS93rhXeeE///PAfoFjP/Flu2LkPcfc1yfmeO+pvI9heO/p+MyXPAb07Xgfek+ofr8ZM5MBCUwN3SOqs6ISNsPOigpz2dvm//v2M/PI571Xp59++sC35tdYY43m79c3TijUE+8nNG90eNvbDx74GhLCfti36VdaaaWy+267lWOOPbbf86c//Wl5ypOf3PeZ6P9DB771gLL7G/ccf2Cq+ftVDwV+4JRTgMWGgTAwCxlolWf7D2nzFwGCyc/8dR2zcGwuvqhXzdy5c8tbDnhrufjii/sitKuXx/TPuffzHPNTmy/P/LT5fjHDxaCvTx/FukZd13U8XXWK1T3xZbv6dtUM6534zGbg2uuuHdhBvaw+Y2Yy4K8Tk/iUj3jq2mPOnHblZlvsql//upx/4QUDh7X3Xnu1r18aCI45eh3TqquuOiE1rzOjWz9764F7Rn999a8n9CCgB5j22G133Nb+6qpfNa80u3QgFicMhIHZxcAyEk/cI4l4w3KoCC35PsevxZfip595Rvlj17eEu3WhSprn9Oc9dFn0mGOPKSedeGJZZ+11BvbH95v99Jh3J68Y+19bMLLkmNeWPh739ZaEOd+XHnaGY0k4hvt7H2+/vXdmn3X0xaQFGVO9B3dBeqemtJfZORsKH/J1b27Oipby0Y99VH/xQU156lOfWp75jGf2/a7JDTcMflwBDOJ+2N8b+qLY9ddf38L1vfnJhq52XdS89P4ndgn/Pz79qbLppvkPvsl4Sy4MLMkMtK9v0gFIQNUDUYUIU15zNsfX9bocPz/DV/f1unq0T1W+690DN9B34eo+8uv95FjqOP2U93tcNadGmK6ezpvyDJ8TmylWIlT/oMzrDMdM2d/FtR933GGvuGl2Qv/IZsw8Boa9M1QPLiGcuvZ6VM6K/vWvfx04fPnz+vtpueUePFDjzmR/b6y6yviZ1PqrTd6D+dJLz2Ha2vZF+wOROGEgDMwmBjpfaI8oQ2S5z2V7jzF3YrgnlNjZX/pyOxW27uv1mruvIvmf/c//bD+DSL/rm3c5HnXM0eXfGkG6zDLtYZDqW9X5X674xOSzeYwGXTHhfQhTx5Sfasx7La45IpT1+Yd62BkOcLFhYCYyoEvw9dlQ9lNC86zG0Ttvh2H0OqfZ/laD173mte27Q+FFZyC/0jy4pDOSw4Yuz+tl9cPGsL839t13n6JbWq655pqi+1AnG9/67/8e+LqY/h7VfaYZYSAMzF4Gxu8RHTtGCSsEmEIuqDT3XJ2XX+cVY1Avy1w5zbHD1n/lK15Rttl6mxbHD934fupHPoLb2rpeQfaJdSSmWZ8cTagnLhxYMG7JyWrU9cTa5Fie+UywtQhlnyY7wwFmFO3KKw+eAb3dXwI+ioTMwGMeJjDZVX0haV6vavL7S6mbTVaXuh+zwWMGDukjHz2t3HTTTQMxdx79qEe72znv+ntDr3Y6/rjjynrrPXLSNxPoxfofPvXfB/puu+22Zf0hL8sfAMYJA2FgiWWgFaJ+6RlBxREhrDyOSBPG58JwxpR6t8J6H821sX6dl88m3Jv33bc8/vGP95blnK+cU84555w2Rj9ZDfrVfptsfoBnfcWJUaOY8u4r1jXqWq2v4bU+7+qxKGPDRCj70PWPCrlRtaussvLAod94U/d9cwOgOIuMgXkJSP/6l8/rHZSYne2vc9q9eWl985dT/9D1ec/3nPjegb/T+8lm8qQnPcndofOuvzckRk84/rgJL6/3Jh/80IfKXXfe2Q/p3bw77bhj388kDISB2clAI0R7YlCHJ5GEeMLnsIfFEVbKs1HTZcF09ZtsffV6QPPJuXce/o7283D0Vs2HP3Jq+366rp7CebxrfcQz64Pn2FgL63HmdV/i1GDpjb+47LxEKPvV9Y8KuVG0D3/YwwcO+0c/yhO9A4QsZmdeZ0P9TKjmk72nUq9zms1DtynUXzW6rHkjyWeab8R3Db12Sd+On8ro+ntDYnTdddftLNeL9c+/4PyBnF6qv/pq4+8hHUjGCQNhYNYw0NxcKQE5ftbOBZREk3yPceTkZBFyyhEHhyVOL6ziGvhY8J5TbMUVVyxHvOOd5YCDDiz/1/wXfFvfnLE89rhj+0/Stw3Hfngfj7OOYm0PT47FhOmqV4w41vsoVg9wvm6NWVT+VEUo+6N/VDRyz2hpni7evHzjm9+AmvLd731vob8x329mE/3Z3mGnHYsuVzKOPuroslmeHoaOCXZ+zoZSrD/bl2/8RNyRs7vtsmu55JJLBj7xqS8c3Xbbre07m/3vdpGz75v2KRKrt9122zy5msrfG/p78ZQPnA/FESAAAEAASURBVNJc2frKQD99KOKVr3zlQCxOGAgDs5OB9vVNHBqXoBFLWPJdFrGmXP2XluO917AaxJrqHO99NF9vvfXK2w8+uLzr3e8ufx97il1P0h/xr+8qJ590UlluueXaEl/He3jc10FAeszndQ/8us6PA8ywPuQXle0SoeLLP+GnfaljU/lHZVEdw+JcZ9OnbFqWnjOn/3UlPTR3wQUXlGc/+9nTultf/NIXB0Touus+omz6lKdM6xqzqdlkDyjpOHXm08+Gcuy6X1TbqA5d/v7Xdx5R3nrgAQPfgtdXja5vPrN5+KGHtd+Ehx99Yenw5pOfRx511EKL0fuaV/Ed/54Tir645GPttdcu72keGHtw9Z17x2QeBsLA7GGgfX0TQkpC0gVTG+84u6fDr3Hy6eO5miphHFf7XgvOe5DffLPNe09TNusyfv/769sn6anDkscSp5f7iuHL+px66uQz9zqfUy+s95O/OMac5nfsQ4Lz2KOP8VA7VwxBT/Lvf5t4ppfcqFhx8qzqfYv6etjdd989bRTc2dwn97nPf36g38te+tL+n7WBRJyWAX1HfrJxeSM2JVb1/tb53Wb7vaL6D/sj3/1vza1Pyw5QqCfk99v/LRMeYNpow43KRz9y2kJdptdCOuv/u98NfiBirbXWakToCWW11VYb2Jc4YSAMzF4G2m/N6/AQTy6c2sM2oUfOBZXmnAkd2sP4E4aNdbHqxYNDmgvXNZTT2P7F2xd9G9lxepL+w//ee/LS495nsvXpXa+vGnLso3qCcwtOed8HX1e5xTFe99rXlV123rldGhH62Mc+dsKuKOZi9NWvenXZcYcdJuBGMbBTc8lcZ0UZNzTf7D7hPe/p//kgviBWZ4lOPuX95c9//nO/fMXm3rp/es5z+n4m88eAHkrS2dB53T86rOuwd5IOwy+J8Sc84QnNLU/vKDpD6uN///d/yx7NZzf//dRTy00339xP6czoIQe/vRzbfIdefzdsttlm7Tt1JWYf8YhHlBVWWKGP1URXVHQ1xod6nNA8Tf+4xz2uDT/0oQ9tRah/n97xmYeBMDA7GWi/Nc+hudjyGHMJTgQXAku2vqQP3q3qqPc4c/oi4rw/GPaPnOL6LN3vm0tIfnlNT9K/ae+9+/ta17NGHa/7+z773Nenhl5Y4o4lt7it/uHQPzhPePwTSpcIZf8Qoz/44Q/KDm+ICIWXhzX3rz3/uc9r3rs4fl/bhRddWNb82JoLdb/ovffeW446+uhy8XcvZqnWvvhFL2wf1BsIxhlgQEJnk+ZybtfoidAFf/Co65J+1zpLemzzzTdv77M/4l3vKreY6NSZS90q8uX/Orts+awtyr+8/OVF35/X0ANMXd+Ov+qqq8pBB79t4D+oum7vkRiVmD35/Sc3/4G8yzzfM7qkc5z9DwNhYCID7T2iElmIM4STCy+VISI93hNbvbN+1Anrc/kaikmwcvaUWK9H7wynelPLXFaD9VvHfih+2KGHlle++lUWHZ/SRxEEM1nWwmctLPusPPupnO8LWHqAxVeedXxOfnHZl77kpVNaWmJ0MrE6pSazEKRX31xx5RVFZ4wYn/v859rLmAcdeOCEM0tghtk/N//YH92I0B9e8sMBiMTBa5uXj2dMzkDvXs/Lm1cubTwA1NlQXVpf0LOhk73iaWChWeLoXaEffP8p5d+OOrL87Gc/GzgqfV75/AvObzf9nfDI9R5Z1l57rbLWWmuXtZqzmbq3U282+eOf/tTW6R2gZ5999kCPLjGqe0F1djUjDISB0WSgPSOKUKopQDghwmS1DQpKCa3emVLhXaR5P3p5THPi1zf3d3772+eV31zzm8L3iPUlj0et/6jmsuQ2RU9RarAvvg6XgejVAsewzGXZf82FrfFgFAejGh+sj1WOudcRr2vdz3zJZUD/eL67eThun/3ePPDuQ50ZverXV5Wdd9ypbLXVVu2fjcmOUmeb9GDI577w+YE+qtmwuRfvnc3l0mFfDpus7yjmus6KLszZUC7pjxqXK6+8cnuJ/Nyvn1s+9vFPlDvvHH9zA1z88pe/LNoWZHSJ0QXpk5owEAZmBwPN65sYEwUXIkwCS8KPgfAir7jPwbmt8/jqrUvpp59xZrnnnrubt5pqND+b/1166aXt9uXmv6p3bu7Le9ELX9TLNuIQ0dcGxn7Qk5hjyBGTzxy8LLEufBdOeGHp53XksF6f+ZLPgB6s0Cdm33HEOwdEpO4ZPfrYY8oZn/xkecY//mNz/9ym5aFrPrS9h+6ee+4p111/fbmu+eThb5uzqd/4xjc7/6HXf4Qd2bwVYtnmnruMqTFQnxWVkJzX0/STdb788sEzgpNhZ1tOf4/p/vtnPfNZ7aeVv/6Nb5SpfCd+qjxEjE6VqeDCwOxnwF7fpDOEvQN2McWZx1pMgZFVToNYr8vEnzVOZ1aPPuaYgcuR6tS0HBgSqPqU509/ell5x+GHTxB+6jPZ0H5p49L8sP2sj1G+jr+rv3qQ57jYB+8zbA42dslm4AnNl74+cPL7yzv/9YiBy/Q6Kr3aSZfrtc3PWH/99csxzTtD67cWzE+PUcVK4PBeUM6GLsjldYlQv+98VPnU1aY37f2m5kTAzuW/v/3t8tWvfbV/xWq+OGn+vpzTPOB3X3MfNCNiFCZiw8BoMzBwaR7BJkoQWdCDeMO6+PI68F3WcarXwx71PXF9DSpx2/zl5UMPzejs6Ytf9OK++HWh51jNtR776Thi5GU1EN0er7EtsPlBHEu8tvRW3Oc1Lv6Sy4DOjJ78vpPLaaedVr7WXM7UvXQLMuYss0x5zate1d4TOqqX43U/58IIwN5Z0fH3gk7ng0bzemH+gvzOl5SaBz/4wc0VqRe2m15mf+XPf15+3my/vvrXzftu7yx33XVXu+l4VlxxhfbDI7rEv8GjH93eYrJh81S+rgAc9o7Diz4lyogYhYnYMDC6DNil+XHhJsGEaEJoYUWV530+GY2qp6dwuif0jDMHX+eh13boycknPrH3pZMrrriiuUfpY+XWW2/tt/74J04vT2le7K1PLdLT+/aBzURnMrmlAKzywnM8XbXk6AV+sh7UOGbYnL4zyerdihkLzoDuGd3vzW8uL3/5y8rpp59RvtM8+T5VQao3GOjBDr0rVE/kj/LQZzUve9u4kJxJXCzoA08z6RimY19WXXXVssWzntVu89PviRttVI458qhy6OGHte8QpTZiFCZiw8BoMjAgROtL14grxJrbWmSJPj+j2EUn9cqdd9757T2h4PQC45NPel9ZaaWV+kJxyy22KE/aZJOyb/NACGJUl+n1UNMOb3gDpa2o9P0h4esRk+3CEpdVHcfuWC7Tc5w1ljpqhq2vuozZyYCEpL48oy9VXfrjS8sPf3hJuba5H/T22+8od9xxe/vnSp+pXWXlVdq3EWzcPOWtLybpNTYZpX3qXf9RNJMeFNJZ2tn+3flF9Wdvww03LMc0H8s49LBD5/lqp0W1T1knDISBxctAX4gimhBT+JxRxJdFsGrXu0QXWD80xcDK/uY3V3u67LrLrq0I9Z7CSZjututu5bjjj+vjdTmIQc96TeLYOt9VL6wGNdgaCw4seawfq8eY3592lVVWaUTP7f0ltnvec/vz+3uitTN6DOj+zi232LLdwsn8M6CzjzkDOf+8LQkVuq9aH8s4pBGj/mnhnBldEn572ccwMP0MtI/CTyaslPONXZDYGibuwHRZ9VLd1b/5zUB6o+ayje8HScWU88HrnSZbf7L9o4596VrX1yOPJUcffLfk6hrH3B9znWFbXGNxrr24jjnrhoEwMP8M6GtKepH9cssNXgmQGK2/wDT/3VMRBsLAksRA/xOf7DQCTgKKuec0V1x5MIrhM5f1obwGAs1zzMnRX5YYGNl77vlr69brO0Zz1vQ5vb2WGGvVPn0VB0PP2gfra4Mld3/aPXffo6zQXPpd1ENrau2MMBAGwsBUGHhs83Wm4489dsJtKZ/+zGfKtddeO5UWwYSBMDALGFgaQYZwkvUYc44VnHzHItL6wqynOynrCzhqHtW8osaHvuJBjjXw9dCSD32TmCEMaxOTJU6MWwzozX7iU9NlwSrntyWAJc9+eE/PCX9/Dz3wdeqHPty+TH1RXCrXGnpxu9bMN6Lv799u+oeB2cXABhtsUI5vvjfPR0n05ojDmy/lPfzhD59dB5qjCQNhYCgD7T2iLtoQU6rQ3HN0QVw5ZkJu8M1L/T7Urt98MenSH/+YsvLxT3y8PPlJT+rfJ0rizjvvbJ+cx5fV05cM9hEfSxzLceALRwyrmPI+PNeV7+pHD6/1ufe/P+YShIcdcuj90To9w0AYCAPTyoA+K3rCcce3T9Pvu88+5ZnPeOa09k+zMBAGZjYD/UvzLp4kmjRcPCG4ZHVWEAyHpzgYYl2Wum222bo84B8e0Ifoqfg3v2W/csGFF5Zbm/fU3dY8cHPhRRe1T8zPnTu3j9Maep8dffqJIROOQXUa+A5n32X92Oo1qJWtc/TwuGLus76vnXkYCANhYNQZ0EcczmhezRcROup/EnL8o8hA/6l5P3gJKEYtpiSsEF3C4GOpqy09seusvU7Zcccdymkf/WgfKsF5/AnHTzgr2Qc0E0nkyy6/vOgl4uxb21OJ8d32koG517AvLhYVc4yKPc+cWi7V+/EzB6se4LGKZYSBMBAGwkCPAb1PNyMMhIHRY6B9ah7h1XX4iCph2ByHsKIHvmM0R5S5/ecX/HN56uZPraGT+40Qfv8HTinf+u9v9UVwW9AhQrv2xddnDg7LDiivTXE2cliPz6sfNbFhIAyEgTAQBsJAGAgDzTvoEVsiY0BUNece5TMQWcN8xR0PDus51tEDRIc1N6bvvttu5QEPWLa3fsdpzbbW9qVRh+Wk972vnHf+ebTvtOyzbNf6KvLjr5t4DTli9Jbvc3xirEG9x4nFhoEwEAbCQBgIA2FgFBloL83zpSBEkixPmUOKYogsxJhyxH3ueeqx9JCvudbZ/sXbl0033bT9YtLVzYvuf9O8Y1SvaNLT8Rs1X+LY/sUvLj/+yU/KBz/8IS3YttK67z3xxDJn6Tllyy23pH3fcgzsn6xGvb7HwFDTFoz9IAaGY8QXjLmvobhjmSueEQbCQBgIA2EgDISBUWagFaK6zxHhKaGEWEJ8iSDFan8YcQiyrrxyCF/l5WvTPaNvaL4z3bW+Yi94/vPLnDlLN5flP9CKUcW038e/9z1NfM6Eper9BaC1yDHnPk8wymsoz6CGHP6wvMe75sRiw0AYCANhIAyEgTAwqgy0T80jriABAVbHEavgZGuM57rmCDjqZJmDZ/16vec993llv33f3BeSba9GjB7bPOA02aAfGPm+btf6YKiR9f0hTy2+bD26YjUmfhgIA2EgDISBMBAGRo2B9h5RHfTfG0HHQDhNZpUjT91kdhiWPuRbcTkm5oi53W7bbctb9tuvL0b1GP199947dGnVIhZrEH0VZw6W/cB3DFhZ5uRrvPL0EiYjDISBMBAGwkAYCANhoMdA/6n5Ri31BZOf+esiSsKKDaEl3GSCSzkfLuK0nvdjfRd51Aq37T9tWw546wG99aqHqsCxX/W6nmfO2rLUkeuydU986qmR7znisWEgDISBMBAGwkAYCAOlLCOhxD2SiDAsBCGm5PscX3hGnSdeW3CyXesLrxy4uv4522zT5k486cTyt/uaF+xXgpS6+ljoQ14++19bMLLkmNeWPh5nrdgwEAbCQBgIA2EgDISBiQws4wKrTiOqFNdcA7zmxOq5/HqozvHk6deVU8zz7qt+62c/u7lvc6nynve+txWz9MRS677OtnqceR33GmHYP4lmH+Too1y9n9SC9frMw0AYCANhIAyEgTAwqgy0T80jnBBMWIST+1w29xhzJ3HllVcud9xxRz/0kpe9tJ0LS99+0iat3B0TvRZup2us8ZBy/LHHljXXXLOf2mrLrRrht3Q54T0n9MXoGmus0eZZCzA+olE+m8fAd8WE9zHsWGqcarpi3que37L1Y+pQ/DAQBsJAGAgDYSAMzBoGxu8RHTskCSsEmEIunjT3XJ2XT37D5v2f9Wh72dnFOi9fF/npUedvueXmcvAhh5Sbbrqpn1LPrZr3iL794IPL0mOvcarXph/HIjHNsZCjoXw2xYQDC8YtOVkNar3vsLn3yTwMhIEwEAbCQBgIA6PGQCtE/XIzggoiEFYeHyashOGM6c477lSWX2EF2rS2rRsTbAMJc9TD17JUO7355ptaMXrzzTe3PvvyrGc+qxxy8Nvbs6W77rJLP+f9hPXe5OrjJ87a3MOKP8xSxxrsG77qfD6sT+JhIAyEgTAQBsJAGBgFBpa69trr/o425D7JWlCJCGJdc4hyjHrNnTu3nH7mGeWKK64YuEzfSM2mIVXjVvH2oaPeIuOJjtlDHrJm/zK9C757/npPWXbsc6EIT2zdBlEoC8Z7gSeHD16+zz2veV1HbO42jwUaOx8MrHHer+YDHWgYCANhIAyEgTAw0xlohOi17SPvElSczdROy8f6nJhbryOOQPOcYnUv4TU814sM7gMxt95Lc0SkMOTqOfWe91jdo0tMCu9xenmt96zxufcTdubPRojOH19Bh4EwEAbCQBiY6Qy0r29iJ7kEjbDCku+ywiDAXHQK6773GlbTJe6GrUmcvl7L/vg64GU9Tr3iXidfw/O9SO+nx+s63xdqHE8sNgyEgTAQBsJAGAgDo8xA+2UlhJSEowumNt7cV9k1apx8+jCXr63GduG0hnA1tl7b8+Toh0UA44PDEqeX+4rhy/qceurkM/c6n1MvrPeTnxEGwkAYCANhIAyEgVFmoP3WvAhAPLlwaolphBmDnAsqzRF+dQ/5xOhBTFbDrXrx4JDm5KjFKsdwnPDyyQ+rV5ycW6/1vlpLOPqyj4qDcwuOOlkNX7cXyc8wEAbCQBgIA2EgDIwuA/0X2osCF1tQglCTL8GJ4CIuW1/SF5Ze4FRHvfL1oC8ijjqs8HXPYTF60xOfetao4+RZUzj22efkfX16YetexK+66qqyMk7sfDEg7jLCQBgIA2EgDISB6WNggw02mL5mC9Cpf0ZUQksbIou5x+u51mtK2hrqFPM5fRRDsAqjoVgXVjnVYelBrE2M/SDnsbonOT+TqZjj5NNflr6qYe5x4TUUq4f39bzP65r4YSAMhIEwEAbCQBgYNQbap+YRTrLMRQQ+MaxyXI5njsiq48qrTnn6KaZBP6xinIEk7zli6uU4n4NxqzmDfuwvvufJKVbnu3DCeI1jmMeGgTAQBsJAGAgDYSAMDDLQvtC+Fxq/F1S+xBUiTCKLOblaeDm+12/8bGFdTw9wWPWgL+vJJyYcvTymOHgs2K56eghTD/qqj7a6Hjw4LOtSJxw5LLWxYSAMhIEwEAbCQBgIA80JSARUI5smiC4JKPK1mCIuq9ywfN3DcZ7TL8Nz+KxT/7KIy3L5HEzdRxhtxKkFjyXvvp/hJS5LD87Geq3mviZYx6hH7SuWEQbCQBgIA2EgDISBUWGgfX0TB4t4ko+Y8pzmLqqEQUwRBw9WcceAoz858NSTx6cOS12NAz9ZP9VQRx/hEZ3sM7buJZ86rGJdg/1Vzuddfld9YmEgDISBMBAGwkAYmK0M2KX5nlBCWCGa8GXZRIbyvnUR5A8H0acLN1mMutqyf+yD9yCn9ZlTLxyxek4Px4JRzOPDeghDzvE+Z53YMBAGwkAYCANhIAyMMgMDQhTh6ELKBRRxWY9rrq2Og4fg2ieOpecwnMfBqnaq6/s63svjmnvO1+EyvPLE67nqPSc/IwyEgTAQBsJAGAgDYWAiA30hKkHFhpASXOKLuHzNEazywSrO0Jy4YtQTk3W8YzQnjwWLL8tgDqaOD8vXOK/3dYbF63p8WdWwLvG6D/HYMBAGwkAYCANhIAyMKgOtEHXR5HORIt83iJKwcnFFHEueWuLyqdNco7ZgyQ3L08fxmrP2ZHl6C0P/ug8+eSzxYf2VJ1fXdOW6MKwRGwbCQBgIA2EgDISB2cqAPTXfO0QJKMQZcw4ecUVeAoqY5giq2qqemOM1r31hFRPe88TdglFMgzVq6zl6ey0xWY3ab4NjcTCKeQ98WQ32oedN9BWnFxZsbBgIA2EgDISBMBAGRoGB9ql5hJcOWAIKgeVzyHCB5Xn1YKMPPpY4/RVn7jnW8P7Kg9ec4fX1OvIZPBFPb3L4wjGvLVhh/AEoasjLaqNeec/J1/C8z3vZ/AwDYSAMhIEwEAbCwGgwMOHSPGJKh1+LKigBg5WYYnMMIstzdY2vobnfk+o59aUfa8g6xvPEsdzXKp8hPHli8n3znsJ4PT4YLPX4wvnce2juOWEzwkAYCANhIAyEgTAwCgz0L80jjiSKEEayxBFMshJ1YCBJcTDEZL0HvmyNla9R9ybeJpsf1NXrK08OrCzr0wffMcqx+fr1GtTK1jnqPa6Y++wPa5MTLiMMhIEwEAbCQBgIA6PGQP+peT9wF0aIKUSTrGJgPO49fE6NYtTVc2HAsSYYcvI1WN9xvUzvp/DDhtdorkH/en3WIQ9WllrOtPqazLGOH7a+MBlhIAyEgTAQBsJAGBglBloh6uKoPniJKQQZ1jGKadADnxgWUeaWOTX0UI2G8toUB9PL9H6SI9bVjxwWjCxzemMdKwzr13nhyGk+r37C+Kjxnss8DISBMBAGwkAYCAOznYH2YSUXRIitRqYNiD8wEFL7ilNbY4T1HOJNVjnv5TgeMKIftq4hTl/6ufW+4FQ3rJdyXiNfgxi95fscn5hq6jk9sJ4XPiMMhIEwEAbCQBgIA6PAQHtGFMEnQaRNl5ubc5ADx49YwpJ0nzliDKEFVpacY1lfecXb9cfOtCqmAV5WPby358hjVcuaPievHOt7H++vOs/Rx+PM6SufQS/P0U8Y8uBjw0AYCANhIAyEgTAwCgwso4OU8EOMSRQhjFw4KVb7wwgCh6Wf8IppLVl8cFjwLkiJtUXND/bHa5gLQ76uAyPL3NehVlZ5Rt0Pf1je4/Oak5+pdu7cueXU0z5SLr/88nL77bfP126+/vWvLzu8/g3zVRNwGAgDYSAMhIEwMBoMLFMLNR02Aq3OuYCEnhpDnB7ya6Hrua568vV6wiqnAaZ1OnzisvPC1vvAGr6e+vj+eE/N8bHCM7pi5Ga6lQjdc++9yl133rlAu3rWWWe1dRGjC0RfisJAGAgDYSAMzGoG2ntEdYR/b86KMiScNCazypGnzi3iTpha0DmOPvRyLLF5WfqBw5dVjH3xODli1IJlP/AdD1aWOfkarzy9WGtJsjoTuqAilOOUGD3zrE/ixoaBMBAGwkAYCANhoGWg/9R8o5b6gkln/iYbElZsCC3hXXARV4xcOxn7obw2Da3n/Vif/FhJa8ARc8xk64PH1nX0VVzzyUadx5ft6qteYOgrnGOJzzSry/HTMSJGp4PF9AgDYSAMhIEwMLsYWOq6665r9FBPfEksIZjcDpuLCnLM8efHsj49ZDXUgz69yPh6intdnae+C0OOmmGWtVmLOnq6pQdYaokvqXa75z13Ru36KqusUjbeeOOy5+57lNVXX31G7Vt2JgyEgTAQBsJAGJg/BvqX5ruEE6JKgouhORsx2bqemtp6jebkVV/3qNd3n7q6n/s1Rn69hmJdcfoop3tcGZpTo1hX7bD9FLZrDIt3YUc9poelLrjggva+Vd2/mhEGwkAYCANhIAwsuQz0L827GEKsIbK6fI91Hb7y9QZOfev1PEYdGF+LnPdiXlvqiMtnHe/tDyHRH6xqvQ95etIHHwuurlW+rnEM9bGTM6D7VnX/akYYCANhIAyEgTCw5DLQF6IcAkIN30WS5vMSUXVefTijSL0sc+U1xw5bX3GvaQusFr+uV5x9Yh3uSR2G9bhqutZlPXL0ppY1fX3mNZZesfPHwHTdvzp/qwYdBsJAGAgDYSAMTBcD/feIIo6wLICg4gEixRUD53PFtClGnXxqHas+4CVUqZNl0AMsvvfxudeqxnNdPnjWZx1ZDdbzfC/T/ZN+1LK+x7vm4Lq7zqzoN879+szaoexNGAgDYSAMhIEwsMQy0JwR7YlHHYFEEuILnyMbFkdYKc+mGsSn5l4LxmP0mGx99XGcfA1q6NuLjmPl+1rgPMa+ei/VsZ7mPjzOvO5L3Os0r3GKDcMqlxEGwkAYCANhIAyEgdnKQCNEx89e6iBdFCHWPAYR5GSVB+Nx5qphDtbx5ITzuHyNOiY8NbLKIybJ1flep/Gf9FQE7Hh2PEb/OkcN+bofeerwhWMjFxsGwkAYCANhIAyEgVFkYODLSlyCRlRhJyNGGEQWYhC8+95rWA2iTvWOpx/Wc8y9lv3xdaiV9Tj1inudfA3P9yK9nx6v63xfqHE8sS4cudgwEAbCQBgIA2EgDMx2BpZxEeXCUQfeCiVNGrFZDxdWwqkWYaUcfVXnfT3uOM3ZwNDP1xamHuCw7At9uvCK0Yu62qdecTDUdeXAOJ6Y6rpqiLO2/CVpnHf+eeWYY49d7Lv8sIc9rHz8ox9b7PuRHQgDYSAMhIEwEAamzsDSCCDEE2Kp38KEHzlZnyM06x7yidGPmKyGW/XUWVkNzcm1AfvB2jVOeOXID6tXnJxbr9WcnNbRnL7so68P3ntQJ6uhHvTE9jJL7s/vf/8HM2Lnn/60p82I/chOhIEwEAbCQBgIA1NnoP9Ce5V0iSOPueAkLithhkhjacU9Vgs1BBsY8l5f7xM9WZs8PajFDuupuG91X/nEOGbhmU9lferZly6rnhrerws3U2P33Xdf+eEll8yI3Xv6058+I/YjOxEGwkAYCANhIAxMnYH+GVGEGaJIPmJq2FzLSEsJR51iPqdWMe5BFUajrgOrnOZY4sTaxNgPch6r1yfnZzIVc5x8+svSF5EtrMeF16Cm5/V+el/P+1xIx3n9kjK/4sory5/+9MfFvrvLL7982fAJGy72/cgOhIEwEAbCQBgIA/PHQHtGdJggQjghwtRa80FBOS5YiatOm7D0xq93r46DB0cP4TTkD6sBg6W27sUa4MjTH591wJMnDo48/WTBkKOWmtlgf/CD78+Iw9h8883LnDlzZsS+ZCfCQBgIA2EgDISBqTPQflmpBx98CEgCChGFqKKt4oguj4EnBqauV77GEqOGvHxiwtDLY9S6BdtVTw9h6kFfra+trgcPDsv+UiccOSy1s8V+L/eHzpZfZY4jDISBMBAGwsBiYaB/ab6RTRNElwQUAqsWU8RllRuWr3s4znM6es/hs07NDnFZLp+DqfsIo404teCx5N3nvlBiWHoorzqv1dzXBOsY9al9ei8J9rrrryvXN9viHks3Z0I332zzxb0bWT8MhIEwEAbCQBhYAAYmPKzkoom5+jLHSkSxed73QVhtCC58YRTzXN2DPP2EdQw9axx4x2ruOM3xZRmITvYLqzzrg6UOS7y2Xudz4Wq/rp3J/kx5Wn6jDTcsukc0IwyEgTAQBsJAGFjyGLBL8z1hhLBCJOHLsukwlfet69B1ppJBH/ypWupqy/6xD96PHPesKke95uTruXwNx8oXXjGPD+shDDnH+1w9l/Tx/Rlyf+g/5mn5Jf2PUvY/DISBMBAGRpiBASGKcHQh5QKKuKzHNddWx8HDb+0Tx9JzGM7jYFU71fV9He/lcc095+twGV554vVc9Z6TP9vGH//4x6In5mfCePrTFuy1Td/61rfKPvvsUz772c+2t3b4sfziF78oBx98cDn55JPLH/7wB09lHgbCQBgIA2EgDEwjA8vQC/GFsML3y9XCKl6faVQMPBiJMWJYYrL0rdeXPwzn8bonPv1qbJ2vccqrRqOurbHgwJLH0svX9Dn9wS9p9pIfXVL+1rxDdHEPfU1pnXXWme/duO6668puu+3W1p1zzjll7bXXLltssUXr692oe+yxR/nd737X+vfcc0856KCD5nuNFISBMBAGwkAYCAPzZqA9IzqZsFLON1pKWLm4Io4lTy1x+dRprlFbsOSG5enjeM1Ze7I8vYWhf90HnzyW+LD+ypOra7pyXRjWmIl2ptwfuqBfU0Jkwu0111zDtPzlL3/pi1AFf/Ob3/RzmYSBMBAGwkAYCAPTy4A9Nd9rLAGFOGPOkogr8hJQxDRHUNVW9cQcr3ntC6uY8J4n7haMYhqsUVvP0dtriclq1H4bHIuDUcx74MtqsA89b6KvOL2wYGey1RlDnRGdCWNBv6b0tOZzoFtuuWV7CBtssEF50Yte1D+c5ZZbruy///6tr/kuu+zSz2USBsJAGAgDYSAMTC8DyyCm3GoJxBhzlgUnH7HFZXYXVMoNi6tWOdagjn7Ka+CTr/Fg1EtYcHVcPpi6p9eRc6ue3le3JdCLder9ol55arFeU8/lz/Rx5c+vLLpHdHGPhfmakl5+f+aZZ5bbbrutrLLKKv3fEce03377lV133bU84AEPaDfisWEgDISBMBAGwsD0MtDeI+piTIIJ0STrOZYmLx9MnSOOBUstYo28LBu9ZH19ajxPfY0ljqUPvuPJKaa8D8915bv60cNrfU6efp7ztWfi/Pvfnz1fU1p11VWHUpxXQg2lJokwEAbCQBgIA9PGQP/SPOJIokibhguk/9/eu4Bbd5bluSPJj4Tz2XBSOdmWowrYVsBuySWVY9VWJAmBqogIiiJsxSogumvVtiriGay6CYTjtrq3yMFLrS3QClQEQmu1KpAogoEA4Qwhe95jrnuuZ33/mCt/IJCfNZ/vcs739LzvN8azYngyxphzKriwXBUU45GQF2NunGGMHbHErHG2+bm4erNv3J+6NbFYz8E5xomh5iv3H/ewFzvW7M88uYw9Hve2Bu5zZZ0sv6b0FZ/ip+U/V3jucZaBMlAGykAZ2AUGDnx9kyecwkgxpWjCkhOTeftHaw95+0YfjDj3FGONmOX+iVtX1u/gt63swWc5f9zffayLxdqLcM18+nkc4rHmzRnPg06yN25d5zpZfk3pnve8Zx5W/TJQBspAGSgDZeBzkIFZiKY4Gs8BkUQ9X4lRTDnDGIy+NXKKLqz+Ek5s7k8ulzVzS/OsacVg9XN/cVgx1H1lHT/zVzRv7B3xY/1kiO92t7udDIdx4Bge8DX3768pHWCkQRkoA2WgDJSBz00G5p/4TEGkKFvJtI2Q5NTEeJpjTN7eEQM2a4o3LLWclTg+FLS0xh4xznVe2pwrjr5ts6hlDzHLnLOJ0zc2R8/oO0ObdfAn03rMo79tut71r3/SHNKtbnXr6dsf85iT5nh6IGWgDJSBMlAGysCnzsApF1544eV+ClxhxDhyxljEksIw82CJM5d4+sY6PSzz4rXU3N9+rX1Ylj1Yl7ml87Jmr5b5uZznvtrEbPPdIy3YnJH+tjknS/7iiy+efvnZz5re9KY3TZdccsnVclhf+IVfOH3lfb5yuv/XfM10xhlnXC3H0E3LQBkoA2WgDJSBq5aBWYgyMkWmIow8/lK8lBM/2sRS2yYQ7ROvWDOmziLmRX2Ml7AzKN7GXvcR4oycTy1xOYOacfbqU+8qA2WgDJSBMlAGykAZOMjA/Kn5UTCNAswWxaoxduy15gxiP9CDD34UdOMMe8f9EucMc8bsMS7nmRdrrzbrYsxh83is22uMHddSbsQ0LgNloAyUgTJQBsrArjEwPyPKSV++9+nv2d8TUwqoJUvO/BJphwm057/gBdP5L3j+3OYcZ9Gnv80+9/znTbysu/8Yey4eizht4vXFehzGzhqtfeZHPHVnuW9tGSgDZaAMlIEyUAbKwDTNX2g/C6UVGwqmvPK3RBI4XiyElnj7tebBiUeAvvCFLyS1ap6mc84++8Ct+pyniFuD1+/Pe/750/nnn79JnXvOwzez3Veb+28a9hxmuzw2+4ytj3asZ18ec+LSZ577j/lxr8ZloAyUgTJQBspAGTiqDJz2pCc96elL4kmBhN3mQ4o1CTJess9/4Qv2Reiq4YK3XDAdO3aN6U53vONmjn3OJjb3kt/4f6bzzjvPraY3v/nNHMB0t7vuf8WQWPvy3DaNK8d65kY/Z1kbc8SKSjDG4uwbLfUrwow9jctAGSgDZaAMlIEycJQY2NyaXxJF5BBZKbSMMwchY791LVdCX7C6JZ/r9NNPn0Wo/eOMcf973P0e0/Wvf4McMZ3/vPPn2/QHknuBe1sjHvcgt5TPnnzG1V9ecvZSbx63OOal7/zD8ompXwbKQBkoA2WgDJSBo8bA4hfaK9YUWUtx5pZIoe7rBS964YErocy95jWvOf3QU5823fnOd55x5BRq9mXMHre9zW2mH/s3/+aAGF11zbfqeWZ0XB6jeWL3ydncws942/7MseZM+4y14rAu/bHHvLjaMlAGykAZKANloAzsAgMbIerJIpJSKKVIws8aPVknHuvcjvdK6Ixdzb/W6kro05/2Q9Od7nQnWjYznJ8znE8O/zZf9EUHxKh1nhv1A0zZz3xjsQhPfPLWwLHMmQcndo04+G4Nyxr7zc3FvfqItVZbBspAGSgDZaAMlIFdYmAWonnrWZEkCQqrzCvSwKQPxg8IkX9+fjBpD3vNlQh9WlwJpcf96Rn3IWcey0oxao48YpQPMznDvjEGyyLPy/0zZw856hmTW1rOE+uxGdMz+sTilmY2VwbKQBkoA2WgDJSBo8rASojuf2hmFEUpmlIsZV6fui/IeuGLXzS98EUvOsAbz4Q+7SlPna+ELs07bH8GuRc2b9Pnvs973uqrnZ733A2WvtxLbOYUz+5vzf2YkSvz+uNc89mHP+LIbcNS6yoDZaAMlIEyUAbKwFFlYCVED96eTlF0mCCzhqXHPuLxmVDIQ4TyTOhd7nKX4/DOApdziFljDjyvFKNiwD9vdWX0Oc9df7oeXNaoszKX+6+r++J1qZ+cPdbHedbHeeB8WastA2WgDJSBMlAGysAuMnDgl5W4BZ0CKsXVNnLA0KMg40roi164/Uooc8Ye9znRvcHbc7vb3nZ+ZvR617v+gUP0mdEDyb0g98+6++d890kcfubz/M3njBHvLPczri0DZaAMlIEyUAbKwC4xMH99k4LID/FIwJxficylpeCiBo6YDybNInT/g+Lzp+O5Hc+n48W6Hz34GY9z56Z4y7pproz++I/92DSKUW7Tn7e6TT+u3I9axh6TeWta8nkM+tmXfvbhG2PtNcfsrjJQBspAGSgDZaAM7AoD8xVRTlbxdJwoWolFlzVs+ghYbse/ePVM6KoifL4d7zOhJtnHFznFmPv7wSHmW7NX697E4hSj173e9YTNliujoxg9bH9nO9dhHh+xx4gvLq0zqOc5LO0LpqsMlIEyUAbKQBkoA7vIwOYL7Tn5FE2Skbn8UI95bAoz+7DHrnGN6TrXve6cGoUasS8A1mfw6i3nZ24JR471wQ98YPrExz8u/DjrTPfVks+5xOY8Z+r6zmEDceNm2/KJYyYr52W9fhkoA2WgDJSBMlAGjjIDmyuiKco4YYVZ5kd/jVsLqbO+8WHTNz7sYQe4+sCll05PfdrTpre+7W2z2EKwpujCz9g93V9rHjsuaxdccMH0tKf/0PSRj3zkAOScc86ZHvHwc+fcKJhzbwDOxzqXHv3Muwm5ceXcrKdPT+LGGY3LQBkoA2WgDJSBMnDUGZiviG4TRAon6ukfFJTrW+jUv/EbHjo9bBCjl176/ulpP/RD01+99a2Lwou+3D99yCce9x97EKFP/aGnTR/+8IcP/L0e/vCHT4889xGbnLPcw3PaAPb2M3Yf8eQ9ljFHzXnYbb3guspAGSgDZaAMlIEyUAamaf5C+zUR+8+CEiO0FFuKKglTjBknfr4y+o3fmKXp/e9/3yxGuTLqcrYxNudaV9SJ81iwLK+EfvSjH90cL3muhJ57zsNnQSiWvPOcTy6XWOoej7klnDXn2QfWmjb765eBMlAGykAZKANlYNcZ2NyaX8mmjUiTFASUAmsUU+ax1LKOGH3YIEYvXYnRpz71qfOV0aX55HKGsfvYoyWPCP2hpz/9uCuheTsePFiP09g5aZf297nQxOUM6uP5E+ee+Kyl+XOhb2WgDJSBMlAGykAZ2EEGjvuwUoomfXjR1yq+FFfm5fCsh5114DY91y+5Tc8zo9ymV6zZn3vgW8dnOV/75je/eX4m9MMfGW7H710JzR78nIdvjHUpOtljrLuvWPu05kebfemDG+Oxt3EZKANloAyUgTJQBo4yA3Frfi2MFFaKJGOsLwihnq8lkh720G88IEbBKEbzNv1Sr7ncnxyxt+P5YBLXGj3W+Xb86oNJxvksq3OYYX30iVmJJQZPLvPbZoCxlvj0mdlVBspAGSgDZaAMlIFdZ+CAEPVT5SmkUkCZx2Yen9eYJz77wJXRlWxcXYBEjD5ldZt+FKPOdJ/xj0M+RehcX+VY55x99vzpeGeQ2zbHYwWTy97sMwfO2/DUzY8+uKwRd5WBMlAGykAZKANloAwcz8BGiCKofCmkgCO+zBPjK1iJxZJ34Zsnd85ZZ09nnXXW+svugSlGn/KUzTOjuQe9zsj8/EzoDz/9wFc0gfVKqPtj3V/LnKW1VCeX+9uX+czpa+01xub+7pn1+mWgDJSBMlAGykAZ2DUGZiGawih9yCDOlwQhrFJcmddat5cro7MYXc2b76evgO9fXRl9w5+84TjR6Ays/fgXvOUtB0Qoe/jpeOou9952fOaZjY89bFnXinWOcVprYw+YsbaEyVn1y0AZKANloAyUgTJwFBk47UlPetLTOTHFEZYX4sirodatiTWPHdcS5q53uet0yqnr2+vgEaY8R+qyB8v+2Mzdhd+rX13Y5INKrPHT8c4Z7ThP4Zez6cnY/Z1FzZe57Blz2U9fxmJzP3O1ZaAMlIEyUAbKQBnYFQaOKZDScvKKJ30JEUeMz8pPm8+J1Ru1pTxf7eSMh599zsanz3k5Az8FGz0uvyeUfZxpzf2dKcbYmdlnLS04sczmsQRnEduvNYdl2aslN2KzRr2rDJSBMlAGykAZKAO7wMApF1544awmEUP54uSJEU2joDQWI1H2Z56cK+ti3MNa4sHk/jlnySc39jvfmvGSFYN1pWg0Zy9x+sbisjd969rDamJqy0AZKANloAyUgTJw1BjYfKE9goqFKOKlb17BheWqoJgZuHojL8bcOMMYO2KJWeNs83Nx9WbfuD91a2Kx4Mg7xzgx1rG5/7iHvdix5ozMk8vY43Fva+C6ykAZKANloAyUgTKwawxsPjWfJ57CSDGlaMKSE5P5nJG+PeTsG30w4txTjDVilvsnbl1Zv4PftrIHn+X8cX/3sS4Way/CNfPp53GIx5o3ZzwP6lsZKANloAyUgTJQBnaEgVmIpjgazxuRRD1fiVFMOcMYjL41coourP4STmzuTy6XNXNL86xpxWD1c39xWDHUfWUdP/NXNG/sHfFjvXEZKANloAyUgTJQBo4yA/NPfKYgUpStZNpGSEKAGMkYY/L2jhiwWVO8YanlrMTls6jOxI491pzrvLQ5V9xhs6hlT+5hnxj3ce54fNbtc6426+5TWwbKQBkoA2WgDJSBo87AfEVUwaeA4nbz6hrggXNXLGktZqyPwMJXaInFWkus+1MnP++/mpFLvHNzdtasa5nhnulbp+b+OSfn05c152Re37nELmdlzXlgrIuvLQNloAyUgTJQBsrALjBwjJNE+CnGEEUKoxRO5MZ4G0HitM4DT469sMbitOJTkJqbm1ZvHk/26IOxPvaJwernPvZiqbvGecbb6pm/It/6yWovvvji6Zef/azpTW9603TJJZdcqcM899xzp0ee+4gr1VNwGSgDZaAMlIEysBsMHBuFGqetQBtrKSClZ8SYdwbxKHSzttRvfdwPLDWWmDlYiM1jrwg7HoN75H7MyePJmfjGWvCupZy1k90iQh/zuMdOl77//Z/SoT73uc+d+ypGPyX62lQGykAZKANl4EgzMD8jyhlevvfp79kPsbctVnxRX1qKO0UYdmk5x3qKP3NXZJ0rzhhLzmPJvDVz9or1OIwTLxarb33EU3eWe30uWa6Efqoi1PNEjD7nuecZ1p6kDHz4wx+ePvShDx34Gd2T9FAPHBbHzOsTn/jEgXyDMlAGykAZOPkZ2HxqfqWWNoKJK3+HLYSVL4UW+BRc5slZm529N+q8WOyX89zf+l7LbMSZS8xh+4vXjn3OJY9/2BrrxtilucwS41xwiTV/sllux18Vq2L0qmDxMzvjzDPPnO50pztNj3zkIz+zG12F0z/60Y/Ox8xx/+iP/uhVOLmjykAZKANl4LPBwHxr3mckFWFaDyBFVPrUl8RX5kf8OJP60v7OOKx/PM6M7cucezvbGAxrtM7AWtMfrf2Zn4dueQP3ubCu7DOhh50TYtRb9YfhDqvd6EY3mu52t7tNj3n0t003velND4O2tmMMfOQjH9mxM+7ploEyUAY+9xnY3JpfEkaKKkUYp4vvK09/7LdntNnjPCz944xx/4ydO87LeMQQj3uQW8o7hxpC2YVvD7ml3m3HCXZpbcsvYXc9hzD+wz/8w/m5VZ5f7SoDnykGELbvfe97p/e9732fqS06twyUgTKw8wxsbs2nGFKsKbKW4swtsUh9fIlj7rhf5uwTk3tZy1n6o7XPPLH75Oz8EJLzxdKbc6w70znGWnFjL/XsOW91lTAx9tcezgDPrfL8alcZ+Ewx8Ou//uvTl37pl05f8iVfMr397W//TG3TuWWgDJSBnWZgI0RlQaFmnCIJP0UUmKwTj3VyXlG0H6tP3RnmcoY1ctbpcVk3Bpf95I3F+kzqNmzm6Vna1/2sOdte98z99RN73upDPIjRrivPwFX1/OqV37kdu8bAxz/+8V075Z5vGSgDZeCzwsAsRBWK7KhIcneFVea3iSww+UEjcZnLOfi83B981t3bvPO0HGP6znOGfWPsuYl3f/Lm7CFHPWNyS2vs9diyd8mvGF1i84pzV+Xzq1e8WxFloAyUgTJQBsrAVc3A6gvtEYPrsYgkxRuZFE3b8mIUXR5g3u7O3sTZmzax5p1JnHWPcdtM89ljzl6sx+p8a+P+5Fkjjpnj3MSsu9bvI84aYpT1iNUXwHd99hjgOdM//dM/nf73//7f0/Wud73pdre73fT3/t7fm65znescehAf+MAHpj//8z+fe7la9oVf+IXTbW5zm/m11Mh/zPhhms/7vM+bjh07Nv3t3/7t9IY3vGF6xzveMX8Ai1vA17jGNQ60v/Wtb51e97rXTexxhzvcYb5VTP+4Pvaxj81fX8Q/d9e61rXmMnMvuOCC6W1ve9t0k5vcZD439vh011/+5V9O//N//s/5uK973etON7/5zad/+A//4XTta1/70x29tf+Nb3zjxL7vfve7py/4gi+Y/v7f//tbuV4acmX+XnyNFf9/Cqcuv9qKmL/R+Hci/653vWv6sz/7s/mfJf4GX/RFXzT/zfqhOtjpKgNloAwsM7ASooiofdGZ4ot/GRNnzjHWsF7xpJZ5/cw7SwuGZazN3sw5yx5xYPCdR51lfR3tvztTzH5l7dmnzTo589qcQ25c4nLfEVMxOjLymYu5mvp93/d90+/+7u8etwki9Md+7Memf/bP/tlxNQThz/7sz07PfOYzj6uR+Jqv+ZrpB37gB2YRkoC//uu/nr7yK79yTv34j//4LEKf8YxnJGT2mf2QhzxkQnh9+7d/+yz2EvQP/sE/mH7u535uFjiZf+pTnzq98IUvnAXnf/pP/2n6qZ/6qenXfu3XEjL7d7nLXaaf+ImfmO585zsfV7uixDvf+c7pX/2rfzX9/u///iL0yU9+8vTYxz52sfapJvmPBObCx7j++T//59P3fu/3jukD8afy9+Lvzn9k5Hrwgx+8CZ/whCdMvFyI4+///u9f/GcJDJw87nGPm/9Dx57aMlAGykAZWDNw4JeVvAWtWNIeRhYYhVcKUnoyzlnbehRr9CaeOFfW9LPX48l9xv7EWFvKOV+MNvNjH3HW6RljcvbhuypGZeIzZ7kS+aAHPWi+ura0ywc/+MHpu77ruyaE16Mf/egNhCtkD33oQxdFkaBXvOIV06te9arpP//n/zyLQvNpf+ZnfuY4gWn98Y9//HTppZfO34nJcYwLYcYxIaC5qjourro+5jGPmV7zmteMpTnmCinfE/rSl750vpK5CFpIciyPetSj5iusC+U5hcDln3ME9FWx/u7v/m56+MMfvvXv9Bu/8RvT//gf/2OzVT5iQ/Kq+nttNlhw/uIv/mL+D5alv5XwX/zFX5yvfJ9//vkH/p1ovbYMlIEysMsMzF/fpCBCOKZgmvMLV/cgbMQRO0efmNeIXcI5c8SOf5ysW3OeVgFsLE5r3lkZkzPGpm+/fcT62Ze+/WDHefZSy9VnRpONq95HhHEVi4Ug5Uoit5oRj09/+tPnPG+/9Eu/dODXen7rt35rI0Jve9vbTv/u3/27WXQihp73vOdNXK1kIUpyzpyMN26Zc9WVq6r//b//97mXK6kurqgygy+Y/4//8T/OGK6icvuf9Vd/9VfTy172MuEHLH2K0Cc+8YlzP7f2f+EXfmH6qq/6qhnLuX/rt37rxO3mE1mXXXbZfAUQEcviWH/1V391FqV/9Ed/NP3kT/7k5lEGjvPFL37xiYw9FIOg/rZv+7bN3+mf/JN/Mv38z//89NrXvnbi7+CVUIT5tvWp/r24Us55yBfzv+d7vmfOkb/vfe+72ZJjUoSCf9aznjX/M8IjF//+3//7DS//7b/9t+kFL3jBpq9OGSgDZaAMrBk45aKLLlrpo4O31xFIiqT0aVnKK/yoMUuM+W195t0fa27Jmss9zGmzNh4PGJbHp8+VFI7V/WfQHi7n6WuXcDkj9xE72n96/30BMtYece4jrvZnRg87vvF4r474lS9/xZXe9uu//uvnK1Q08mzoeGUREclX97Be9KIXzc8/4iOG/Bqfl7/85RvhSY3F903e//7331zt5GrZaaedNtcuvPDCza15Enyx/33uc5+5xhs/T3m/+91vFpnEPMuJcPF5T3KIvoc97GG403d8x3dsxBgxt68R1C5v8RtjuUJ4zjnnTK9//evnNFd9Eauur/iKr5iPnec9OW/Xc57znOlpT3vaHN7rXveaiEfO/tf/+l+zQAXE7f/f/u3ftv1Tshw/Apd1z3vecxbr17zmNQ/M4m+QV1/hhquyrk/n78UM/kME4cn6vd/7ven2t7/97PvGf1DAGYv/SOA/DsZni3mk4Gu/9mtnDP9hgYDvKgNloAyUgX0GNl9oT2pJOGVOYUnOPBYhlwLMWZlTvGHHF3jr+Kycv86sc0s4cktrCQuOfL7YK7HE5jxn6voeG7PE4efalk8MMw9bvTJ6GDufeu0GN7jBpnnp2UOe9+P2OkISUebi1upP//RPz1fmvPppDctchJ6L50KXFkItRSgYhN0//sf/eAN/xCMecUCEUsgPGq3+A3KDHZ1v/uZvnp8zHfN8yOmXf/mXN+nf/M3f3PiHOSlKeT51FKH08uGhb/iGb5jHcOX0RK+2btuX2+4uBOEoQqkh+nlcYNu6qv5e2+Z//ud//oQY/pEf+ZH5ud1RhNLH38y/69I/a9tmN18GykAZ2BUG5mdEFWWctCJL4aVY8oph5tdia91jX87AF4/vlUd8Fj3rGWtBBtY5+liW+89BvImL1NaZ7O988OkTu5eWOj0sfPK88ljEzqC9t5xL3Th9Z2bfkt9nRpdY+fRyXCnjAz0snpc866yzZhHFp+W5gnn66adPt771red6vpFbyieGT927uAXu7XRzWK7wLa38dPVd73rX4yAcl4vb5duWH4paqvPpecQ1t7i5ustzsGecccYSdM5xlddb8l/8xV88fzKcT4cvLX5+1cUt8y/7si8zvFL2Pe95z+bKMDOSl3EQ5/r2DxrVAABAAElEQVQf/sN/GNNzfFX9vRaHr5L8s8J/kCz9R0n2wBu35n0cJGv1y0AZKAO7zsCxURwlIdYUYVheBwUlQmt9Wxt8ijR8l7OMtWPevawTs8CxrOc+5sRo7Z0b93rNgeFlnBj7D6u7J3362WfeuUtx1up/9hjgA0evfOUrZ3HA830IGcUMwoZnALnadstb3nLxoPigEMLizW9+83zVlCuNXB1DcPjPwGLjXjIFW+Lyn8XrX//6WbpS/hUJI67IIkRZiL7DhCgfGHLxSXJ4OZHF1xh9qkI0f7r1bne726Hb8R8PV7Q+3b/XFc3nkYeXvOQl87Ohb3nLW+bHG7g6yj8/d7zjHSceW+gqA2WgDJSBZQbiY7d7Xya6h+N/FP0fRv7HNUWlwss6Lem7lUJOa34b3rlZ93/Yne8s8860Vxz5xJg3J95+bdZzhv0jDjw154kjb01r75WxJ8NzolfmeD8XsHxfKM+AcsuX5yp51s/1X/7Lf5l4cbuVF1dMXYhWviYpbxtbY8bJcuuV7/U8bH1BXO19/+qnUg9bV8fvrPOtAa5t/zFg/TAR/dn4e/E9r9/5nd+5uWrscXH1kyvO/AdLVxkoA2WgDGxnIL6+CeG0BqaY8srjKKbEKMDoNJc+fYpY/G018uMe9to3N++9uS92vOU+zgGTOPylNfa5v7fns4cZ1rG5cs42H/zYlzPwK0JHRq66mNvcfBfkd3/3d89XrLiSxSed+cCJt1D5gA632n2eE2GqCOUWN5+Svsc97jF/PyRXDvkwEV/fdHWvv/mbvzn0EYK3rr7g3pXPy5pLm3WeW33Sk56U5a3+p/Pl9rmnHw7bthHnum19pv9e/P/v2WefvfkPGa6I88+KV3F5RphvYvDq87bjbL4MlIEysMsMHLg1r2CDEP4lq4AkVrxpU0RlH1hXYsWMOeaY09KfeWJqmXP/zIHLZQ+5xNlr3X0V3Zkfsc43rzU/WmeTT38pzt6K0GTjM+fzN/E5v3/xL/7F9MM//MPz1+7w3Y8sPrmOuOBT7X4SHMHB1yrxq0K5vuVbvmX+Sie+0ufqXDyfedizrIhuF4L6sHWzm91sU+YW8w1veMNN/Jly8plQn0/dthePACytz8bfi6/t8mo6H9Ti67zG/x/naimfmj9ZrpYvcdVcGSgDZeDqZGD/Ic7VUfAvUYWV/0I1xvrigKnna+kk8kqic5Zwh+XsG63H5zHkDGt5pdR+cNZH3xmJFUMu89tmgLGW+PTdZ5utCN3GzKef56ce+eokbrHzNUTj4gMoXPXzE9A+34cg8vsiH/jABx4nQp3Dp+2v7sVXDW1bCCe/vum2q+9CTaG51MPVST+tz5W9w65A8l2q/FrUp3sFELHrc64IOMXe0vFt+5Wnq/rv9aEPfei47V/96ldvcl/3dV+3+f/7TXLl8OhDRWgyUr8MlIEycJCBA0JU4ZhCKgWUeWzm8XmNefFuOcbmtc7chsu8WHpPdP/cJ2dlHj9ruc94xVSsGPvG2PknYitCT4SlTx3Db4Tz853nnXfe/N2Y/H75uPjqIUWnH4bJZxG3XYXjq5FOBtHx/Oc//8B3inp+nFf+UpRft2R9m00cV32XRBnn/YM/+IOzEOU7TT/dxc93ujjmpa+D4jEJxO/Suir+Xvl4AY9djOsWt7jFJrX0zxE/L+oX72+AdcpAGSgDZeAAA5sPKymisAgpY2/PG2PHK43krDMdP2dYM4d1rkcjhngbLvPizRk7z7x2rI846mBZ9mhHrDix1rXOyj3TH+faVxEqE585y/dR8t2T/lY8Pl9gf/e7331673vfO18t9MvsOQo/JY7o4Aqiv2qE6OKWK7/Zzi1ani09mb6sHDHIsfJYAcfO8698H6i3uvkKJ3656EQWP7PJh274RSpu+/MBLsQp34/Jd4ryy03/+l//682o/JL5TfJKOghePzjGMfN8Kl9YzzO5/EQrNR+fWBp9Vfy98qu4+P7YSy65ZP4kPD8ygFD+R//oH2225nli/uOFb1zgw2J//Md/PF9x92vCNsA6ZaAMlIEycICBWYimMEofZIouYgUVltdYB8Ma6/blfP3Rries353vXs5xD+vZI8aerNmHPWzf7NmG2zZ/aY+c5/HlsVeEJkOfWf/cc8+dhSNfR4RY+5f/8l8ubojQ4tdwXPwSET/1yOJK3NLVOL6yCNF3dS6OG+HItwLwGhffbUqeq8MnsviPRn6u8m2rDzkhCrm17+39sR+BxtdjfboLgcuX5z/kIQ+ZP32+bU/Plf3G/7j9dP9ezOYRAcQ3ItNnfx/72MfOp8dXdvEDBnxxPotfdcpfdpqTqzdnGNeWgTJQBsrAPgOnKopMESuw9LOGb12BRg5fYTVa61h6jXN+znJ+1rN3nDEPXL2N+xq7nzPIb9svMe5DjjUeT86gvrQfeVbW1pl9LipCZeSzYxEQfPDosCt3j3vc4+ZnSX1WlCPjp0G56pk5j5gP/SCcHv/4x5s6YPmuUVf65rBLv1iUdfylvUfMr/zKr8xX7MY8MeKKK743vvGNjysrTJd+xYirgHzX6oMe9KDj+khwXE95ylOmf/tv/+1xgnCx4QSSPJ/Kc7zbvqD/m77pm+bfdt/Gyafz9+Lw+Hs8+9nPnvhZ01z59/vRH/3R+dsXsq7Ps7X8c5a/TW+ttgyUgTJQBtYMnLL6DezLFVxpt/m0WdP3SkTmqW3LWwM/ijlnYllgnLsNzz7jHOLM27ueun8OY591rXsb51xzzhYLhmUsTpt7Pmf1rOIjV7cdT9Z1FH9rPrnmy8h5vo+f82TxiXhuyR4mCnk0he+P5EoZv3B0m9vcZu7LXz7KPT4bfv7WPFd6EZV8cpxPyHOcCM/brh4tuMMd7vBpHw4fWOI5Wb4Mn3O+1a1uNZ9/PlP5aW8yDPBvxId/eP6TZ3f5D4oTWVfF34vvU+W8+aYEvpFg/P9t/jnig238cwQP/DPEy38HnshxFlMGykAZ2EUGZiHKifMv1nyZU3gZY/NfrvkvZPsTu60uhrrCLPups3L/deagwMv51JdiZljL/dxXK2YG771lzbwzxDvfWFz2pm9de1hNzNVlj7oQvbp4var3XRKiV/UenVcGykAZKANl4KpmYHNrXgGHKOLFSoGk+MJyhUGMB0RejLlxhjF2xBKzxtnm5+Lqzb5xf+rWxGI9B+cYJ4aar9x/3MNe7FizP/PkMvZ43NsauK4yUAbKQBkoA2WgDOwaA/OHlcaTTmE0iinEEzkxxtpxFnHW7COfPhhz5O3RtzZacXPz3ttSzrrzsLxY7o1vPmdkXd9ehCv+iDfHTJZ481hz2btGnzzv/C46nxY+Gde232w/GY91F4+JxwJ4PODKLG593/72t78yLcWWgTJQBsrA5zADsxBNcTSeiyJJ0aQVZ7w0I3POScsMMNtmgBUzO8Obs0yPePe3jhWjXdpffGLMjdZ+sCN+af/sB29/5k8mn58r/MM//MOT6ZA2x+JPKW4SdU4qBviaJ38u9UQPjJ9N5cNUXWWgDJSBMrAbDJw6CiiEEWslqzYCcY73ROFcpD7E5O0dMQou84ovbO4/zshnUe3Fjj3WnOuxpc1jE3fYLGrZk3vYJ8Z9nDsen3X7nKvNuvucLPYxj/626XrXv/7Jcjib4+CYOLauNQP54Sr/ufpc5MZP7n8uHnuPuQyUgTJQBq48A/OHlfLT5Y4g5/+gYRFLCsPMgyfOXOLpG+vuYV68lrr726+lBs5lz1Ju6bzE55zM5Vx899VaP8w6L23OGv3DZp0MtYsvvnj65Wc/a3rTm950td+m53Y8V0IRofmb5CcDT1fnMXALnF/y4Z+5q/PT+8nBRz/60fmZ78xdkY+grhi9IpZaLwNloAwcHQY2n5pPkcn/mLnwl+KlHD3m0+o7c5tAtF+84s/YfmJe1LNHvDhrGZvL3rHP/RJDX+Jy/5yZvfrUu8pAGSgDZaAMlIEyUAYOMjB/an4UTKMAs0Wxaowde605g5gP9LjAj4JunGHvuF/inGHO2H3SOs+cWHu1WRdjDpvHY91eY+y4lnIjpnEZKANloAyUgTJQBnaNgfkZUU768hCLCqfDLDXrS6SdiECb992b4yz69E/Uur94Y+d7LJm3Zs5esR6HceLFYvWtj3jqznKv2jJQBspAGSgDZaAMlIHVRT5ImMVT3O7OK39LJIH3pdByjsLM/DzbPWIYdbHsl/Pc33q0bXDmEsMMY6wzxaYVR06c/djD1lg3tt9e4qyZx7J/HkPW6peBMlAGykAZKANlYBcYmG/Ne+tc8TYKJMUUhKRvrKiyP/P4S0uRhs39wTovMeMMj0Nrn7F2PBfnUB8xYnN/8OLSN4fNPmPr7jda6leEGXsal4EyUAbKQBkoA2XgKDGwuTW/JIrIKco8aWPFl/mx3/poxWut0z/OGPfP2D7nLNkRQzzuQW4p7zxqCmVy+PYQL/VuO06wS2tbfgnbXBkoA2WgDJSBMlAGjgoDi19or1hTZGXsbfPM6Scp5MxrrSu8zGMzZz5z9Ho8ztmWs55zyRnnXHLmxdifOHNgcy0dE/URl7mxZwmbe9QvA2WgDJSBMlAGysBRZGD/GdG9s0MkKcBIpUjCz9pYJx7r5LyiaD9Wnzq+dtv+5LNnbohe47GfvMfkPj6Tug2beXqW9nU/a8621z1zf/0R66zaMlAGykAZKANloAzsEgOzEFUocuKKJElQWGV+m8gC4xVT+5iTuZyDz8v96cm6M8xjWdrRd54z7BvjecjqTbz7kzdnDznqGZNbWmOvx5m9o08sbmlmc2WgDJSBMlAGykAZOKoMrIToWgxygqMoStGUYinz+tR9MUvxiZ+9YjLnDOxSnhmsxK0z+8fs3Mzr50xxmfNY3d+a+zlHm3n9ca55e7Qjjvw2rD21ZaAMlIEyUAbKQBk4igyshOj2W/GHCTJrWISUYirz+hCnLzbx1sBlnpg15sDbg6WumLQ21teT9t+dSUbsfnU/5/yxZo/1cZ51+4zB+bJWWwbKQBkoA2WgDJSBXWTgWAoob0Gb0x5GDBhFlmJQfMY5a1uPoo7+xDtPmzX97PV4ch97sZm3n3z2EbOyvs6s3zM/9uWx2JN4c0s4a7VloAyUgTJQBspAGTjqDMxf36SQQjimYJrzqyuOS2vEETtHn5jXiF3CsQe4ETvunXVrztMqgI3Fac07K2Nyxtj07bePWD/70rcf7DjP3sSA6yoDZaAMlIEyUAbKwC4wMH+hPSeqeDpOFK2EmcvaKKgUfuMMYnPOMIdlpWWuHxzCt2av1uMgThx4Yuvb+slbS5u9OZd9wDnXY8z9xecM+7CspX3Xlb6XgTJQBspAGSgDZWD3GNh8oT2nrihLGjKXgtM8FmGmSLOXfOZGoaZgE2M9+/HdR38J5wx7tUtYauTz5bG6F9ac5wxeXxyzxOHn2pZPDDNZOS/r9ctAGSgDZaAMlIEycJQZ2FwRVZgpiogVU9t8iEFLgbOPXPr2kvMZVDCssU8sNXyteXNzYe/NWubG/a3llUxyiSN2Pta5imywmQfPsmcdrd9zbtbTB5m47K9fBspAGSgDZaAMlIFdYGC+IrpNECmcFGEQgn9QUO4LVvP08QLrbOOR1DEvXpwzwLGIt/WI0do7znIPcdadb+w+4q2bF2fdeVgx1uy1p7YMlIEyUAbKQBkoA7vOwPyF9msS9p8FJUZAKaIUVZJFXtGVOfHmxIz91EesOXusE5sD46zM2ZtW7FK/M8CMy7nsz2vsFy9O6/HaB86a1t7aMlAGykAZKANloAyUgdX3ziugVrLpONGFgLI+iinzWGrb6uOMxGWNP0bWjN1n/GOZx3r7XMw4Bwwv8/aK11rP2OdCzWmdQZ2+7MXPPcUmhjlj7OzaMlAGykAZKANloAzsAgPHfVgpRZM+ROhrEVG+sp6kgeWl4DIGQy5r4wzrzgObGGeOOPGJxU8cvjHWpej0uLTU3V+sfVrzo82+9MGN8djbuAyUgTJQBspAGSgDR5mBuDW/FkYKK0WSMdYXhFDP1xJJXKl0Ocf4RK19o/X4PIacZ81nVqnZj2999IlZiSUGTy7z22aAsZb49JnZVQbKQBkoA2WgDJSBXWfggBBVOKaQSgFlHpt5fF5jXrwkj7F5rTO34TIvlt4T3T/3yVmZx89a7uNteOrmR5/+rBF3lYEyUAbKQBkoA2WgDBzPwEaIIqh8KaSAI77ME+MrWInFknfhmydnvzls4hODb10r1hjr0hcz5rfVR1z25z7b8mO/MZYe9zU/zjFfWwbKQBkoA2WgDJSBXWVgFqIpmtKHFOJ8SRTCKsWVea11e80T24fPGq1Ya9vqzkk8vnsfVnc2GOePc4yta81vm0/d2tizVFvCuEdtGSgDZaAMlIEyUAaOKgPxqfn1KSKgFGf6nrziyjoCyhy+gmq09JtLPP4YgyUHPuvm04ohx3KP0WbN2dlrDssa4zm5lxdDLmcYY1kewzo6PibvLK3Y2jJQBspAGSgDZaAM7AIDmy+0VzhhFVjpS4Y44qwjpnxZM9aadz55/ay5R86nLh7flf3jPsQuPxHvbGvG4PRHKxZMfgDKHutYXvZTzxoxK+vpr6t9LwNloAyUgTJQBsrAbjBwjNNEDKVgSj9rUmKdGD/FlDXsRX990fS6179+esMfv2F657veNb3vfe+dTjvt2HTzm58xnXHGGdOd7nin6X5f/dXTta997XkOPfa7V+6f+1gHbz6x5rXWjOk3pyVHPVfWlupL85yRvelbd17Wcu/6ZaAMlIEyUAbKQBk4ygycctFFF6100OXzh5I8UYSSYkkfK07hZI0+fWqIzvPPP3961Wtejdpz7MaCdZ1++unTmfc9czrrrLOmG9/oRhtxmJjRZw+WezqL2GMzJ24pTqx7eMXTWdkP3k/O2yvOfvPuZzxa6ubE1paBMlAGykAZKANlYJcYWBSi3saGCIWXQgvrS6KsgX31Snw+82d/bvr4xz9mebZIT+Sj2APFVXCjlQh98vc9ebrLne88YxRp4PFZS/uKs57YuWmvL/3sIT/G7umxOhOsOXxW9tpHfvTJubKH3BiLqy0DZaAMlIEyUAbKwFFmYBainqAiK4UoOV/gxCzZ3/yt35rOe+55jjvO7l8HXXn7wQZ36mmnTY99zLdPD3zAAw4Vn5uGleNxLOWoXZHIy/7E0+dKjLm09plL/NL+5rT21ZaBMlAGykAZKANlYJcYOKbgQjwdEFCr65ennrL5mtHjBN0ool7zX1+zFqHqtz2hectb3HI688wzp9vf7nbTbVev01ZXTd9+4YXT29/+9unlr3j5bCX88tUvMf3iL/3SdOtb33q6613usrkaa12bx2wO6/F7bOKwXtkdcWLsHedZNw+OHC9843HuGDvfvm1196ktA2WgDJSBMlAGysBRZ+CUCy+88HJFmmKJkyZnrNjySmnmwb7zne+avudJT5w+9rGPri90rgTaqnl68AMfND3iEedO1/y8ax6YRQ/rsk9eNr3oxS+eXvySl0yXfeIT6+Tq/Yar2/TP/OlnTDe96U03gm9JwNHgsXlMmVs6L/HitMzP5Tz31SZmm+8eacHmjPS3zWm+DJSBMlAGykAZKANHmYFZiHKCKTIVYeTxl+LMPeNnfmZ61atfBXwlRFci9NRTph948vdPX/7lX35cP5hRIL7mv/7X6cd/4scp7QtZAsQhonZhsT9ijpXHsgA9kHr577xsxmfvKAqdlxiGJC73p2acvfrUu8pAGSgDZaAMlIEyUAYOMjB/of0omEYBZoti1Rj7jr99x/rT8Zvk5dODHvDA6Z73vOcmkz8JOgo24nvf617TQ7/hoTN+lpZendwiQgEqCp232ewEnOwFvnT+YnJcnr91e42x41rKjZjGZaAMlIEyUAbKQBnYNQbmZ0RnMbd6PvOU1e14VooqhZ7W+gxcvb32da9bX7ncS9zilreab8enQHvPe94z/dr//evTW95ywQp1ynSX1fOfj/rmb5lucpObbK5qnnP22dPv/8EfTO95z7vX+7vBIXY+zvU11ENQ20ueJwh9zzOtE8Ak1jjrnrc47NIse2rLQBkoA2WgDJSBMrCrDMzKcxZPq6uPCqa88rdEDDhff/KGP9lAuIl+36/6qunzrvF5G2F3ySWXTE944hOnV73qVdMll7x3eu/qhf/4J3z3dPHFF8+97Hfs2LHpn/7T+236NkOvwFl9bOi4K5pX0DKXU0R6Lp4/9rA11o3tt5c4a+ax7J/HkLX6ZaAMlIEyUAbKQBnYBQaOIZT8EneEkWJKAQUJ23xq71p9eb2L64W3u+1t59A5v/prvzpdeun7hXBBdF4fuPTS6Vd//demJ3/v9232P+ess6eHn33OBsuM3JuCsfONbcoY//4PfIClAzZxCsLRisFa0x8tw7fxd2DjvcDZS7XmykAZKANloAyUgTKwCwwc+Pqm8YQVW+QVTgoyc/xsZy6+oomlKLvgLW/J8gH/ggsuOCDwDhRXwbh/xiN2Kc5jtT7OEMNVWX2xWHK8PP983tX6OHMpTix+rpyf+fploAyUgTJQBspAGTjKDMy/Na9wUmxpFUgZe9t+k9vCDnUxI8S55sGRY2Vf5qiNfdty5FlL+zMj57pf5tbd6/3GOePMpWMae5xn79hjXlxtGSgDZaAMlIEyUAZ2gYH9Z0T3zhaRpCgjlSIJP2vUb3CDG2I266/+8i83Pg4/2emaZ8XVRT60xHIP5+ce1shZd172mgOX/ebTIqadNWLtNw9ObM7Qt4Zljf3m5uJefcRaqy0DZaAMlIEyUAbKwC4xMF8R9RlRTlyRJAkKMq+Ekicn7ozP//zVc6LvnOEryTb91VvfOt397nffiMFv/qZvnt74pjfPz4lm33Wvd735k/PMcf/nPf/86QUveIFbn5D9nd9+6eZYmPWABz3w0D6PG5C++2cO33PPOvlty3nU6fV8M7/ki9s2t/kyUAbKQBkoA2WgDBxFBlZXRPdvoSOSFF+cbIqmbfkv/bIv3fCykl7zVzB97OMf23xBPl/R9Iyf+qnpPve5z3Sj1S8m3fCGN5zufe97z7+cRM19LrvssumVr/zd9f4rEXeiy2Pm+PIYt/WLS6wiO2d5XEtzkhf9ca75sX/EHbbP2Nu4DJSBMlAGykAZKANHiYHVFVEE3L7oTAGFaCLOnCdv7ctXX1x/3nOfyyXAufQ3f/PX03nnPXf61kc9ahaG9CI4/88nPunALGcyh/W888+fv0MUn8zhX6AEar08DuY5y9ph1v3BLPU5V5uzyJnX5hxy4xKX+46YxmWgDJSBMlAGykAZ2CUGDvyyEregU0SdiGi61eoL7O/zFfeaOUM8cnv+pb/z0ul1qy+690ojxZyFzz6KM37i88UvefFm78TOgw95E+usQ6CbUu6/Sa4cz526c7WJw898not5rP6Id5b7GdeWgTJQBspAGSgDZWCXGDjw9U0pHCFhFnc4K1E1rhRZZ61+Fem1r3/99LGPfXRzJfPfrH47/sGrn/o89xHnTtc6/Vqb9hRf3I5//gtfsBKhL5nriFj+7war2/fP/OlnTDe+8Y1nMZd7PeghD97M0pmPc0/cmtO+7KW/c0AQkvcYnGv/GCdODP3glmpirKcd9xVr3r2Ju8pAGSgDZaAMlIEysAsMzF9oryhKcbU5+RChSzhyt7zFLabvevx3Tj+5ehZ0xqAmV/nfXl0Z/eM3vGE688wz5y+6v93tbz+dtvrE+tsvvHB6+9vfPr3iFa+Y3vb2t222Wl0jnU495dT5S+4VoZviFsdjonyiYi5xKRaZ5XKuucTlh5cSJ8YZ2HEva5k3V1sGykAZKANloAyUgV1i4JQLL7xwVl9cDVVIYRVKeZUUX+FlPXt+6//7f6fnnHfe5qroSOTcc8gDoKeedtr02Md8+/SA+99/s7/7MAv/gQ9+0IGxuf+Bwl7w8t952SYtdpNYOeN8zw8Mvuec/thPjZXz9XN+9uHnXmOtcRkoA2WgDJSBMlAGjjoDmyuiKaY46VF4LQmytdhaCzD8r//ar5s+/2Y3m372Z39u4pPz4zpMePGJ+id/35M33zsq1uNy/yszE6xz8PNKJvEoEt1LS50eseR55bGInUF7bzmXunH6zsy++mWgDJSBMlAGykAZ2CUG5mdEFUrjiSucqKePOEOMrRdCa32lFMy973Xv6fa3v8N0/upT8K96zatRguPYA/Hpp58+nXnfM6ezzjprutHq2VD3EuSxMTsXz5NyKz+Xx5g5+8nhG4Pdhnevw+rMEadvrHUvj2eMzdeWgTJQBspAGSgDZWAXGZhvza8FEiJt/yohuRRO+8LzIAbSlmrk3/G375j+6LWvnf7kDX8yvfNd75r4XfrTTjs23fzmZ0xnnHHGdKc73mm631d/9XSd61wH+IH9cu+sLX1YacTOw/be+LBS9lujZ0loZh1/m6gUR93zz3nZl3n7astAGSgDZaAMlIEysOsMnHLRRRcduKyIQPMFOYgshZSCL+vmwG7Lj0JNHHOt0c9yHta6+68R+/uY19qfsTnmeWvePUZcxrm/fe7vTPFYl31Le4gXO8bma8tAGSgDZaAMlIEysAsMnDqKqCUBBRHmtfT5ynqSBpaXexiDIZe1cYZ154FNjDNHnPjE4icO3xjrUhR7XFrq7i/WPq350WZf+uDGeOxtXAbKQBkoA2WgDJSBo8yAD3rO54gwUlgpkoyxvgBTz9cSSX7Qh5pzlnCH5ewbrcfnMeQMa3kl035w1kffGYkVQy7z22aAsZb49N2ntgyUgTJQBspAGSgDu8zAASGqcEwhlQLKPDbz+LzGvHgJHmPzWmduw2VeLL0nun/uk7Myj5+13CcfUzAPNn36x5hcVxkoA2WgDJSBMlAGysBBBjZCFEHlSyEFFPFlnhhfwUoslrwL3zw5+81hE58YfOtascZYl76YMb+tPuKyP/fZlh/7jbH0uK/5cY752jJQBspAGSgDZaAM7CoDsxBN0ZQ+pBDnS6IQVimuzGut22ue2D581mjFWttWd07i8d37sLqzwTh/nGNsXWt+23zq1saepdoSxj1qy0AZKANloAyUgTJwVBk4VcHkCRLzQhzpZw3fuhhy+Aqq0VrH0muc83OW87OeveOMeeDqbdzX2P2cQX7bfolxH3Ks8XhyBvWl/cizsrbO7HMx7mO9tgyUgTJQBspAGSgDR5mB+VPzCCGFEpaXOX1JEEecWEWaosq+pXzW9HMeuYydibU2A1Zv2e9e9tpH7Cfi7bdmbM+SFUstPwAl1jqWV87MGnhW1tNfV/teBspAGSgDZaAMlIHdYOC4W/OKKU5/FFVSIkaLmPKVGEVW1sae3AM/n0nNGnOd5x7YxGTdvNbnWold4K2bI85XzgST/cZitPYbg0s/Z+BnDWxXGSgDZaAMlIEyUAZ2gYHNrXnFEaJIYYQ1r2DCIurESBJ5MeawOcMYO2KJWeNs83Nx9WbfuD91a2Kx7u8c48RQ85X7j3vYix1r9meeXMYej3tbA9dVBspAGSgDZaAMlIFdY2Dzqfk88RRGiilFE5acmMznjPTtIWff6IMR555irBGz3D9x68r6Hfy2lT34LOeP+7uPdbFYe73SmnvqaxO/bX8wXWWgDJSBMlAGykAZ2CUGZiGa4mg8ecSUgkybGHIsZxib0yrK0urb4wx6WNR5kRezrqzfrZlbmmdNKwar72xtYsG4/1gHZw3/iuaByTXis1a/DJSBMlAGykAZKANHnYH5w0opiBRbK5l2QPyJkZAxJm/viAGbNcUbllrOSpwfMHKeduwx71znpc254ujbNota9hCzzDmbOH1jc/SMvjO0WQffVQbKQBkoA2WgDJSBXWBgviKq4EMQ8eJ28+oa5IHzVyxpLWasrxhTaInFWkus+1MnP++/d6WVHEs8lhk5O2vWtfS6Z/rWqbl/zsn59GXNOZnXdy6xy1lZcx4Y6+Jry0AZKANloAyUgTKwCwzMQjSF35IwgwjyJyqeFFzaFFrmJJc4n7PM/c27vz0ZO8890lrLvszhs3IfYmdYNzfG5F32aMc8cdbSF1tbBspAGSgDZaAMlIFdYmD+1PwoihRcY94rh0nQiLHmDOIUeuCp2YfVH3vH/RLnDHPGzkibx0JerL1ae6iLMYfN47FurzF2XEu5EdO4DJSBMlAGykAZKAO7xsD8jCgnffnqdrxL4XSYpWbdvrQnItDAO8dZ9OmfqHVf8cbO91gyb82cvWI9DuPEi8XqWx/x1J3lXrVloAyUgTJQBspAGSgDq4t8kDCLp70rkwinvPK3RBJ4Xwot5yjMzM+z3SOGURfLfjnP/a1H2wZnLjHMMMY6U2xaceTE2Y89bI11Y/vtJc6aeSz75zFkrX4ZKANloAyUgTJQBnaBgfnWvLfOFW+jQFJMQUj6xooq+zOPv7QUadjcH6zzEjPO8Di09hlrx3NxDvURIzb3By8ufXPY7DO27n6jpX5FmLGncRkoA2WgDJSBMlAGjhIDm1vzS6KInKLMkzZWfJkf+62PVrzWOv3jjHH/jO1zzpIdMcTjHuSW8s6jplAmh28P8VLvtuMEu7S25ZewzZWBMlAGykAZKANl4KgwcIwTUTgp0rSKrIy9bZ45/SSFnHmtdYWXeWzmzGeOXo/HOdty1nMuOeOcS868GPsTZw5srqVjoj7iMjf2LGFzj/ploAyUgTJQBspAGTiKDOw/I7p3dogkBRipFEn4WRvrxGOdnFcU7cfqU8fXbtuffPbMDdFrPPaT95jcx2dSt2EzT8/Svu5nzdn2umfurz9inVVbBspAGSgDZaAMlIFdYmDzPaKetCLJWGGV+W0iC4xXTO1jTuZyDj4vhSo9WXeGeSxLO/rOc4Z9YzwPWb2Jd3/y5uwhRz1jcktr7PU4s3f0icUtzWyuDJSBMlAGykAZKANHlYGVEF2LQU5wFEUpmlIsZV6fui9mKT7xs1dM5pyBXcozg5W4dWb/mJ2bef2cKS5zHqv7W3M/52gzrz/ONW+PdsSR34a1p7YMlIEyUAbKQBkoA0eRgZUQ3X4r/jBBZg2LkFJMZV4f4vTFJt4auMwTs8YceHuw1BWT1sb6etL+uzPJiN2v7uecP9bssT7Os26fMThf1mrLQBkoA2WgDJSBMrCLDBxLAeUtaHPaw4gBo8hSDIrPOGdt61HU0Z9452mzpp+9Hk/uYy828/aTzz5iVtbXmfV75se+PBZ7Em9uCWettgyUgTJQBspAGSgDR52B+eubFFIIxxRMc351xXFpjThi5+gT8xqxSzj2ADdix72zbs15WgWwsTiteWdlTM4Ym7799hHrZ1/69oMd59mbGHBdZaAMlIEyUAbKQBnYBQbmL7TnRBVPx4milTBzWRsFlcJvnEFszhnmsKy0zPWDQ/jW7NV6HMSJA09sfVs/eWtpszfnsg8453qMub/4nGEflrW077rS9zJQBspAGSgDZaAM7B4Dmy+059QVZUlD5lJwmscizBRp9pLP3CjUFGxirGc/vvvoL+GcYa92CUuNfL48VvfCmvOcweuLY5Y4/Fzb8olhJivnZb1+GSgDZaAMlIEyUAaOMgObK6IKM0URsWJqmw8xaClw9pFL315yPoMKhjX2iaWGrzVvbi7svVnL3Li/tbySSS5xxM7HOleRDTbz4Fn2rKP1e87NevogE5f99ctAGSgDZaAMlIEysAsMzFdEtwkihZMiDELwDwrKfcFqnj5eYJ1tPJI65sWLcwY4FvG2HjFae8dZ7iHOuvON3Ue8dfPirDsPK8aavfbUloEyUAbKQBkoA2Vg1xmYv9B+TcL+s6DECChFlKJKssgrujIn3pyYsZ/6iDVnj3Vic2CclTl704pd6ncGmHE5l/15jf3ixWk9XvvAWdPaW1sGykAZKANloAyUgTKw+t55BdRKNh0nuhBQ1kcxZR5LbVt9nJG4rPHHyJqx+4x/LPNYb5+LGeeA4WXeXvFa6xn7XKg5rTOo05e9+Lmn2MQwZ4ydXVsGykAZKANloAyUgV1g4LgPK6Vo0ocIfS0iylfWkzSwvBRcxmDIZW2cYd15YBPjzBEnPrH4icM3xroUnR6Xlrr7i7VPa3602Zc+uDEeexuXgTJQBspAGSgDZeAoMxC35tfCSGGlSDLG+oIQ6vlaIokrlS7nGJ+otW+0Hp/HkPOs+cwqNfvxrY8+MSuxxODJZX7bDDDWEp8+M7vKQBkoA2WgDJSBMrDrDBwQogrHFFIpoMxjM4/Pa8yLl+QxNq915jZc5sXSe6L75z45K/P4Wct9vA1P3fzo05814q4yUAbKQBkoA2WgDJSB4xnYCFEElS+FFHDEl3lifAUrsVjyLnzz5Ow3h018YvCta8UaY136Ysb8tvqIy/7cZ1t+7DfG0uO+5sc55mvLQBkoA2WgDJSBMrCrDMxCNEVT+pBCnC+JQliluDKvtW6veWL78FmjFWttW905icd378Pqzgbj/HGOsXWt+W3zqVsbe5ZqSxj3qC0DZaAMlIEyUAbKwFFlID41vz5FBJTiTN+TV1xZR0CZw1dQjZZ+c4nHH2Ow5MBn3XxaMeRY7jHarDk7e81hWWM8J/fyYsjlDGMsy2NYR8fH5J2lFVtbBspAGSgDZaAMlIFdYGDzhfYKJ6wCK33JEEecdcSUL2vGWvPOJ6+fNffI+dTF47uyf9yH2OUn4p1tzRic/mjFgskPQNljHcvLfupZI2ZlPf11te9loAyUgTJQBspAGdgNBo67Na+Y4vRHUSUlYrSIKV+JUWRlbezJPfDzmdSsMdd57oFNTNbNa32uldgF3ro54nzlTDDZbyxGa78xuPRzBn7WwHaVgTJQBspAGSgDZWAXGNjcmlccIYoURljzCiYsok6MJJEXYw6bM4yxI5aYNc42PxdXb/aN+1O3Jhbr/s4xTgw1X7n/uIe92LFmf+bJZezxuLc1cF1loAyUgTJQBspAGdg1Bjafms8TT2GkmFI0YcmJyXzOSN8ecvaNPhhx7inGGjHL/RO3rqzfwW9b2YPPcv64v/tYF4u11yutuae+NvHb9gfTVQbKQBkoA2WgDJSBXWJgFqIpjsaTR0wpyLSJIcdyhrE5raIsrb49zqCHRZ0XeTHryvrdmrmleda0YrD6ztYmFoz7j3Vw1vCvaB6YXCM+a/XLQBkoA2WgDJSBMnDUGZg/rJSCSLG1kmkHxJ8YCRlj8vaOGLBZU7xhqeWsxPkBI+dpxx7zznVe2pwrjr5ts6hlDzHLnLOJ0zc2R8/oO0ObdfBdZaAMlIEyUAbKQBnYBQbmK6IKPgQRL243r65BHjh/xZLWYsb6ijGFllistcS6P3Xy8/57V1rJscRjmZGzs2ZdS697pm+dmvvnnJxPX9ack3l95xK7nJU154GxLr62DJSBMlAGykAZKAO7wMAsRFP4LQkziCB/ouJJwaVNoWVOconzOcvc37z725Ox89wjrbXsyxw+K/chdoZ1c2NM3mWPdswTZy19sbVloAyUgTJQBspAGdglBuZPzY+iSME15r1ymASNGGvOIE6hB56afVj9sXfcL3HOMGfsjLR5LOTF2qu1h7oYc9g8Huv2GmPHtZQbMY3LQBkoA2WgDJSBMrBrDMzPiHLSl69ux7sUTodZatbtS3siAg28c5xFn/6JWvcVb+x8jyXz1szZK9bjME68WKy+9RFP3VnuVVsGykAZKANloAyUgTKwusgHCbN42rsyiXDKK39LJIH3pdByjsLM/DzbPWIYdbHsl/Pc33q0bXDmEsMMY6wzxaYVR06c/djD1lg3tt9e4qyZx7J/HkPW6peBMlAGykAZKANlYBcYmG/Ne+tc8TYKJMUUhKRvrKiyP/P4S0uRhs39wTovMeMMj0Nrn7F2PBfnUB8xYnN/8OLSN4fNPmPr7jda6leEGXsal4EyUAbKQBkoA2XgKDGwuTW/JIrIKco8aWPFl/mx3/poxWut0z/OGPfP2D7nLNkRQzzuQW4p7zxqCmVy+PYQL/VuO06wS2tbfgnbXBkoA2WgDJSBMlAGjgoDxzgRhZMiTavIytjb5pnTT1LImddaV3iZx2bOfObo9Xicsy1nPeeSM8655MyLsT9x5sDmWjom6iMuc2PPEjb3qF8GykAZKANloAyUgaPIwP4zontnh0hSgJFKkYSftbFOPNbJeUXRfqw+dXzttv3JZ8/cEL3GYz95j8l9fCZ1Gzbz9Czt637WnG2ve+b++iPWWbVloAyUgTJQBspAGdglBjbfI+pJK5KMFVaZ3yaywHjF1D7mZC7n4PNSqNKTdWeYx7K0o+88Z9g3xvOQ1Zt49ydvzh5y1DMmt7TGXo8ze0efWNzSzObKQBkoA2WgDJSBMnBUGVgJ0bUY5ARHUZSiKcVS5vWp+2KW4hM/e8VkzhnYpTwzWIlbZ/aP2bmZ18+Z4jLnsbq/Nfdzjjbz+uNc8/ZoRxz5bVh7astAGSgDZaAMlIEycBQZWAnR7bfiDxNk1rAIKcVU5vUhTl9s4q2Byzwxa8yBtwdLXTFpbayvJ+2/O5OM2P3qfs75Y80e6+M86/YZg/NlrbYMlIEyUAbKQBkoA7vIwLEUUN6CNqc9jBgwiizFoPiMc9a2HkUd/Yl3njZr+tnr8eQ+9mIzbz/57CNmZX2dWb9nfuzLY7En8eaWcNZqy0AZKANloAyUgTJw1BmYv75JIYVwTME051dXHJfWiCN2jj4xrxG7hGMPcCN23Dvr1pynVQAbi9Oad1bG5Iyx6dtvH7F+9qVvP9hxnr2JAddVBspAGSgDZaAMlIFdYGD+QntOVPF0nChaCTOXtVFQKfzGGcTmnGEOy0rLXD84hG/NXq3HQZw48MTWt/WTt5Y2e3Mu+4BzrseY+4vPGfZhWUv7rit9LwNloAyUgTJQBsrA7jFwTHHFqafYkgqFGjGCU8FlHust/csu/bvp4lf+/PTht71x+uQH3z2PmOXm3hsf0ef66kbarhz9m9z3W6ebnPnojdjL+fMg+vbEoDXySznxHqux2DzncUb24HvO6S/t7x5a90qsNa17HYYRW1sGykAZKANloAyUgaPGwPyMKIKIF0tRlMKL/DZBRhs9iNCLnvWo6bIPvW8V07FeTF3d8J+D1W8SbXwSZHmBec8f/MrqfZrFKFaR5nG5P7Vc4jLH8diXdQWzWM/VOHvIUffqpzPB5LHY4wz7jHP/9Eec+NoyUAbKQBkoA2WgDOwKA/MzoqMg8+QVWYow8oqz/Z71LfSLf/cXpk+sRChrLWn3haa51Q3xua4CBSeWAmJUQboGrvcb998m6DxeLX37x7k/y5w498Jaw3efzOGbB8Oy7jysGGuJm5v6VgbKQBkoA2WgDJSBHWdg/kL7NQd7InGPEASUIkpRJVfkFV3mPvLWNyozN1aROfcLXNm9i6+R2XNXh/DuP3j29J7f/5UDe+deHkvm6PZYteTA+CJmGSduXVm/O5c6L/GJwRendZ59S5hxRuMyUAbKQBkoA2WgDOwyA6dcdNFF6sWZB4WUwsrb0OYBjT65v/i//o+NACX+4qe/CjMvZrAQbfZiiT/2N386/fVzvmu6/CMfmK+OrtIH5qxx7DmPmN9ml7fVkZNH2GYd0LHr3nS61m3vPt3sAU+YrnHDm8/7emuemSyPZw6G2OPj2O0Th7WutWaMZeUe6Y+1Gdy3MlAGykAZKANloAzsEAPzrXnPF/G0JKCom9ciqnzZv8btR84Dt64dP/+at7rjdKtHPnM65fTrrvbY793r2CQsab2nvzf6ONxlH7h4+uAFr5ze/nPnTJ943zuPE4SKQo+NAQpmjnuse95uZJ/W/GizL31wYzz2Ni4DZaAMlIEyUAbKwFFmIG7N71/l44QVSQotrC/rYHyRQzwiDBWUftBnro2KkeTeOv3Wd5rF6GkrMcpijoLTtrUwXddmkG8roPuRyt5ProLLPvTe6e9e9tPzsW9aosHztDbPcNO9JJg8d9LZlz44Y3xX+uZqy0AZKANloAyUgTKwywwcEKIKxxRSKaDMYzOvP4pH8RI8xuaxiNFbPOKZ06nXXF0Z3chQKithh1kt7Tpav5sLzTeL0cR/6C//OFvmY186ls15hFA1x4B8TMF8cuHMrB3YuEEZKANloAyUgTJQBsrAhoFjeooohZVx3q4GSz6fmUR0id2ftZKPkbduDuvc/Z5Tpmt9wZ2n2//g780perbhnJO9+PZg/+wH77ERrp/84MXHHaO9zrKXvDntiCXvSt+cs7Cu9Me5YmrLQBkoA2WgDJSBMrBLDMxXRFNMpQ8RxPmSHIRViivzWuv2mie2D581WrHWttWdk3j8ee/ZWVdCN84J+zwW56/Rx79b14pwjnFaa2MPmLG2hMlZ9ctAGSgDZaAMlIEycBQZ2PzEpyeHSOKFONLPGr51MdZHmwJLn16WvWNMzflY6+bTOoMcyz20eY/enLOz15x7jfF6+p7A3Tt+97PHWKz7bYvJ26sVW1sGykAZKANloAyUgV1gYPOF9gonrCItfckQR7xUTxwCK19jDzX3ypp7jPPFu4c95FnuNefnzPqNqo8CONse47lnyxVasWDysQR7rLt/zswaeFbW019X+14GykAZKANloAyUgd1g4Lhb84opTh9/SSiJ0YqZb7TvPRaZvdTFZA+5xOEjGMVkjeNxBr4rMVnnMDgeNCr6cvwgFv3j/uRy75xNjUUuV2Lc3xnG4NPPGdmfc+uXgTJQBspAGSgDZeCoM7C5Na84QjApmrDmFUxYRJ0YCUKezRJt/din6Y3YM2Gf88y7zzjbfOKY4Rzz2ONmrnKIUPLOoU/fXuvY3H/cw17sWHNG5sllzH4Z64PrKgNloAyUgTJQBsrArjFw4OubPPkURoopRROWnJhN3uaVRfzlsoecfaMPRpx7irFGzHL/xK0r63fwuVaTN2H24LOcP+7vPtbFYu31Smvuqa9N/Lb9wXSVgTJQBspAGSgDZWCXGJiFaIqj8eQRUwoybWLIuZR7pqxhFWVp9ZdwzKTOi7oY97Ke+XEel2g9JvvEOJu8M7SJzf3Hur3mnW2sdd5oR/xYb1wGykAZKANloAyUgaPMwPxhpRREiieuIupDgBjJGGPySlIvSIrB5ix8X9TEzTNUsavADxiRzzX2WDswk+RKhc7HhI254mbIsL+zsNlj3pzHTJy+sTn6Rt8Z2qy7T20ZKANloAyUgTJQBo46A/MVUQUfgogXt5tXUvHAuSuWtBYz9uojmo+8QkssdhRqxO5Pnb55/xCO5rX05GyPAbttXzG5v3PcX8zSjKxxHO5v3mNb6k1s+vSwzK2jvpeBMlAGykAZKANlYDcYmIVoCj9E0SjMoIJ8iq5RPB2Urft4cIkdhRpxPmcJ1v3Nu3/+SZzpPGOt2NW41cEYHRTInk/uA9IZ1s2N8f7U/R57rWW8zRdbWwbKQBkoA2WgDJSBXWJg/tR8CiROXsE15hWISZAYroaG3tvMAJtCDzzz7cPqO9f9x/0S5wxzxs7QrrZanZDR2oq1VyuKuhhz2Dwe6/YaY8e1lBsxjctAGSgDZaAMlIEysGsMzM+IctKXr27HuxROh1lq1jd9OHtq9EQEGnDnOIs+/RO1zGGJx09RTLy0Eq/vcXscxvSLSatvfcRTd9bSMTRXBspAGSgDZaAMlIFdZWDzqfmVWtoIprzyt0QMwsqXQgvcLP72LgiaV5hpnUedF4v9cp77W7cHK85cYqgZe11ylVpc4ig6037sYWusG9tvL3HWzGPZP48ha/XLQBkoA2WgDJSBMrALDMy35r11jjAaxRQkKKZG33gUVOjLpTngXdR95f7UFWnWseMyp7XP2I49rTu2b/a2b7RyQd6Z6ZvDev72aMFvW/Q5Yxum+TJQBspAGSgDZaAMHGUGNrfml0SRIkuhBRH4vpaIQTPysme0Y4/1JWE27p+xfeM8Y66IelXU+/T0MCMXuaW8GGoKZXL49hAv9W47TrBLa1t+CdtcGSgDZaAMlIEyUAaOCgPHOBGFkyJNq8jK2NvmmdNnFlprLUb3r/hlfY1ZCzLzWMUYvvnM2WeNmOUxrqP9d+QmxzEfz54SdZ+c636Zc8pS7oT3Z/Nh2Tses/kB3rAMlIEyUAbKQBkoA0eagf1nRPdOE5GkACOVIgk/a2Pd633jhT+vKNqP1c8Z5nIPcixy1ufE3pt1c+Dm19yzzn5y74DE+kyqWHux5rAsepb2nYt7dbDOHvvBOUt/xJLvKgNloAyUgTJQBsrArjGw+R5RT1yRZKywyvworMDOVyCxK4eXfdS8ikou5+DzUqiOdWeYx7K0o++83AMMx8Nyzjoif3B/8uZyBseXsf2jHXs9zuwdfWJx47zGZaAMlIEyUAbKQBk4ygyshOhajHGSoyhK0ZRiKfP6SMT5tdaKG/HJ3OzF90WN5QxsYs2vUQdxmXPewd49BCJ075jILGEVyu7vnHH/vYmb4yUWM841b492xOUMMbVloAyUgTJQBspAGdgFBlbPiCIM9wVVCihEE3HmJMUaFiF37Do3mS774LvnMvP+/On3nv35YuTeFcnVpL2nNVelVW4v7cjp1FVCzbiu8X7wKuoGvB4xh6tD3LpOWQ087bo3Pa6e58Q5jCvPL7HgqC3VnaPNmeLHWYmpXwbKQBkoA2WgDJSBXWLgwC8r+YlwCTgR0QQGkXX6bb7Eto3d14cHJOhaga60X8o/sJ/cS6z7fN+f4mAym+zKWdCRcx1hy7r27e6xdvbePeZRMBpT99y1BwasgszTx2vsS0z6znI/49oyUAbKQBkoA2WgDOwSA/PXNymI/BCPBMz5JZW3AqSwAnfT+33HdOq1bjC35hVKtOVGNK78WWseEJxzy6YP7LrM+0rg7UWicha5MTY3d6/eTr32DaebPeAJts/W8/UcMiZnjE3fIfbNe+2dbPalbz/YcZ5zEuMetWWgDJSBMlAGykAZOOoMnHLRRRetdND69roni0BSJKVPfSnvM5aXXfp308Wv/Pnpw2974/TJ1W36jUhknsPnGeuAHC9E46zncPTX3hAHfq6s3/a0YGTWt+Ovc7u7Tzd9wPdM17jBGQdqngNJfK4Ecw6jIKRGTry+1qGJyxn2idtmx3nbcM2XgTJQBspAGSgDZeAoMXDKhRdeOMs/r4YqihRRikxOWrFGzTrWnm11Ccu6uZyTszKfWPdaymV/1tOnP5f7kBv7wXrM6Y/9zrR/aVb26NOX+5uvLQNloAyUgTJQBsrALjAwPyPKiSKKUhjpZ370131rAZeCKn3nkBu/BoncEtbj0ToDOy5rmR9nWmP/XIkj73ysc31uFmzmnWOPMTbnZj39EZf99ctAGSgDZaAMlIEysAsMzM+IpnDKk1Y4KcKo4R8UlOuremDN4/MC62zjnI8/5sWLcwY4FvG2HjFae8dZ7iHOuvON3Ue8dfPirDsPK8aavfbUloEyUAbKQBkoA2Vg1xmYv9B+TUI+xXnwKqeiSrIQV4quzKXoIi9m7Kc2Ys3ZY53YHBhnZc7etGKX+p0BZlzOZX9eY794cVqP1z5w1rT21paBMlAGykAZKANloAysHvtUQK1k03GiCwFlfRRT5rHUttXHGYnLGn+MrBm7z/jHMo/19rmYcQ4YXubtFa+1njHPiC4tZ+QzpOKYk3uKXZpvT20ZKANloAyUgTJQBnaNgfnWvCeteCJWTGUNP0UVGMWVefFiySdGnPOtibffurF9WvtGnPjD5tFjn3PAKzo9Zu04i9g+Lbml5fFSS38pXupvrgyUgTJQBspAGSgDR5WBA5f7loSXQgvrCzLA5muJIK5UupxjfKLWvtEq6jyGnGfNZ1ap2Y9vffSJWYklBk8u89tmgLGW+PSZ2VUGykAZKANloAyUgV1n4IAQVTimkEoBZR6beXxeY168JI+xea0zt+EyL5beE90/98lZmcfP2yU44wAABSJJREFUWu7jbXjq5kef/qwRd5WBMlAGykAZKANloAwcz8BGiCKofCmkgCO+zBPjK1iJxZJ34ZsnZ785bOITg29dK9YY69IXM+a31Udc9uc+2/JjvzGWHvc1P84xX1sGykAZKANloAyUgV1lYBaiKZrShxTifEkUwirFlXmtdXvNE9uHzxqtWGvb6s5JPL57H1Z3Nhjnj3OMrWvNb5tP3drYs1RbwrhHbRkoA2WgDJSBMlAGjioD8an59SkioBRn+p684so6AsocvoJqtPSbSzz+GIMlBz7r5tOKIcdyj9FmzdnZaw7LGuM5uZcXQy5nGGNZHsM6Oj4m7yyt2NoyUAbKQBkoA2WgDOwCA5svtFc4YRVY6UuGOOKsI6Z8WTPWmnc+ef2suUfOpy4e35X94z7ELj8R72xrxuD0RysWTH4Ayh7rWF72U88aMSvr6a+rfS8DZaAMlIEyUAbKwG4wcNytecUUpz+KKikRo0VM+UqMIitrY0/ugZ/PpGaNuc5zD2xism5e63OtxC7w1s0R5ytngsl+YzFa+43BpZ8z8LMGtqsMlIEyUAbKQBkoA7vAwObWvOIIUaQwwppXMGERdWIkibwYc9icYYwdscSscbb5ubh6s2/cn7o1sVj3d45xYqj5yv3HPezFjjX7M08uY4/Hva2B6yoDZaAMlIEyUAbKwK4xsPnUfJ54CiPFlKIJS05M5nNG+vaQs2/0wYhzTzHWiFnun7h1Zf0OftvKHnyW88f93ce6WKy9XmnNPfW1id+2P5iuMlAGykAZKANloAzsEgOzEE1xNJ48YkpBpk0MOZYzjM1pFWVp9e1xBj0s6rzIi1lX1u/WzC3Ns6YVg9V3tjaxYNx/rIOzhn9F88DkGvFZq18GykAZKANloAyUgaPOwPxhpRREiq2VTDsg/sRIyBiTt3fEgM2a4g1LLWclzg8YOU879ph3rvPS5lxx9G2bRS17iFnmnE2cvrE5ekbfGdqsg+8qA2WgDJSBMlAGysAuMDBfEVXwIYh4cbt5dQ3ywPkrlrQWM9ZXjCm0xGKtJdb9qZOf99+70kqOJR7LjJydNetaet0zfevU3D/n5Hz6suaczOs7l9jlrKw5D4x18bVloAyUgTJQBspAGdgFBmYhmsJvSZhBBPkTFU8KLm0KLXOSS5zPWeb+5t3fnoyd5x5prWVf5vBZuQ+xM6ybG2PyLnu0Y544a+mLrS0DZaAMlIEyUAbKwC4xMH9qfhRFCq4x75XDJGjEWHMGcQo98NTsw+qPveN+iXOGOWNnpM1jIS/WXq091MWYw+bxWLfXGDuupdyIaVwGykAZKANloAyUgV1jYH5GlJO+fHU73qVwOsxSs25f2hMRaOCd4yz69E/Uuq94Y+d7LJm3Zs5esR6HceLFYvWtj3jqznKv2jJQBspAGSgDZaAMlIHVRT5ImMXT3pVJhFNe+VsiCbwvhZZzFGbm59nuEcOoi2W/nOf+1qNtgzOXGGYYY50pNq04cuLsxx62xrqx/fYSZ808lv3zGLJWvwyUgTJQBspAGSgDu8DAfGveW+eKt1EgKaYgJH1jRZX9mcdfWoo0bO4P1nmJGWd4HFr7jLXjuTiH+ogRm/uDF5e+OWz2GVt3v9FSvyLM2NO4DJSBMlAGykAZKANHiYHNrfklUUROUeZJGyu+zI/91kcrXmud/nHGuH/G9jlnyY4Y4nEPckt551FTKJPDt4d4qXfbcYJdWtvyS9jmykAZKANloAyUgTJwVBj4/wHxvM2AB3693QAAAABJRU5ErkJggg==)"
      ]
    },
    {
      "cell_type": "markdown",
      "metadata": {
        "id": "wbSDHq8zXb24"
      },
      "source": [
        "In the following code, we setup the root directory for our project, extract the dataset to the root directory, and download the label files."
      ]
    },
    {
      "cell_type": "code",
      "execution_count": null,
      "metadata": {
        "id": "ol_RX3yIBi3w"
      },
      "outputs": [],
      "source": [
        "# Let's make our assignment directory\n",
        "CS163_path = './CS163'\n",
        "os.makedirs(CS163_path, exist_ok=True)\n",
        "# os.makedirs will create directories recursively, i.e., it will create the\n",
        "# directories and any missing parent directories if they do not exist.\n",
        "\n",
        "# Now, let's specify the assignment path we will be working with as the root.\n",
        "root_dir = os.path.join(CS163_path, 'MiniPlaces')\n",
        "\n",
        "!unzip -q MiniPlaces.zip -d ./CS163"
      ]
    },
    {
      "cell_type": "markdown",
      "metadata": {
        "id": "QuN658YrYTMa"
      },
      "source": [
        "Also, it is a good habit to setup the seed before running any experiment to ensure reproducibility."
      ]
    },
    {
      "cell_type": "code",
      "execution_count": null,
      "metadata": {
        "id": "G8xuFZtAYfxS"
      },
      "outputs": [],
      "source": [
        "# Also, seed everything for reproducibility\n",
        "# code from https://gist.github.com/ihoromi4/b681a9088f348942b01711f251e5f964#file-seed_everything-py\n",
        "def seed_everything(seed: int):\n",
        "    random.seed(seed)\n",
        "    os.environ['PYTHONHASHSEED'] = str(seed)\n",
        "    np.random.seed(seed)\n",
        "    torch.manual_seed(seed)\n",
        "    torch.cuda.manual_seed(seed)\n",
        "    torch.backends.cudnn.deterministic = True\n",
        "    torch.backends.cudnn.benchmark = True\n",
        "\n",
        "\n",
        "seed_everything(0)"
      ]
    },
    {
      "cell_type": "markdown",
      "metadata": {
        "id": "A-1eXSIDuwXq"
      },
      "source": [
        "## Q1: PyTorch Dataset (20 pts)\n",
        "In this part, you will implement a PyTorch dataset to load and preprocess the MiniPlaces dataset.\n"
      ]
    },
    {
      "cell_type": "markdown",
      "metadata": {
        "id": "DB1-KBjLuwXq"
      },
      "source": [
        "### Q1.1 Data Transform (7 pts)\n",
        "\n",
        "In this sub-question, you will be loading a sample image from the MiniPlaces dataset and applying a data transformation to it using the `torchvision.transforms.Compose` function.\n",
        "\n",
        "First, let's load a sample image from the `{root_dir}/images/train/a/abbey/00000001.jpg` file and print some properties about it:\n"
      ]
    },
    {
      "cell_type": "code",
      "execution_count": null,
      "metadata": {
        "id": "UmBf9x22uwXr"
      },
      "outputs": [],
      "source": [
        "# Load sample image\n",
        "image = Image.open(f'{root_dir}/images/train/a/abbey/00000001.jpg')\n",
        "print(f'Data type of my image: {type(image)}')\n",
        "print(f\"Shape of image: {np.array(image).shape}\")\n",
        "print(f'Channel mode:', image.mode)\n",
        "print(f\"Value range of image: {image.getextrema()}\")\n",
        "\n",
        "plt.imshow(image)\n",
        "plt.title('PIL Image')\n",
        "plt.axis('off')"
      ]
    },
    {
      "cell_type": "markdown",
      "metadata": {
        "id": "Ffo4TMXauwXq"
      },
      "source": [
        "You should be aware of the following data properties:\n",
        "* The loaded image is in the format of \"channel-last\", with the shape of (height, width, channels), instead of (channels, height, width).\n",
        "* The channel mode is RGB, meaning the channels are ordered as red, green, and blue.\n",
        "* The value range of the data is between 0 and 255, so the data type is most likely uint8.\n",
        "\n",
        "Now let's try loading the same image using **opencv**.\n"
      ]
    },
    {
      "cell_type": "code",
      "execution_count": null,
      "metadata": {
        "id": "MVjNEh-U0KnW"
      },
      "outputs": [],
      "source": [
        "image_opencv = cv2.imread(f'{root_dir}/images/train/a/abbey/00000001.jpg')\n",
        "\n",
        "# Display image using matplotlib\n",
        "plt.imshow(image_opencv)\n",
        "plt.title('OpenCV Image')\n",
        "plt.axis('off')"
      ]
    },
    {
      "cell_type": "markdown",
      "metadata": {
        "id": "cS0VvxMt1ueT"
      },
      "source": [
        "It is important to keep in mind these subtle differences when loading images using **opencv** or **PIL**. Be mindful of these variations when working with image data."
      ]
    },
    {
      "cell_type": "markdown",
      "metadata": {
        "id": "9g3XS98UuwXq"
      },
      "source": [
        "In addition to the sample image, you can also experiment with loading other images from the dataset for further exploration.\n",
        "\n",
        "---\n",
        "\n",
        "All images in the MiniPlaces dataset have a shape of (128, 128), and have a `uint8` (0~255) data type.\n",
        "\n",
        "Next, you should define a data transform function using [torchvision.transforms](https://pytorch.org/vision/0.9/transforms.html). Compose that resizes the image to 32x32, converts it to a tensor, and normalizes it using ImageNet statistics, i.e., `mean=[0.485, 0.456, 0.406], std=[0.229, 0.224, 0.225]`, be familiar with those numbers and remember to **always** normalize the image before feeding it to the networks. Finally, flatten the image to a $32\\times32\\times3$-D vector."
      ]
    },
    {
      "cell_type": "code",
      "execution_count": null,
      "metadata": {
        "id": "TtFMTnXaQIoP"
      },
      "outputs": [],
      "source": [
        "# define the ImageNet statistics\n",
        "image_net_mean = torch.Tensor([0.485, 0.456, 0.406])\n",
        "image_net_std = torch.Tensor([0.229, 0.224, 0.225])"
      ]
    },
    {
      "cell_type": "markdown",
      "metadata": {
        "id": "aCkTTWILuwXr"
      },
      "source": [
        "First, Let's take a look at the `transforms.ToTensor()`."
      ]
    },
    {
      "cell_type": "code",
      "execution_count": null,
      "metadata": {
        "id": "OCUo4jDTuwXr"
      },
      "outputs": [],
      "source": [
        "print('original image:',\n",
        "      f'  type: {type(image)}',\n",
        "      f'  shape: {np.array(image).shape}',\n",
        "      f'  values: max={np.max(image)}, min={np.min(image)}',\n",
        "      sep='\\n')\n",
        "\n",
        "_t_img = transforms.ToTensor()(image)\n",
        "print('after ToTensor transformation:',\n",
        "      f'  type: {type(_t_img)}',\n",
        "      f'  shape: {_t_img.shape}',\n",
        "      f'  values: max={_t_img.max()}, min={_t_img.min()}',\n",
        "      sep='\\n')"
      ]
    },
    {
      "cell_type": "markdown",
      "metadata": {
        "id": "-DiK7OCgf9rb"
      },
      "source": [
        "Make sure you understand what `transforms.ToTensor()` does and complete the following data transform:"
      ]
    },
    {
      "cell_type": "code",
      "execution_count": null,
      "metadata": {
        "id": "NxNEyVi529D2"
      },
      "outputs": [],
      "source": [
        "# Define data transformation\n",
        "data_transform = transforms.Compose([\n",
        "    ################# Your Implementations #####################################\n",
        "    # TODO: Resize image to 32x32\n",
        "    ################# End of your Implementations ##############################\n",
        "    transforms.ToTensor(),\n",
        "\n",
        "    ################# Your Implementations #####################################\n",
        "    # TODO: Normalize image using ImageNet statistics\n",
        "    #     : Flatten the image with torch.flatten\n",
        "    ################# End of your Implementations ##############################\n",
        "])"
      ]
    },
    {
      "cell_type": "markdown",
      "metadata": {
        "id": "-FJ6WGm8uwXr"
      },
      "source": [
        "Let's see how `data_transform` works:"
      ]
    },
    {
      "cell_type": "code",
      "execution_count": null,
      "metadata": {
        "id": "J2_seHCpuwXr"
      },
      "outputs": [],
      "source": [
        "transformed_img = data_transform(image)\n",
        "print('shape:', transformed_img.shape)\n",
        "print('values:', transformed_img)"
      ]
    },
    {
      "cell_type": "markdown",
      "metadata": {
        "id": "lDhNtYT6uwXr"
      },
      "source": [
        "You should get results similar to the following if you're using the same image (`f'{root_dir}/images/train/a/abbey/00000001.jpg`):\n",
        "\n",
        "```\n",
        "shape: torch.Size([3072])\n",
        "values: tensor([-1.6898, -1.2959, -0.9020,  ..., -0.6541, -0.7413, -0.8110])\n",
        "```"
      ]
    },
    {
      "cell_type": "markdown",
      "metadata": {
        "id": "2WapAgWRuwXr"
      },
      "source": [
        "After defining the data transform function, you can use it to transform the sample image and visualize the result. Here is an example."
      ]
    },
    {
      "cell_type": "code",
      "execution_count": null,
      "metadata": {
        "id": "SpdV_gkJuwXr"
      },
      "outputs": [],
      "source": [
        "plt.subplot(1, 2, 1)\n",
        "plt.imshow(image.resize((32, 32)))\n",
        "plt.title('original')\n",
        "plt.axis('off')\n",
        "plt.subplot(1, 2, 2)\n",
        "plt.imshow(transformed_img.reshape(3, 32, 32).permute(1, 2, 0))\n",
        "plt.title('transformed')\n",
        "plt.axis('off')"
      ]
    },
    {
      "cell_type": "markdown",
      "metadata": {
        "id": "lrAY0RRSuwXr"
      },
      "source": [
        "You will find that the transformed image is significantly distorted in terms of color.\n",
        "\n",
        "This is caused by the normalization step. Therefore, we need to undo this step to recover the original image.\n",
        "\n",
        "To do this, let's write a `tensor_to_image` function that inverts the data transformation process. This function should take a tensor image as input and return a displayable image."
      ]
    },
    {
      "cell_type": "code",
      "execution_count": null,
      "metadata": {
        "id": "Rcx4m6yKuwXr"
      },
      "outputs": [],
      "source": [
        "def tensor_to_image(image):\n",
        "    \"\"\"\n",
        "    Convert a tensor image back to a displayable image.\n",
        "\n",
        "    Args:\n",
        "        image (torch.Tensor): Tensor image to convert.\n",
        "\n",
        "    Returns:\n",
        "        numpy.ndarray: Displayable image.\n",
        "    \"\"\"\n",
        "    tensor_image = image.clone().detach()\n",
        "    # TODO: transform the tensor_image into a numpy_image that is displayable by plt.\n",
        "    ################# Your Implementations #####################################\n",
        "    # Hints:  Reshape image vector to (3, 32, 32)\n",
        "    #         Transpose tensor image to (32, 32, 3)\n",
        "    #         Undo normalization\n",
        "    #         Convert tensor image to numpy array\n",
        "    ################# End of your Implementations ##############################\n",
        "    return numpy_image\n",
        "\n",
        "\n",
        "# check your implemention\n",
        "plt.imshow(tensor_to_image(transformed_img))\n",
        "plt.title('transformed')\n",
        "plt.axis('off')"
      ]
    },
    {
      "cell_type": "markdown",
      "metadata": {
        "id": "wqEY3-ZTuwXr"
      },
      "source": [
        "### Q1.2 MiniPlaces Dataloader (7 pts)\n",
        "\n",
        "You will implement a pytorch data loader for the MiniPlaces dataset, following the tutorial [here](https://colab.research.google.com/github/pytorch/tutorials/blob/gh-pages/_downloads/57a471142057f27da635118e88a99bf6/data_tutorial.ipynb\n",
        ").\n",
        "\n",
        "Complete the following cell and debug it if necessary."
      ]
    },
    {
      "cell_type": "code",
      "execution_count": null,
      "metadata": {
        "id": "hi77EpRNuwXr"
      },
      "outputs": [],
      "source": [
        "class MiniPlaces(Dataset):\n",
        "\n",
        "    def __init__(self, root_dir, split, transform=None, label_dict=None):\n",
        "        \"\"\"\n",
        "        Initialize the MiniPlaces dataset with the root directory for the images,\n",
        "        the split (train/val/test), an optional data transformation,\n",
        "        and an optional label dictionary.\n",
        "\n",
        "        Args:\n",
        "            root_dir (str): Root directory for the MiniPlaces images.\n",
        "            split (str): Split to use ('train', 'val', or 'test').\n",
        "            transform (callable, optional): Optional data transformation to apply to the images.\n",
        "            label_dict (dict, optional): Optional dictionary mapping integer labels to class names.\n",
        "        \"\"\"\n",
        "        assert split in ['train', 'val', 'test']\n",
        "        self.root_dir = root_dir\n",
        "        self.split = split\n",
        "        self.transform = transform\n",
        "        self.filenames = []\n",
        "        self.labels = []\n",
        "\n",
        "        # Take a second to think why we need this line.\n",
        "        # Hints: training set / validation set / test set.\n",
        "        self.label_dict = label_dict if label_dict is not None else {}\n",
        "\n",
        "        # You should\n",
        "        #   1. Load the train/val/test text file based on the `split` argument and\n",
        "        #     store the image filenames and labels.\n",
        "        #   2. Extract the class names from the image filenames and store them in\n",
        "        #     self.label_dict.\n",
        "        #   3. Construct a label dict that maps integer labels to class names, if\n",
        "        #     the current split is \"train\"\n",
        "        ################# Your Implementations #####################################\n",
        "\n",
        "        ################# End of your Implementations ##############################\n",
        "\n",
        "    def __len__(self):\n",
        "        \"\"\"\n",
        "        Return the number of images in the dataset.\n",
        "\n",
        "        Returns:\n",
        "            int: Number of images in the dataset.\n",
        "        \"\"\"\n",
        "        dataset_len = 0\n",
        "        ################# Your Implementations #####################################\n",
        "        # Return the number of images in the dataset\n",
        "\n",
        "        ################# End of your Implementations ##############################\n",
        "        return dataset_len\n",
        "\n",
        "    def __getitem__(self, idx):\n",
        "        \"\"\"\n",
        "        Return a single image and its corresponding label when given an index.\n",
        "\n",
        "        Args:\n",
        "            idx (int): Index of the image to retrieve.\n",
        "\n",
        "        Returns:\n",
        "            tuple: Tuple containing the image and its label.\n",
        "        \"\"\"\n",
        "        ################# Your Implementations #####################################\n",
        "        # Load and preprocess image using self.root_dir,\n",
        "        # self.filenames[idx], and self.transform (if specified)\n",
        "\n",
        "        ################# End of your Implementations ##############################\n",
        "        return image, label"
      ]
    },
    {
      "cell_type": "code",
      "execution_count": null,
      "metadata": {
        "id": "ELRKigneuwXr"
      },
      "outputs": [],
      "source": [
        "seed_everything(0)\n",
        "# Create MiniPlaces dataset object\n",
        "miniplaces_train = MiniPlaces(root_dir,\n",
        "                              split='train',\n",
        "                              transform=data_transform)\n",
        "\n",
        "# Check our implementation\n",
        "print('len of trainining dataset:', len(miniplaces_train))\n",
        "print('label_dict:', miniplaces_train.label_dict)\n",
        "random_idxs = np.random.choice(len(miniplaces_train), 3)\n",
        "print('Example filenames:',\n",
        "      [miniplaces_train.filenames[i] for i in random_idxs])\n",
        "print('Example class IDs:', [miniplaces_train.labels[i] for i in random_idxs])\n",
        "print('Example class names:', [\n",
        "    miniplaces_train.label_dict[miniplaces_train.labels[i]]\n",
        "    for i in random_idxs\n",
        "])\n",
        "print()\n",
        "\n",
        "miniplaces_val = MiniPlaces(root_dir, split='val', transform=data_transform)\n",
        "print('val label_dict:', miniplaces_val.label_dict)"
      ]
    },
    {
      "cell_type": "markdown",
      "metadata": {
        "id": "NXlEK_-7uwXr"
      },
      "source": [
        "If you have successfully implemented the dataset, the above code should give you results like this:\n",
        "\n",
        "\n",
        "```\n",
        "len of trainining dataset: 100000\n",
        "label_dict: {0: 'abbey', 1: 'airport_terminal', 2: 'amphitheater', 3: 'amusement_park', 4: 'aquarium', 5: 'aqueduct', 6: 'art_gallery', 7: 'assembly_line', 8: 'auditorium', 9: 'badlands', 10: 'shop', 11: 'ballroom', 12: 'bamboo_forest', 13: 'banquet_hall', 14: 'bar', 15: 'baseball_field', 16: 'bathroom', 17: 'beauty_salon', 18: 'bedroom', 19: 'boat_deck', 20: 'bookstore', 21: 'botanical_garden', 22: 'bowling_alley', 23: 'boxing_ring', 24: 'bridge', 25: 'bus_interior', 26: 'butchers_shop', 27: 'campsite', 28: 'candy_store', 29: 'canyon', 30: 'cemetery', 31: 'chalet', 32: 'outdoor', 33: 'classroom', 34: 'clothing_store', 35: 'coast', 36: 'cockpit', 37: 'coffee_shop', 38: 'conference_room', 39: 'construction_site', 40: 'corn_field', 41: 'corridor', 42: 'courtyard', 43: 'dam', 44: 'sand', 45: 'dining_room', 46: 'driveway', 47: 'fire_station', 48: 'food_court', 49: 'fountain', 50: 'gas_station', 51: 'golf_course', 52: 'harbor', 53: 'highway', 54: 'hospital_room', 55: 'hot_spring', 56: 'outdoor', 57: 'iceberg', 58: 'kindergarden_classroom', 59: 'kitchen', 60: 'laundromat', 61: 'lighthouse', 62: 'living_room', 63: 'lobby', 64: 'locker_room', 65: 'outdoor', 66: 'martial_arts_gym', 67: 'outdoor', 68: 'mountain', 69: 'indoor', 70: 'office', 71: 'palace', 72: 'parking_lot', 73: 'phone_booth', 74: 'playground', 75: 'racecourse', 76: 'railroad_track', 77: 'rainforest', 78: 'restaurant', 79: 'river', 80: 'rock_arch', 81: 'runway', 82: 'shed', 83: 'shower', 84: 'ski_slope', 85: 'skyscraper', 86: 'slum', 87: 'football', 88: 'indoor', 89: 'staircase', 90: 'platform', 91: 'supermarket', 92: 'swamp', 93: 'outdoor', 94: 'east_asia', 95: 'outdoor', 96: 'trench', 97: 'valley', 98: 'volcano', 99: 'yard'}\n",
        "Example filenames: ['train/m/mountain/00000269.jpg', 'train/d/dam/00000568.jpg', 'train/c/courtyard/00000614.jpg']\n",
        "Example class IDs: [68, 43, 42]\n",
        "Example class names: ['mountain', 'dam', 'courtyard']\n",
        "\n",
        "val label_dict: {}\n",
        "```\n",
        "\n",
        "----\n",
        "Since validation and test annotation files do not have class information, we should pass the `label_dict` obtained from the training set to them.\n"
      ]
    },
    {
      "cell_type": "code",
      "execution_count": null,
      "metadata": {
        "id": "wot4ASXDuwXr"
      },
      "outputs": [],
      "source": [
        "miniplaces_val = MiniPlaces(root_dir,\n",
        "                            split='val',\n",
        "                            transform=data_transform,\n",
        "                            label_dict=miniplaces_train.label_dict)\n",
        "\n",
        "print('val label_dict:', miniplaces_val.label_dict)"
      ]
    },
    {
      "cell_type": "markdown",
      "metadata": {
        "id": "cPOEIdYQuwXr"
      },
      "source": [
        "Now you should see the same `label_dict` as the tranining set.\n",
        "\n",
        "---"
      ]
    },
    {
      "cell_type": "markdown",
      "metadata": {
        "id": "AoT2T1BLuwXr"
      },
      "source": [
        "Next, let's visualize the image in each category."
      ]
    },
    {
      "cell_type": "code",
      "execution_count": null,
      "metadata": {
        "id": "DLowdIZpuwXs"
      },
      "outputs": [],
      "source": [
        "figure = plt.figure(figsize=(24, 24))\n",
        "cols, rows = 10, 10\n",
        "for i in range(1, cols * rows + 1):\n",
        "    sample_idx = torch.randint(len(miniplaces_train), size=(1, )).item()\n",
        "    img, label = miniplaces_train[sample_idx]\n",
        "    class_name = miniplaces_train.label_dict[label]\n",
        "    figure.add_subplot(rows, cols, i)\n",
        "    plt.title(class_name)\n",
        "    plt.axis(\"off\")\n",
        "    plt.imshow(tensor_to_image(img))\n",
        "plt.show()"
      ]
    },
    {
      "cell_type": "markdown",
      "metadata": {
        "id": "dtcd2yyRg-nB"
      },
      "source": [
        "Finally, we define the pytorch `DataLoader` for loading images into batches of data, make sure you have followed the [tutorial](https://colab.research.google.com/github/pytorch/tutorials/blob/gh-pages/_downloads/57a471142057f27da635118e88a99bf6/data_tutorial.ipynb\n",
        ") and understand what is the use of `DataLoader`."
      ]
    },
    {
      "cell_type": "code",
      "execution_count": null,
      "metadata": {
        "id": "UvPSN7ryKv6e"
      },
      "outputs": [],
      "source": [
        "# Define the batch size and number of workers\n",
        "batch_size = 64\n",
        "num_workers = 2\n",
        "\n",
        "# Create DataLoader for training and validation sets\n",
        "train_loader = DataLoader(miniplaces_train,\n",
        "                          batch_size=batch_size,\n",
        "                          num_workers=num_workers,\n",
        "                          shuffle=True)\n",
        "val_loader = DataLoader(miniplaces_val,\n",
        "                        batch_size=batch_size,\n",
        "                        num_workers=num_workers,\n",
        "                        shuffle=False)"
      ]
    },
    {
      "cell_type": "markdown",
      "metadata": {
        "id": "ZTNtSH_xtGMi"
      },
      "source": [
        "### Q1.3 Answer the following questions (6 pts):\n"
      ]
    },
    {
      "cell_type": "markdown",
      "metadata": {
        "id": "aQA8cyRT1vYq"
      },
      "source": [
        "a. In a few words, describe the differences between loading images using **PIL** and **opencv**. (2 pts)"
      ]
    },
    {
      "cell_type": "markdown",
      "metadata": {
        "id": "VevLBlLp4uiM"
      },
      "source": [
        "(Double click to edit)\n",
        "\n",
        "Your answer:\n",
        "\n",
        "---"
      ]
    },
    {
      "cell_type": "markdown",
      "metadata": {
        "id": "tdKL8SA9uwXr"
      },
      "source": [
        "b. In 1-2 sentences, explain why do we need to normalize the images before training. (2 pts)"
      ]
    },
    {
      "cell_type": "markdown",
      "metadata": {
        "id": "1AosTAoWuwXr"
      },
      "source": [
        "(Double click to edit)\n",
        "\n",
        "Your answer:\n",
        "\n",
        "---"
      ]
    },
    {
      "cell_type": "markdown",
      "metadata": {
        "id": "Fw3ZLeC3t55s"
      },
      "source": [
        "c. In 1-2 sentences, explain the use of PyTorch ```DataLoader``` and its different from the PyTorch ```Dataset```. (2 pts)\n",
        "\n"
      ]
    },
    {
      "cell_type": "markdown",
      "metadata": {
        "id": "1QF1YRD7upKk"
      },
      "source": [
        "(Double click to edit)\n",
        "\n",
        "Your answer:\n",
        "\n",
        "---"
      ]
    },
    {
      "cell_type": "markdown",
      "metadata": {
        "id": "obpZTVJ26hyE"
      },
      "source": [
        "## Q2: Regression (40 pts)\n",
        "\n",
        "For this question, you will be implementing and evaluating the performance of linear, logistic and softmax regression classifier on the TinyPlaces dataset.\n",
        "\n",
        "Recall some details:\n",
        " 1. Linear Regression models the relationship between an input and an output by fitting a linear function to the data. In this assignemnt, we will use the Mean Square Error (MSE) loss function to minimize the weights and biases of the linear function.\n",
        " 2. Logistic Regression is commonly used for binary classification tasks. It is an extension of linear regression that adds a logistic function to the linear output. We will use the Binary Cross Entropy Loss to optimize the logistic regression model.\n",
        " 3. Softmax regression is usually used for multiclass classification tasks. It is an extension of linear regression that adds a softmax function to the linear output and uses the Cross Entropy loss to optimize the model.\n",
        "\n",
        "\n",
        "\n",
        "The goal of this exercise is to go through a simple example of the data-driven image classification pipeline, and also to practice writing efficient, vectorized code in PyTorch.\n",
        "\n",
        "❗\n",
        "You may not use any functions from `torch.nn` or `torch.nn.functional` in your implementation, except for the `torch.nn.functional.one_hot` used in Q2.2 and Q2.3.\n",
        "\n",
        "\n",
        "The goals of this exercise are to go through a simple example of the data-driven image classification pipeline, and also to practice writing efficient, vectorized code in [PyTorch](https://pytorch.org/).\n",
        "\n",
        "You may not use any functions from torch.nn or torch.nn.functional."
      ]
    },
    {
      "cell_type": "markdown",
      "metadata": {
        "id": "OfvRB8rdC1RQ"
      },
      "source": [
        " We will run the codes on GPU. Go to:\n",
        "Runtime->Change Runtime Type->Hardware Accelerator->GPU"
      ]
    },
    {
      "cell_type": "code",
      "execution_count": null,
      "metadata": {
        "id": "HE2Hg8wFC0Yh"
      },
      "outputs": [],
      "source": [
        "# Define the device to use for training\n",
        "device = torch.device('cuda' if torch.cuda.is_available() else 'cpu')\n",
        "if torch.cuda.is_available():\n",
        "    print('Good to go!')\n",
        "else:\n",
        "    print('Please set GPU via Edit -> Notebook Settings.')"
      ]
    },
    {
      "cell_type": "code",
      "execution_count": null,
      "metadata": {
        "id": "A2sV9w1q3Pek"
      },
      "outputs": [],
      "source": [
        "# This line of code gives you the information about GPU\n",
        "! nvidia-smi"
      ]
    },
    {
      "cell_type": "markdown",
      "metadata": {
        "id": "ZcS_PwFfEwRu"
      },
      "source": [
        "### Q2.1 Linear Regression (10 pts)\n",
        "\n",
        "In this part of the question, you will implement linear regression for image classification on the TinyPlaces dataset. Your goal is to predict the category of an image based on its pixel values.\n",
        "\n",
        "To do this, you will need to complete the following steps:\n",
        "\n",
        "1. Initialize the weights and biases of the linear regression model and implement the linear function and the predict function in the LinearRegression class. If the prediction score is greater than 0.5, we consider the image to be of the outdoor category. Otherwise, we consider it to be of the indoor category.\n",
        "\n",
        "2. Use the fit function in the LinearRegression class to fit the linear regression model to the training data using gradient descent. You will need to set the learning rate and the number of epochs for the gradient descent algorithm.\n",
        "\n",
        "3. Evaluate the performance of the linear regression model on the training and validation datasets using the evaluate function in the LinearRegression class. This function should calculate the accuracy of the model on the dataset."
      ]
    },
    {
      "cell_type": "markdown",
      "metadata": {
        "id": "sbXT1RrtTyDm"
      },
      "source": [
        "---\n",
        "\n",
        "We will implement linear regression step by step.\n",
        "\n",
        "Remember that for linear regression:\n",
        "\n",
        "$$y = WX+b$$\n",
        "\n",
        "In our case, $X$ is the flattened image vector with a dimenstion of $32\\times32\\times3=3072$. Thus, the weight $W$ should be compatible with the dim of $X$.\n",
        "\n",
        "We use the linear function to directly predict the label ranging from 0-99.\n",
        "\n",
        "\n",
        "\n",
        "---\n",
        "Below is the class you need to implement. Don't be scared. Each code block requires a very few lines of implementation.\n",
        "\n",
        "You do not need to finish all the class functions at once. Instead, you should finish them one by one and try to debug them."
      ]
    },
    {
      "cell_type": "code",
      "execution_count": null,
      "metadata": {
        "id": "eKbDCvNAEp4w"
      },
      "outputs": [],
      "source": [
        "class LinearRegression(object):\n",
        "\n",
        "    def __init__(self, input_size, output_size):\n",
        "        \"\"\"\n",
        "          Initialize the weights and biases using zeros\n",
        "\n",
        "          Parameters:\n",
        "              input_size (int): The input size (dimension of feature vectors)\n",
        "              output_size (int): The output size (dimension of output logits)\n",
        "\n",
        "          Returns:\n",
        "              None.\n",
        "        \"\"\"\n",
        "        # Initialize and set the device for the weights and biases using zeros\n",
        "        # Remember to set requires_grad=True\n",
        "        ################# Your Implementations ################################\n",
        "\n",
        "        ################# End of your Implementations ##########################\n",
        "\n",
        "    def linear(self, x):\n",
        "        # Implement the linear function using y = Wx + b\n",
        "        ################# Your Implementations ################################\n",
        "\n",
        "        ################# End of your Implementations ##########################\n",
        "        return output\n",
        "\n",
        "    def forward(self, x):\n",
        "        # To make the output shape compact.\n",
        "        return self.linear(x).squeeze()\n",
        "\n",
        "    def get_loss(self, preds, targets):\n",
        "        # Calculate the mean squared error between the predicted labels and the ground-truth labels\n",
        "        ################# Your Implementations ################################\n",
        "\n",
        "        ################# End of your Implementations ##########################\n",
        "        return loss\n",
        "\n",
        "    def fit(self, train_loader, val_loader, lr, epochs=5):\n",
        "        # Fit the linear regression model to the training data using gradient descent\n",
        "        # lr is the learning rate, epochs is the number of epochs\n",
        "\n",
        "        # To store validation accuracy\n",
        "        val_accs = []\n",
        "        train_losses = []\n",
        "        for epoch in range(epochs):\n",
        "            # Create a progress bar using tqdm\n",
        "            pbar = tqdm(total=len(train_loader),\n",
        "                        desc=f'Epoch {epoch + 1}/{epochs}',\n",
        "                        position=0,\n",
        "                        leave=True)\n",
        "            epoch_loss = 0\n",
        "            iter = 0\n",
        "            for images, labels in train_loader:\n",
        "                images = images.to(device)\n",
        "                labels = labels.to(device)\n",
        "                # TODO: finish the training steps:\n",
        "                ################# Your Implementations ################################\n",
        "                # 1. Calculate the loss\n",
        "                # 2. Backpropagate the loss to compute the gradients\n",
        "\n",
        "                with torch.no_grad():\n",
        "                    # 3. Update the weights and biases using gradient descent ()\n",
        "                    # 4. Reset the gradients by calling grad.zero_()\n",
        "\n",
        "                ################# End of your Implementations ##########################\n",
        "                pbar.set_postfix(loss=loss.item(), lr=lr)\n",
        "                pbar.update()\n",
        "                epoch_loss += loss.item()\n",
        "                iter += 1\n",
        "            # Calculate the validation accuracy\n",
        "            val_acc = self.evaluate(val_loader)\n",
        "            val_accs.append(val_acc)\n",
        "            # Calculate the average training loss\n",
        "            epoch_loss = epoch_loss / iter\n",
        "            train_losses.append(epoch_loss)\n",
        "            # Update the progress bar with the validation accuracy and training loss\n",
        "            pbar.set_description(\n",
        "                f'val_acc: {val_acc:.3f}, train_loss: {epoch_loss:.3f}')\n",
        "        return val_accs, train_losses\n",
        "\n",
        "    def evaluate(self, data_loader):\n",
        "        # Evaluate the performance of the linear regression model on the dataset\n",
        "        count = 0\n",
        "        correct = 0\n",
        "        pbar = tqdm(range(len(data_loader)),\n",
        "                    desc='Evaluating:',\n",
        "                    position=0,\n",
        "                    leave=True)\n",
        "        for images, labels in data_loader:\n",
        "            images = images.to(device)\n",
        "            labels = labels.to(device)\n",
        "            preds = self.forward(images)\n",
        "            # Calculate the predicted labels\n",
        "            preds = preds.round().int()\n",
        "            correct += (preds == labels).sum().item()\n",
        "            count += labels.shape[0]\n",
        "            pbar.update()\n",
        "        return correct / count"
      ]
    },
    {
      "cell_type": "markdown",
      "metadata": {
        "id": "vG0lialr3jBu"
      },
      "source": [
        "Let's test the performance of zeros-initialized model.\n",
        "You should finish two functions: `__init__` and `linear` in the `LinearRegression` class to run the below cell."
      ]
    },
    {
      "cell_type": "code",
      "execution_count": null,
      "metadata": {
        "id": "J0A6AHca2-TG"
      },
      "outputs": [],
      "source": [
        "seed_everything(0)\n",
        "\n",
        "# Try to debug using this cell\n",
        "linear_model = LinearRegression(3072, 1)\n",
        "train_acc = linear_model.evaluate(train_loader)\n",
        "val_acc = linear_model.evaluate(val_loader)\n",
        "print('train accuracy:', train_acc)\n",
        "print('val accuracy:', val_acc)"
      ]
    },
    {
      "cell_type": "markdown",
      "metadata": {
        "id": "BTS_hvlc2pW0"
      },
      "source": [
        "The above code should give you an accuracy of exactly 0.01, since we're using zeros-initialization, therefore all the outputs will be 0.\n",
        "\n",
        "\n",
        "---\n",
        "\n",
        "Now, let's consider optimizing the linear model by gradient descent.\n",
        "\n",
        "Recall that to optimize the linear model using gradient descent, you need to follow these steps:\n",
        "1. Compute the losses between the predicted labels and ground-truth labels using the mean squared error (MSE) loss.\n",
        "\n",
        "2. Back-propagate the losses to get the gradients of the parameters. This is done automatically in PyTorch when you call the `loss.backward()` method.\n",
        "\n",
        "3. Get the parameters for the next iteration by subtracting the gradient multiplied by the learning rate. You can do this by updating the `self.W` and `self.b` parameters in the `fit()` function, note the `torch.no_grad()` context manager that we use to avoid gradient computation during parameter update and save memory.\n",
        "\n",
        "With the above hints, finish the ``get_loss`` and ``fit``and function."
      ]
    },
    {
      "cell_type": "markdown",
      "metadata": {
        "id": "ii17wRAF9gp1"
      },
      "source": [
        "Finally, we train the linear regression model for multiple epochs. You may encounter that the loss would go to infinity (nan) during traning, think about the reason for that."
      ]
    },
    {
      "cell_type": "code",
      "execution_count": null,
      "metadata": {
        "id": "FRzp8zPu8gyD"
      },
      "outputs": [],
      "source": [
        "# Run this\n",
        "linear_model_1 = LinearRegression(3072, 1)\n",
        "linear_model_2 = LinearRegression(3072, 1)\n",
        "# You can reduce the number of training epochs to debug. Running 1 epcoh takes about 1-2 mins.\n",
        "val_accs_1, losses_1 = linear_model_1.fit(train_loader, val_loader, lr=1e-4)\n",
        "# Try training with a higher learning rate and observe the results\n",
        "val_accs_2, losses_2 = linear_model_2.fit(train_loader, val_loader, lr=1e-2)"
      ]
    },
    {
      "cell_type": "markdown",
      "metadata": {
        "id": "q8u9PjZ8DZHh"
      },
      "source": [
        "#### Visualize the validation accuracy"
      ]
    },
    {
      "cell_type": "code",
      "execution_count": null,
      "metadata": {
        "id": "28G1Z5_zCIva"
      },
      "outputs": [],
      "source": [
        "plt.plot(val_accs_1, label='LinearRegression, lr=1e-4')\n",
        "plt.plot(val_accs_2, label='LinearRegression, lr=1e-2')\n",
        "plt.legend()\n",
        "plt.xlabel('Epoch')\n",
        "plt.ylabel('Validation Accuracy (%)')\n",
        "plt.show()"
      ]
    },
    {
      "cell_type": "markdown",
      "metadata": {
        "id": "xRoNS2YIERWQ"
      },
      "source": [
        "#### Visualize the training loss"
      ]
    },
    {
      "cell_type": "code",
      "execution_count": null,
      "metadata": {
        "id": "pEopZbsiEVVh"
      },
      "outputs": [],
      "source": [
        "plt.plot(losses_1, label='LinearRegression, lr=1e-4')\n",
        "plt.plot(losses_2, label='LinearRegression, lr=1e-2')\n",
        "plt.legend()\n",
        "plt.xlabel('Epoch')\n",
        "plt.ylabel('Training Loss')\n",
        "plt.show()"
      ]
    },
    {
      "cell_type": "markdown",
      "metadata": {
        "id": "4DGOh6Fm_bMH"
      },
      "source": [
        "### Q2.2 Logistic Regression (10pts)\n",
        "\n",
        "Logistic regression is a classification algorithm that extends Linear Regression by applying a sigmoid function to the output of the linear model:\n",
        "\n",
        "$$\\frac{1}{1+e^{-x}}$$\n",
        "\n",
        "The common loss function used in logistic regression is the binary cross entropy (BCE) loss, which measures the difference between the predicted probability distribution and the true probability distribution of the target classes:\n",
        "\n",
        "$$\\mathrm{BCE_{Loss}}(p, y) = -{(y\\log(p) + (1-y)\\log(1-p))}$$\n",
        "\n",
        "Note that the sigmoid function could only predict the probablity for a single class. Hence, the output size of the logistic regression model should be 100 instead of 1.\n",
        "\n",
        "You need to implement the sigmoid function (5 pts) and the cross entropy loss (5pts)."
      ]
    },
    {
      "cell_type": "code",
      "execution_count": null,
      "metadata": {
        "id": "uyJW0sfdiMv4"
      },
      "outputs": [],
      "source": [
        "def sigmoid(x):\n",
        "    # Implement the sigmoid function\n",
        "    # x is the predicted logits with shape (batch_size, output_size)\n",
        "    # Return the sigmoid output with shape (batch_size, output_size)\n",
        "    ################# Your Implementations ################################\n",
        "\n",
        "    ################# End of your Implementations ##########################\n",
        "    return output\n",
        "\n",
        "\n",
        "def binary_cross_entropy_loss(p, y):\n",
        "    # Calculate the binary cross entropy loss\n",
        "    # Return the binary cross entropy loss with shape (batch_size, output_size)\n",
        "    ################# Your Implementations ################################\n",
        "\n",
        "    ################# End of your Implementations ##########################\n",
        "    return output"
      ]
    },
    {
      "cell_type": "markdown",
      "metadata": {
        "id": "p7GxPJ-yBSbE"
      },
      "source": [
        "Remember that Logistic Regression is an extension of Linear Regression, so we can implement it by inheriting from Linear Regression:"
      ]
    },
    {
      "cell_type": "code",
      "execution_count": null,
      "metadata": {
        "id": "3NrBfgSuBQ3o"
      },
      "outputs": [],
      "source": [
        "class LogisticRegression(LinearRegression):\n",
        "\n",
        "    def __init__(self, input_size, output_size):\n",
        "        super(LogisticRegression, self).__init__(input_size, output_size)\n",
        "\n",
        "    def get_loss(self, pred_logits, targets):\n",
        "        # Apply the sigmoid function to the predicted logits\n",
        "        # Convert the target to one-hot vectors\n",
        "        # Calculate the binary cross entropy loss\n",
        "        # Return the mean of the loss\n",
        "        # Hint: Convert the ground-truth labels to one-hot encoding using torch.nn.functional.one_hot()\n",
        "        ################# Your Implementations ################################\n",
        "\n",
        "        ################# End of your Implementations ##########################\n",
        "        return loss\n",
        "\n",
        "    def evaluate(self, data_loader):\n",
        "        # Evaluate the performance of the logistic regression model on the dataset\n",
        "        count = 0\n",
        "        correct = 0\n",
        "        pbar = tqdm(range(len(data_loader)),\n",
        "                    desc='Evaluating:',\n",
        "                    position=0,\n",
        "                    leave=True)\n",
        "        for images, labels in data_loader:\n",
        "            images = images.to(device)\n",
        "            labels = labels.to(device)\n",
        "            preds = self.forward(images)\n",
        "            preds = preds.argmax(dim=1)\n",
        "            correct += (preds == labels).sum().item()\n",
        "            count += labels.shape[0]\n",
        "            pbar.update()\n",
        "        return correct / count"
      ]
    },
    {
      "cell_type": "code",
      "execution_count": null,
      "metadata": {
        "id": "ZkXUCz6zBxOn"
      },
      "outputs": [],
      "source": [
        "seed_everything(0)\n",
        "\n",
        "logistic_model_1 = LogisticRegression(3072, 100)\n",
        "logistic_model_2 = LogisticRegression(3072, 100)\n",
        "# try different lrs\n",
        "val_accs_1, losses_1 = logistic_model_1.fit(train_loader, val_loader, lr=1e-4)\n",
        "val_accs_2, losses_2 = logistic_model_2.fit(train_loader, val_loader, lr=1e-2)"
      ]
    },
    {
      "cell_type": "markdown",
      "metadata": {
        "id": "aXeHt4Pvf9rd"
      },
      "source": [
        "Note that the initial loss should be around 0.69, which is -ln(0.5), that could serve as a very useful sanity check."
      ]
    },
    {
      "cell_type": "markdown",
      "metadata": {
        "id": "3X_S2lY41ihm"
      },
      "source": [
        "#### Visualize the validation accuracy"
      ]
    },
    {
      "cell_type": "code",
      "execution_count": null,
      "metadata": {
        "id": "mVXzaXOq1kpA"
      },
      "outputs": [],
      "source": [
        "plt.plot(val_accs_1, label='LogisticRegression, lr=1e-4')\n",
        "plt.plot(val_accs_2, label='LogisticRegression, lr=1e-2')\n",
        "plt.legend()\n",
        "plt.xlabel('Epoch')\n",
        "plt.ylabel('Validation Accuracy (%)')\n",
        "plt.show()"
      ]
    },
    {
      "cell_type": "markdown",
      "metadata": {
        "id": "byBB3C65Ki2u"
      },
      "source": [
        "#### Visualize the training loss"
      ]
    },
    {
      "cell_type": "code",
      "execution_count": null,
      "metadata": {
        "id": "m5RGWc2zKmF0"
      },
      "outputs": [],
      "source": [
        "plt.plot(losses_1, label='LogisticRegression, lr=1e-4')\n",
        "plt.plot(losses_2, label='LogisticRegression, lr=1e-2')\n",
        "plt.legend()\n",
        "plt.xlabel('Epoch')\n",
        "plt.ylabel('Training Loss')\n",
        "plt.show()"
      ]
    },
    {
      "cell_type": "markdown",
      "metadata": {
        "id": "dz1F6flbHBMD"
      },
      "source": [
        "### Q2.3 Softmax Regression (5 pts)\n",
        "\n",
        "Softmax regression is a classification algorithm that extends logistic regression. It is used to predict the probability of a data point belonging to each of the K classes in a multi-class classification problem. In contrast to logistic regression, which only handles binary classification problems, softmax regression allows us to predict the probability of a data point belonging to any of K classes.\n",
        "\n",
        "The softmax function is a generalization of the sigmoid function, which is used in logistic regression. It maps the output of a linear model to a probability distribution over the K classes. The softmax function is defined as:\n",
        "\n",
        "$$\\frac{e^{z_{i}}}{\\sum_{j=1}^K e^{z_{j}}} \\ \\ \\ \\mathrm{for}\\ i=1,2,\\dots,K$$\n",
        "\n",
        "where $z$ is the output vector of the linear model, and $K$ is the number of classes.\n",
        "\n",
        "The loss function for softmax regression is the cross entropy (CE) loss. It measures the difference between the predicted probability distribution and the true probability distribution of the target class. The CE loss is defined as:\n",
        "\n",
        "$$\\mathrm{CE_{LOSS}}(\\mathbf{p},y)=-{\\log(p_y)}$$\n",
        "\n",
        "where $p_y$ is the predicted probability of the data point belonging to the true class y.\n",
        "\n",
        "In the Softmax Regression class, you will need to implement:\n",
        "1. The softmax function that maps the output of the linear model to a probability distribution over the K classes.\n",
        "2. The CE loss function that measures the difference between the predicted probability distribution and the true probability distribution of the target class.\n",
        "3. The predict function that predicts the class of a data point based on the predicted probability distribution."
      ]
    },
    {
      "cell_type": "code",
      "execution_count": null,
      "metadata": {
        "id": "vUNVJMx2LoTN"
      },
      "outputs": [],
      "source": [
        "def softmax(x):\n",
        "    # Implement the softmax function\n",
        "    # x is the predicted logits with shape (batch_size, output_size)\n",
        "    # Return the softmax output with shape (batch_size, output_size)\n",
        "    ################# Your Implementations ################################\n",
        "\n",
        "    ################# End of your Implementations ##########################\n",
        "    return output\n",
        "\n",
        "\n",
        "def cross_entropy_loss(p, y):\n",
        "    # Apply the softmax function to the predicted logits\n",
        "    # Calculate the cross entropy loss\n",
        "    # Return the cross entropy loss with shape (batch_size,)\n",
        "    ################# Your Implementations ################################\n",
        "\n",
        "    ################# End of your Implementations #################\n",
        "    return loss"
      ]
    },
    {
      "cell_type": "code",
      "execution_count": null,
      "metadata": {
        "id": "BzYXxe6TGTjP"
      },
      "outputs": [],
      "source": [
        "class SoftmaxRegression(LogisticRegression):\n",
        "\n",
        "    def __init__(self, input_size, output_size):\n",
        "        super(SoftmaxRegression, self).__init__(input_size, output_size)\n",
        "\n",
        "    def get_loss(self, pred_logits, targets):\n",
        "        # Convert the target to one-hot vectors\n",
        "        # Calculate the cross entropy loss\n",
        "        # Return the mean of the loss\n",
        "        # Hint: Convert the ground-truth labels to one-hot encoding using torch.nn.functional.one_hot()\n",
        "        ################# Your Implementations ################################\n",
        "\n",
        "        ################# End of your Implementations ##########################\n",
        "        return loss"
      ]
    },
    {
      "cell_type": "code",
      "execution_count": null,
      "metadata": {
        "id": "YBlVP4RIMQ4W"
      },
      "outputs": [],
      "source": [
        "seed_everything(0)\n",
        "\n",
        "sfm_model = SoftmaxRegression(3072, 100)\n",
        "# TODO: try experimenting with different lrs and find the best one\n",
        "val_accs, losses = sfm_model.fit(train_loader, val_loader, lr=1e-2)"
      ]
    },
    {
      "cell_type": "markdown",
      "metadata": {
        "id": "9U2t5zv6f9re"
      },
      "source": [
        "Note that the initial loss should be around 4.6, which is -ln(0.01) or ln(#total number of classes), that could serve as a very useful sanity check."
      ]
    },
    {
      "cell_type": "markdown",
      "metadata": {
        "id": "rndJ7OjaRHef"
      },
      "source": [
        "### Q2.4: Answer the following questions: (15 pts)"
      ]
    },
    {
      "cell_type": "markdown",
      "metadata": {
        "id": "EwNwh17mf9re"
      },
      "source": [
        "a: Use your own words, explain when should we use ```torch.no_grad()```? (2 pts)"
      ]
    },
    {
      "cell_type": "markdown",
      "metadata": {
        "id": "HkeoZxh-f9re"
      },
      "source": [
        "(Double click to edit)\n",
        "\n",
        "Your Answer:\n",
        "\n",
        "---"
      ]
    },
    {
      "cell_type": "markdown",
      "metadata": {
        "id": "rrqib5Y9f9re"
      },
      "source": [
        "b: Use your own words, explain the difference between training iterations and training epochs. (2 pts)"
      ]
    },
    {
      "cell_type": "markdown",
      "metadata": {
        "id": "EcvvuD4Ef9re"
      },
      "source": [
        "(Double click to edit)\n",
        "\n",
        "Your Answer:\n",
        "\n",
        "---"
      ]
    },
    {
      "cell_type": "markdown",
      "metadata": {
        "id": "JP3ZRaT6f9re"
      },
      "source": [
        "c: Describe the results with different learning rates in Q2.1 and Q2.2 and discuss why you obtain those results? (4 pts)"
      ]
    },
    {
      "cell_type": "markdown",
      "metadata": {
        "id": "6__vxY1xf9re"
      },
      "source": [
        "(Double click to edit)\n",
        "\n",
        "Your Answer:\n",
        "\n",
        "---"
      ]
    },
    {
      "cell_type": "markdown",
      "metadata": {
        "id": "wGT4K9JIf9re"
      },
      "source": [
        "d: Describe how did you determine the best learning rate in Q2.3? I can get a validation accuracy around 9.6%. How about you? (2 pts)"
      ]
    },
    {
      "cell_type": "markdown",
      "metadata": {
        "id": "Wwire862f9re"
      },
      "source": [
        "(Double click to edit)\n",
        "\n",
        "Your Answer:\n",
        "\n",
        "---"
      ]
    },
    {
      "cell_type": "markdown",
      "metadata": {
        "id": "n4xg_y-xf9re"
      },
      "source": [
        "e: Use your own words, explain what's the difference between Linear Regression, Logistic Regression and Softmax Regression, and why their performance vary with the image classification problem?  (5 pts)"
      ]
    },
    {
      "cell_type": "markdown",
      "metadata": {
        "id": "PMmcfB4Tf9re"
      },
      "source": [
        "(Double click to edit)\n",
        "\n",
        "Your Answer:\n",
        "\n",
        "---"
      ]
    },
    {
      "cell_type": "markdown",
      "metadata": {
        "id": "vvRjtrd4f9re"
      },
      "source": [
        "## Q3: MLP Classifier (40 pts)\n",
        "\n",
        "We will implement an MLP from scratch step by step in the following sections.\n",
        "\n"
      ]
    },
    {
      "cell_type": "markdown",
      "metadata": {
        "id": "m3rzbanGf9re"
      },
      "source": [
        "\n",
        "### Q3.1 Using built-in modules (10 pts)\n",
        "In this question, you will implement a multi-layer perceptron (MLP) classifier using PyTorch's built-in `nn.Linear` and `F.relu` functions.\n",
        "\n",
        "Please refer to [this link](https://colab.research.google.com/github/pytorch/tutorials/blob/gh-pages/_downloads/611efa3e10bb2b546f3a33742edc4ecc/modelsyt_tutorial.ipynb)\n",
        "for model writing.\n",
        "\n",
        "First, define the MLP class and implement the `__init__` method to define the layers of the MLP:"
      ]
    },
    {
      "cell_type": "code",
      "execution_count": null,
      "metadata": {
        "id": "G6z44NO6f9re"
      },
      "outputs": [],
      "source": [
        "class FastMLP(nn.Module):\n",
        "\n",
        "    def __init__(self, input_size, hidden_size, num_classes):\n",
        "        \"\"\"\n",
        "        Initialize an MLP classifier.\n",
        "        You can use Pytorch's built-in nn.Linear function.\n",
        "        Input and output sizes of each layer:\n",
        "          1) fc1: input_size, hidden_size\n",
        "          2) fc2: hidden_size, hidden_size\n",
        "          3) fc3: hidden_size, num_classes\n",
        "\n",
        "        Args:\n",
        "            input_size (int): Size of the input layer.\n",
        "            hidden_size (int): Size of the hidden layer.\n",
        "            num_classes (int): Number of classes in the output layer.\n",
        "        \"\"\"\n",
        "        super().__init__()\n",
        "        self.fc1 = None\n",
        "        self.fc2 = None\n",
        "        self.fc3 = None\n",
        "        ################# Your Implementations #################################\n",
        "        # TODO: Define the layers of the MLP\n",
        "\n",
        "        ################# End of your Implementations ##########################\n",
        "\n",
        "    def forward(self, x):\n",
        "        \"\"\"\n",
        "        Forward pass of the MLP classifier.\n",
        "        Using ReLU as the activation function after each layer, except for the output layer.\n",
        "        Args:\n",
        "            x (torch.Tensor): Input tensor of shape (batch_size, input_size).\n",
        "\n",
        "        Returns:\n",
        "            torch.Tensor: Output tensor of shape (batch_size, num_classes).\n",
        "        \"\"\"\n",
        "        # Hint: call ReLu just by F.relu, where F is imported in the top line of this cell.\n",
        "        ################# Your Implementations #################################\n",
        "        # TODO: Implement the forward pass of the MLP classifier\n",
        "\n",
        "        ################# End of your Implementations ##########################\n",
        "        return x"
      ]
    },
    {
      "cell_type": "markdown",
      "metadata": {
        "id": "6hBl0USdf9re"
      },
      "source": [
        "\n",
        "Then, define the training and evaluation functions to train and test the MLP classifier (You don't need to modify this part):"
      ]
    },
    {
      "cell_type": "code",
      "execution_count": null,
      "metadata": {
        "id": "Yzh9uYBYf9re"
      },
      "outputs": [],
      "source": [
        "def train(model, train_loader, val_loader, optimizer, criterion, device,\n",
        "          num_epochs):\n",
        "    \"\"\"\n",
        "    Train the MLP classifier on the training set and evaluate it on the validation set every epoch.\n",
        "\n",
        "    Args:\n",
        "        model (MLP): MLP classifier to train.\n",
        "        train_loader (torch.utils.data.DataLoader): Data loader for the training set.\n",
        "        val_loader (torch.utils.data.DataLoader): Data loader for the validation set.\n",
        "        optimizer (torch.optim.Optimizer): Optimizer to use for training.\n",
        "        criterion (callable): Loss function to use for training.\n",
        "        device (torch.device): Device to use for training.\n",
        "        num_epochs (int): Number of epochs to train the model.\n",
        "    \"\"\"\n",
        "    # Place model on device\n",
        "    model = model.to(device)\n",
        "\n",
        "    for epoch in range(num_epochs):\n",
        "        model.train()  # Set model to training mode\n",
        "\n",
        "        # Use tqdm to display a progress bar during training\n",
        "        with tqdm(total=len(train_loader),\n",
        "                  desc=f'Epoch {epoch + 1}/{num_epochs}',\n",
        "                  position=0,\n",
        "                  leave=True) as pbar:\n",
        "            for inputs, labels in train_loader:\n",
        "                # Move inputs and labels to device\n",
        "                inputs = inputs.to(device)\n",
        "                labels = labels.to(device)\n",
        "\n",
        "                # Zero out gradients\n",
        "                optimizer.zero_grad()\n",
        "\n",
        "                # Compute the logits and loss\n",
        "                logits = model(inputs)\n",
        "                loss = criterion(logits, labels)\n",
        "\n",
        "                # Backpropagate the loss\n",
        "                loss.backward()\n",
        "\n",
        "                # Update the weights\n",
        "                optimizer.step()\n",
        "\n",
        "                # Update the progress bar\n",
        "                pbar.update(1)\n",
        "                pbar.set_postfix(loss=loss.item())\n",
        "\n",
        "        # Evaluate the model on the validation set\n",
        "        avg_loss, accuracy = evaluate(model, val_loader, criterion, device)\n",
        "        print(\n",
        "            f'Validation set: Average loss = {avg_loss:.4f}, Accuracy = {accuracy:.4f}'\n",
        "        )\n",
        "\n",
        "\n",
        "def evaluate(model, test_loader, criterion, device):\n",
        "    \"\"\"\n",
        "    Evaluate the MLP classifier on the test set.\n",
        "\n",
        "    Args:\n",
        "        model (MLP): MLP classifier to evaluate.\n",
        "        test_loader (torch.utils.data.DataLoader): Data loader for the test set.\n",
        "        criterion (callable): Loss function to use for evaluation.\n",
        "        device (torch.device): Device to use for evaluation.\n",
        "\n",
        "    Returns:\n",
        "        float: Average loss on the test set.\n",
        "        float: Accuracy on the test set.\n",
        "    \"\"\"\n",
        "    model.eval()  # Set model to evaluation mode\n",
        "\n",
        "    with torch.no_grad():\n",
        "        total_loss = 0.0\n",
        "        num_correct = 0\n",
        "        num_samples = 0\n",
        "\n",
        "        for inputs, labels in test_loader:\n",
        "            # Move inputs and labels to device\n",
        "            inputs = inputs.to(device)\n",
        "            labels = labels.to(device)\n",
        "\n",
        "            # Compute the logits and loss\n",
        "            logits = model(inputs)\n",
        "            loss = criterion(logits, labels)\n",
        "            total_loss += loss.item()\n",
        "\n",
        "            # Compute the accuracy\n",
        "            _, predictions = torch.max(logits, dim=1)\n",
        "            num_correct += (predictions == labels).sum().item()\n",
        "            num_samples += len(inputs)\n",
        "\n",
        "    # Compute the average loss and accuracy\n",
        "    avg_loss = total_loss / len(test_loader)\n",
        "    accuracy = num_correct / num_samples\n",
        "\n",
        "    return avg_loss, accuracy"
      ]
    },
    {
      "cell_type": "code",
      "execution_count": null,
      "metadata": {
        "id": "d9L-_sukf9rf"
      },
      "outputs": [],
      "source": [
        "seed_everything(0)\n",
        "\n",
        "# Define the model, optimizer, and criterion (loss_fn)\n",
        "model = FastMLP(input_size=3 * 32 * 32,\n",
        "                hidden_size=1024,\n",
        "                num_classes=len(miniplaces_train.label_dict))\n",
        "\n",
        "optimizer = torch.optim.SGD(model.parameters(), lr=0.01, momentum=0.9)\n",
        "criterion = nn.CrossEntropyLoss()\n",
        "\n",
        "# Train the model\n",
        "train(model,\n",
        "      train_loader,\n",
        "      val_loader,\n",
        "      optimizer,\n",
        "      criterion,\n",
        "      device,\n",
        "      num_epochs=5)"
      ]
    },
    {
      "cell_type": "markdown",
      "metadata": {
        "id": "83OfdmlMf9rf"
      },
      "source": [
        "If everything goes well, you should be getting an accuracy greater than 13%.\n",
        "\n",
        "----\n",
        "Training this small MLP on our dataset can take approximately 10 minutes (5 epochs).\n",
        "\n",
        "Here is a trick for debugging: subsampling the dataset to obtain a small subset (torch.util.data.Subset). But, it's important to compare different methods under the same setting: all models should be trained using the same training set and evaluated on the same validation set.\n",
        "\n",
        "Once you are satisfied with the results, you can change back to the original dataset."
      ]
    },
    {
      "cell_type": "markdown",
      "metadata": {
        "id": "uCNuus0Hf9rf"
      },
      "source": [
        "### Q3.2 Building MLP from scratch (10 pts)\n",
        "\n",
        "In the next task, you will implement your own Multi-Layer Perceptron (MLP) without using built-in PyTorch modules.\n",
        "\n",
        "This task should be relatively straightforward, as you have already implemented most of the required components in Q2. You can simply copy and paste them here. However, be mindful of any changes in the input and output dimensions that may be required for this specific assignment."
      ]
    },
    {
      "cell_type": "code",
      "execution_count": null,
      "metadata": {
        "id": "awF9v_PCf9rf"
      },
      "outputs": [],
      "source": [
        "class MyLinear(nn.Module):\n",
        "\n",
        "    def __init__(self, in_features, out_features):\n",
        "        \"\"\"\n",
        "        Initialize a linear layer.\n",
        "\n",
        "        Args:\n",
        "            in_features (int): Size of the input layer.\n",
        "            out_features (int): Size of the output layer.\n",
        "        \"\"\"\n",
        "        super().__init__()\n",
        "        ################# Your Implementations #################################\n",
        "        # TODO: also try the zero initialization\n",
        "        self.weight = nn.Parameter(\n",
        "            torch.randn(in_features, out_features) * 0.01)\n",
        "        self.bias = nn.Parameter(torch.zeros(out_features))\n",
        "        ################# End of your Implementations ##############################\n",
        "\n",
        "    def forward(self, x):\n",
        "        \"\"\"\n",
        "        Forward pass of the linear layer.\n",
        "\n",
        "        Args:\n",
        "            x (torch.Tensor): Input tensor of shape (batch_size, in_features).\n",
        "\n",
        "        Returns:\n",
        "            torch.Tensor: Output tensor of shape (batch_size, out_features).\n",
        "        \"\"\"\n",
        "        ################# Your Implementations #####################################\n",
        "        # TODO: Implement the forward pass of the linear layer\n",
        "\n",
        "        ################# End of your Implementations ##############################\n",
        "        return out"
      ]
    },
    {
      "cell_type": "markdown",
      "metadata": {
        "id": "f-G0zz1Jf9rf"
      },
      "source": [
        "Recall the definition of ReLu in class. Implement the ReLU activation function:"
      ]
    },
    {
      "cell_type": "code",
      "execution_count": null,
      "metadata": {
        "id": "VnoYSvGJf9rf"
      },
      "outputs": [],
      "source": [
        "def relu(input):\n",
        "    \"\"\"\n",
        "    Apply the ReLU activation function element-wise to the input tensor.\n",
        "\n",
        "    Args:\n",
        "        input (torch.Tensor): Input tensor with any shape.\n",
        "\n",
        "    Returns:\n",
        "        torch.Tensor: Output tensor with the same shape as the input tensor,\n",
        "        containing the element-wise ReLU of the input tensor.\n",
        "    \"\"\"\n",
        "    outputs = None\n",
        "    ################# Your Implementations #####################################\n",
        "\n",
        "    ################# End of your Implementations ##############################\n",
        "    return outputs"
      ]
    },
    {
      "cell_type": "markdown",
      "metadata": {
        "id": "VexL0OAMf9rf"
      },
      "source": [
        "Implement your own MLP using `MyLinear` and your defined `relu`."
      ]
    },
    {
      "cell_type": "code",
      "execution_count": null,
      "metadata": {
        "id": "lA_T4bk5f9rf"
      },
      "outputs": [],
      "source": [
        "class MyMLP(nn.Module):\n",
        "\n",
        "    def __init__(self, input_size, hidden_size, num_classes):\n",
        "        \"\"\"\n",
        "        Initialize an MLP classifier.\n",
        "        You can use Pytorch's built-in nn.Linear function.\n",
        "        Input and output sizes of each layer:\n",
        "          1) fc1: input_size, hidden_size\n",
        "          2) fc2: hidden_size, hidden_size\n",
        "          3) fc3: hidden_size, num_classes\n",
        "\n",
        "        Args:\n",
        "            input_size (int): Size of the input layer.\n",
        "            hidden_size (int): Size of the hidden layer.\n",
        "            num_classes (int): Number of classes in the output layer.\n",
        "        \"\"\"\n",
        "        super().__init__()\n",
        "        self.fc1 = None\n",
        "        self.fc2 = None\n",
        "        self.fc3 = None\n",
        "        ################# Your Implementations #################################\n",
        "        # TODO: Define the layers of the MLP using `MyLinear`\n",
        "\n",
        "        ################# End of your Implementations ##########################\n",
        "\n",
        "    def forward(self, x):\n",
        "        \"\"\"\n",
        "        Forward pass of the MLP classifier.\n",
        "        Using ReLU as the activation function after each layer, except for the output layer.\n",
        "        Args:\n",
        "            x (torch.Tensor): Input tensor of shape (batch_size, input_size).\n",
        "\n",
        "        Returns:\n",
        "            torch.Tensor: Output tensor of shape (batch_size, num_classes).\n",
        "        \"\"\"\n",
        "        ################# Your Implementations #################################\n",
        "        # TODO: Implement the forward pass of the MLP classifier\n",
        "\n",
        "        ################# End of your Implementations ##########################\n",
        "        return x"
      ]
    },
    {
      "cell_type": "markdown",
      "metadata": {
        "id": "j-1BWwrlf9rf"
      },
      "source": [
        "Next, implement your own cross entropy loss using functions defined in Q2."
      ]
    },
    {
      "cell_type": "code",
      "execution_count": null,
      "metadata": {
        "id": "_W4d9SIif9rf"
      },
      "outputs": [],
      "source": [
        "class MyCrossEntropy(nn.Module):\n",
        "\n",
        "    def __init__(self):\n",
        "        super().__init__()\n",
        "\n",
        "    def forward(self, logits, target):\n",
        "        \"\"\"\n",
        "        Calculate the cross entropy loss for the given input and target.\n",
        "\n",
        "        Args:\n",
        "            logits (torch.Tensor): Input tensor with shape (batch_size, output_size).\n",
        "            target (torch.Tensor): Target tensor with shape (batch_size,).\n",
        "\n",
        "        Returns:\n",
        "            torch.Tensor: Cross entropy loss.\n",
        "        \"\"\"\n",
        "        # TODO: use the cross_entropy_loss function in Q2 to complete the loss\n",
        "        ################# Your Implementations ################################\n",
        "\n",
        "        ################# End of your Implementations ##########################\n",
        "        return loss"
      ]
    },
    {
      "cell_type": "markdown",
      "metadata": {
        "id": "RvigKZcyf9rf"
      },
      "source": [
        "Now, test our implementation. You should get similar results as using built-in modules."
      ]
    },
    {
      "cell_type": "code",
      "execution_count": null,
      "metadata": {
        "id": "1EUuCpm9f9rf"
      },
      "outputs": [],
      "source": [
        "seed_everything(0)\n",
        "\n",
        "# Define the model, optimizer, and criterion (loss_fn)\n",
        "model = MyMLP(input_size=3 * 32 * 32,\n",
        "              hidden_size=1024,\n",
        "              num_classes=len(miniplaces_train.label_dict))\n",
        "optimizer = torch.optim.SGD(model.parameters(), lr=0.01, momentum=0.9)\n",
        "\n",
        "# Define a cross entropy loss function using the MyCrossEntropy class\n",
        "criterion = MyCrossEntropy()\n",
        "\n",
        "# train_loader and val_loader have been declared before.\n",
        "# Train the model\n",
        "train(model,\n",
        "      train_loader,\n",
        "      val_loader,\n",
        "      optimizer,\n",
        "      criterion,\n",
        "      device,\n",
        "      num_epochs=5)"
      ]
    },
    {
      "cell_type": "markdown",
      "metadata": {
        "id": "XJsNn3Ahf9rf"
      },
      "source": [
        "If your implementation is correct, you should get a similar validation accuracy (>13%)."
      ]
    },
    {
      "cell_type": "markdown",
      "metadata": {
        "id": "621j3lyHf9rf"
      },
      "source": [
        "### Q3.3 SGD Optimizer (5 pts)\n",
        "\n",
        "In the next task, you will implement the Stochastic Gradient Descent (SGD) optimizer from scratch.\n",
        "\n",
        "Please note that for the purpose of this assignment, we will not be using techniques such as weight decay, damping or Nesterov. There are different variations of SGD implementations, and we have chosen this implementation for its simplicity. The pseudocode provided is a simplified version of the official implementation in PyTorch.\n",
        "\n",
        "Please follow the pseudocode provided to implement the optimizer."
      ]
    },
    {
      "cell_type": "markdown",
      "metadata": {
        "id": "ncVHJTXPf9rf"
      },
      "source": [
        "\\begin{aligned}\n",
        "            &\\rule{110mm}{0.4pt}                                                                 \\\\\n",
        "            &\\textbf{input}      : \\gamma \\text{ (lr)}, \\: \\theta_0 \\text{ (params)}, \\: f(\\theta)\n",
        "                \\text{ (objective)}, \\: \\\\\n",
        "            &\\hspace{13mm} \\:\\mu \\text{ (momentum)},\n",
        "            \\\\[-1.ex]\n",
        "            &\\rule{110mm}{0.4pt}                                                                 \\\\\n",
        "            &\\textbf{for} \\: t=1 \\: \\textbf{to} \\: \\ldots \\: \\textbf{do}                         \\\\\n",
        "            &\\hspace{5mm}\\textbf{g}_t           \\leftarrow   \\nabla_{\\theta} f_t (\\boldsymbol{\\theta}_{t-1})           \\\\\n",
        "            &\\hspace{5mm}\\textbf{if} \\: t > 1                                                   \\\\\n",
        "            &\\hspace{10mm} \\textbf{g}_t \\leftarrow \\mu \\textbf{g}_{t-1} + \\textbf{g}_t           \\\\\n",
        "            &\\hspace{5mm}\\textbf{else}                                                          \\\\\n",
        "            &\\hspace{10mm} \\textbf{g}_t \\leftarrow \\textbf{g}_t                                           \\\\\n",
        "            &\\hspace{5mm}\\boldsymbol{\\theta}_t \\leftarrow \\boldsymbol{\\theta}_{t-1} - \\gamma \\textbf{g}_t                   \\\\[-1.ex]\n",
        "            &\\rule{110mm}{0.4pt}                                                          \\\\[-1.ex]\n",
        "            &\\bf{return} \\:  \\theta_t                                                     \\\\[-1.ex]\n",
        "            &\\rule{110mm}{0.4pt}                                                          \\\\[-1.ex]\n",
        "       \\end{aligned}"
      ]
    },
    {
      "cell_type": "code",
      "execution_count": null,
      "metadata": {
        "id": "ySS-1ctnf9rf"
      },
      "outputs": [],
      "source": [
        "class MySGD():\n",
        "\n",
        "    def __init__(self, params, lr=0.01, momentum=0.9):\n",
        "        \"\"\"\n",
        "        Initialize the MySGD optimizer.\n",
        "        Args:\n",
        "          params (iterable): An iterable of parameters to optimize.\n",
        "          lr (float, optional): learning rate. (default: 0.01)\n",
        "          momentum (float, optional): momentum factor. (default: 0.9)\n",
        "        \"\"\"\n",
        "        self.params = list(params)\n",
        "        self.lr = lr\n",
        "        self.momentum = momentum\n",
        "        self.grad_buffer = {}  # store gradients in the previous step\n",
        "\n",
        "    def zero_grad(self):\n",
        "        # Set the gradients of all parameters to zero.\n",
        "        for param in self.params:\n",
        "            if param.grad is not None:\n",
        "                param.grad.zero_()\n",
        "\n",
        "    def step(self):\n",
        "        \"\"\"\n",
        "        Perform one optimization step on the parameters.\n",
        "        \"\"\"\n",
        "        for i, param in enumerate(self.params):\n",
        "            if param.grad is None:\n",
        "                continue\n",
        "            # use i as a key to retrieve velocity from self.grad_buffer.\n",
        "            # use param.data to update its value.\n",
        "            ################# Your Implementations ################################\n",
        "\n",
        "            ################# End of your Implementations #################\n",
        "            # You don't need to return anything"
      ]
    },
    {
      "cell_type": "markdown",
      "metadata": {
        "id": "d5GN72xGf9rf"
      },
      "source": [
        "Now, test your own implementation. You should get similar results as Q3.2."
      ]
    },
    {
      "cell_type": "code",
      "execution_count": null,
      "metadata": {
        "id": "lc-o2Ywzf9rf"
      },
      "outputs": [],
      "source": [
        "seed_everything(0)\n",
        "\n",
        "# Define the model, optimizer, and criterion (loss_fn)\n",
        "model = MyMLP(input_size=3 * 32 * 32,\n",
        "              hidden_size=1024,\n",
        "              num_classes=len(miniplaces_train.label_dict))\n",
        "optimizer = MySGD(model.parameters(), lr=0.01, momentum=0.9)\n",
        "\n",
        "# Define a cross entropy loss function using the MyCrossEntropy class\n",
        "criterion = MyCrossEntropy()\n",
        "\n",
        "# train_loader and val_loader have been declared before.\n",
        "# Train the model\n",
        "train(model,\n",
        "      train_loader,\n",
        "      val_loader,\n",
        "      optimizer,\n",
        "      criterion,\n",
        "      device,\n",
        "      num_epochs=5)"
      ]
    },
    {
      "cell_type": "markdown",
      "metadata": {
        "id": "vyU4HAlGf9rg"
      },
      "source": [
        "### Q3.4 Adam Optimizer (5 pts)\n"
      ]
    },
    {
      "cell_type": "markdown",
      "metadata": {
        "id": "qdZG7NXnf9rg"
      },
      "source": [
        "----\n",
        "Next, you will implement the Adam optimizer from scratch.\n",
        "\n",
        "Note that here we don't use weight decay or amsgrad here. There are different variants of Adam implementations. We choose this implementation for simplicity. The pseudocode here is a simplified version from the official implementation in Pytorch.\n",
        "\n",
        "Follow the pseudocode provided to implement your own optimizer."
      ]
    },
    {
      "cell_type": "markdown",
      "metadata": {
        "id": "hLJ2_FhZf9rg"
      },
      "source": [
        "\\begin{aligned}\n",
        "            &\\rule{110mm}{0.4pt}                                                                 \\\\\n",
        "            &\\textbf{input}      : \\gamma \\text{ (lr)}, \\beta_1, \\beta_2\n",
        "                \\text{ (betas)},\\theta_0 \\text{ (params)},f(\\theta) \\text{ (objective)}          \\\\\n",
        "            &\\textbf{initialize} :  m_0 \\leftarrow 0 \\text{ ( first moment)},\n",
        "                v_0\\leftarrow 0 \\text{ (second moment)}\\\\[-1.ex]\n",
        "            &\\rule{110mm}{0.4pt}                                                                 \\\\\n",
        "            &\\textbf{for} \\: t=1 \\: \\textbf{to} \\: \\ldots \\: \\textbf{do}                         \\\\\n",
        "            &\\hspace{5mm}g_t           \\leftarrow   \\nabla_{\\theta} f_t (\\theta_{t-1})          \\\\\n",
        "            &\\hspace{5mm}m_t           \\leftarrow   \\beta_1 m_{t-1} + (1 - \\beta_1) g_t          \\\\\n",
        "            &\\hspace{5mm}v_t           \\leftarrow   \\beta_2 v_{t-1} + (1-\\beta_2) g^2_t          \\\\\n",
        "            &\\hspace{5mm}\\widehat{m_t} \\leftarrow   m_t/\\big(1-\\beta_1^t \\big)                   \\\\\n",
        "            &\\hspace{5mm}\\widehat{v_t} \\leftarrow   v_t/\\big(1-\\beta_2^t \\big)                   \\\\\n",
        "            &\\hspace{5mm}\\theta_t \\leftarrow \\theta_{t-1} - \\gamma \\widehat{m_t}/\n",
        "                \\big(\\sqrt{\\hat{v_t}} + \\epsilon \\big)                                       \\\\\n",
        "            &\\rule{110mm}{0.4pt}                                                          \\\\[-1.ex]\n",
        "            &\\bf{return} \\:  \\theta_t                                                     \\\\[-1.ex]\n",
        "            &\\rule{110mm}{0.4pt}                                                          \\\\[-1.ex]\n",
        "       \\end{aligned}"
      ]
    },
    {
      "cell_type": "code",
      "execution_count": null,
      "metadata": {
        "id": "uu97E5Luf9rg"
      },
      "outputs": [],
      "source": [
        "class MyAdam():\n",
        "\n",
        "    def __init__(self, params, lr=0.01, beta1=0.9, beta2=0.999, eps=1e-8):\n",
        "        \"\"\"\n",
        "        Initialize the MyAdam optimizer.\n",
        "        Args:\n",
        "          params (iterable): An iterable of parameters to optimize.\n",
        "          lr (float, optional): learning rate. (default: 0.01)\n",
        "          beta1 (float, optional): first moment factor. (default: 0.9)\n",
        "          beta2 (float, optional): second moment factor. (default: 0.999)\n",
        "          eps (float, optional): term to avoid division by zero. (default: 1e-8)\n",
        "        \"\"\"\n",
        "        self.params = list(params)\n",
        "        self.lr = lr\n",
        "        self.beta1 = beta1\n",
        "        self.beta2 = beta2\n",
        "        self.eps = eps\n",
        "        self.first_moments = {}  # store first moments in the previous step\n",
        "        self.second_moments = {}  # store second moments in the previous step\n",
        "        # Iteration counter\n",
        "        self.t = 0\n",
        "\n",
        "    def zero_grad(self):\n",
        "        # Set the gradients of all parameters to zero.\n",
        "        for param in self.params:\n",
        "            if param.grad is not None:\n",
        "                param.grad.zero_()\n",
        "\n",
        "    def step(self):\n",
        "        self.t += 1\n",
        "        for i, param in enumerate(self.params):\n",
        "            if param.grad is None:\n",
        "                continue\n",
        "            # use i as a key to retrieve velocity from self.first_moments and self.second_moments.\n",
        "            # use param.data to update its value.\n",
        "            ################# Your Implementations ################################\n",
        "\n",
        "            ################# End of your Implementations #################\n",
        "            # You don't need to return anything"
      ]
    },
    {
      "cell_type": "code",
      "execution_count": null,
      "metadata": {
        "id": "UueP9vG3f9rg"
      },
      "outputs": [],
      "source": [
        "seed_everything(0)\n",
        "\n",
        "# Define the model, optimizer, and criterion (loss_fn)\n",
        "model = MyMLP(input_size=3 * 32 * 32,\n",
        "              hidden_size=1024,\n",
        "              num_classes=len(miniplaces_train.label_dict))\n",
        "\n",
        "optimizer = None\n",
        "######## Your own implementation ################\n",
        "optimizer = MyAdam(model.parameters(), lr=0.001)\n",
        "#################################################\n",
        "\n",
        "# Define a cross entropy loss function using the MyCrossEntropy class\n",
        "criterion = None\n",
        "########## Your own implementation ########\n",
        "criterion = MyCrossEntropy()\n",
        "\n",
        "###########################################\n",
        "\n",
        "# train_loader and val_loader have been declared before.\n",
        "# Train the model\n",
        "train(model,\n",
        "      train_loader,\n",
        "      val_loader,\n",
        "      optimizer,\n",
        "      criterion,\n",
        "      device,\n",
        "      num_epochs=5)"
      ]
    },
    {
      "cell_type": "markdown",
      "metadata": {
        "id": "DHAcNK11f9rg"
      },
      "source": [
        "If everything goes well, you should be getting an accuracy greater than 9%."
      ]
    },
    {
      "cell_type": "markdown",
      "metadata": {
        "id": "1zwAorQZf9rg"
      },
      "source": [
        "### Q3.5 Answer the following questions (10pts):"
      ]
    },
    {
      "cell_type": "markdown",
      "metadata": {
        "id": "aunbxsAl3p4n"
      },
      "source": [
        "a. Check the `train` function in Q3.1, in a few words, explain the role of a PyTorch optimizer. (2 pts)"
      ]
    },
    {
      "cell_type": "markdown",
      "metadata": {
        "id": "W-vMkj3E3_Wu"
      },
      "source": [
        "(Double click to edit)\n",
        "\n",
        "Your answer:\n",
        "\n",
        "---"
      ]
    },
    {
      "cell_type": "markdown",
      "metadata": {
        "id": "EzMKugBwf9rg"
      },
      "source": [
        "b. In Q3.2, try using zero initialization for the weight and bias. What result did you observe? Can you explain why you observe such results? (4 pts)"
      ]
    },
    {
      "cell_type": "markdown",
      "metadata": {
        "id": "Lhpzna26ypW8"
      },
      "source": [
        "(Double click to edit)\n",
        "\n",
        "Your answer:\n",
        "\n",
        "---"
      ]
    },
    {
      "cell_type": "markdown",
      "metadata": {
        "id": "6t5BV1k9yqBt"
      },
      "source": [
        "c. Compare the performance between using MLPs and the softmax regression in Q2. In 1-2 sentences, explain why using MLPs leads to a better performance. (4 pts)"
      ]
    },
    {
      "cell_type": "markdown",
      "metadata": {
        "id": "ctN__LgPy548"
      },
      "source": [
        "(Double click to edit)\n",
        "\n",
        "Your answer:\n",
        "\n",
        "---"
      ]
    },
    {
      "cell_type": "markdown",
      "metadata": {
        "id": "4pSurRsp0Ush"
      },
      "source": [
        "Congratulations! You have done a great job in completing Assignment 1. In the Assigment 2, we will explore using convolutional neural networks for image classificiation which would lead to even better performance!"
      ]
    }
  ],
  "metadata": {
    "colab": {
      "provenance": []
    },
    "kernelspec": {
      "display_name": "Python 3",
      "name": "python3"
    },
    "language_info": {
      "codemirror_mode": {
        "name": "ipython",
        "version": 3
      },
      "file_extension": ".py",
      "mimetype": "text/x-python",
      "name": "python",
      "nbconvert_exporter": "python",
      "pygments_lexer": "ipython3",
      "version": "3.10.13"
    }
  },
  "nbformat": 4,
  "nbformat_minor": 0
}
